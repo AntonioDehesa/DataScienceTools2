{
 "cells": [
  {
   "cell_type": "code",
   "execution_count": 1,
   "id": "e7442b72-c0d1-4bb5-b796-fa2fb063acae",
   "metadata": {},
   "outputs": [],
   "source": [
    "# Imports\n",
    "import numpy as np\n",
    "import pandas as pd\n",
    "import math"
   ]
  },
  {
   "cell_type": "markdown",
   "id": "bd848ecb-c7a5-4036-b614-d50814d128f2",
   "metadata": {},
   "source": [
    "# Question 1"
   ]
  },
  {
   "cell_type": "markdown",
   "id": "58c2356f-db10-4fdb-81d3-3a3c101478ac",
   "metadata": {},
   "source": [
    "You are provided with the following training data set  \n",
    "|           | refund     | marital_status  | income_above_80k | cheat      |\r\n",
    "|-----------|------------|-----------------|------------------|------------|\r\n",
    "|     1     |     yes    |     single      |     yes          |     no     |\r\n",
    "|     2     |     no     |     married     |     yes          |     no     |\r\n",
    "|     3     |     no     |     single      |     no           |     no     |\r\n",
    "|     4     |     yes    |     married     |     yes          |     no     |\r\n",
    "|     5     |     no     |     divorced    |     yes          |     yes    |\r\n",
    "|     6     |     no     |     married     |     no           |     no     |\r\n",
    "|     7     |     yes    |     divorced    |     yes          |     no     |\r\n",
    "|     8     |     no     |     single      |     yes          |     yes    |\r\n",
    "|     9     |     no     |     married     |     no           |     no     |\r\n",
    "|     10    |     no     |     single      |     yes          |     yes    |gle\tyes\tyes\r\n",
    "The data is to be used to predict whether individuals will cheat in filing their taxes or not. The attributes are refund, indicating whether an individual received tax refund or not, marital_status indicating whether the individual is married, single, or divorced, the income_above_80k, indicating whether an individual’s taxable income is above $80,000 or not. The output variable, cheat, is a binary variable indicating whether an individual cheated in filing taxes or not. \r\n",
    "The following decision tree can be used to extract the classification rulefor the data provided. \r\n"
   ]
  },
  {
   "cell_type": "markdown",
   "id": "754cd33d-3ec9-45f9-b55e-78c827fd8110",
   "metadata": {},
   "source": [
    "![Decision Tree](./decisiontree.png)"
   ]
  },
  {
   "cell_type": "markdown",
   "id": "0920fdd1-594d-43c5-8e07-93dc7ec8de11",
   "metadata": {},
   "source": [
    "## A\n",
    "Write an IF-THEN rule derived from this decision tree, that can be used to classify instances in the data suppose your desire is to predict “yes” for the output variable. "
   ]
  },
  {
   "cell_type": "markdown",
   "id": "55f5bcdd-cf88-414b-bfaf-3d144a04a5a2",
   "metadata": {},
   "source": [
    "Rule 1:\n",
    "IF Refund == \"YES\"\n",
    "Then Predict == \"No\"\n",
    "\n",
    "Rule 2: \n",
    "IF Refund == \"No\"\n",
    "AND Income_above_80k == \"No\"\n",
    "Then Predict == \"No\"\n",
    "\n",
    "Rule 3:\n",
    "IF Refund == \"No\"\n",
    "AND Income_above_80k == \"Yes\"\n",
    "AND Marital_status == \"Married\"\n",
    "Then Predict == \"No\"\n",
    "\n",
    "Rule 4:\n",
    "IF Refund == \"No\"\n",
    "AND Income_above_80k == \"Yes\"\n",
    "AND Marital_status == \"Single or divorced\"\n",
    "Then Predict == \"Yes\"\n",
    "\n",
    "Rule set:\n",
    "{Rule 1 & Rule 2 & Rule 3 | Rule 4}\n",
    "\n",
    "However, we can see that rule 4 is the best rule, as it directly predicts the output without the need of the other 3 rules."
   ]
  },
  {
   "cell_type": "markdown",
   "id": "fa923e1d-2ed3-42cf-a67e-8762e27d9e8d",
   "metadata": {},
   "source": [
    "## B \n",
    "In code, create a function with an if-else statement to implement the rule you wrote above in question 1a. You can name the function predict. The function takes the input data and returns a vector of predicted output values. You can decide if you want your function’s input data argument to be a numpy array or a data frame, ,then structure your function body to process the input data accordingly. Provide some brief document of your function. You can loop through each instance in the input data and assess whether the instance satisfies the rule for predicting “yes” or not. If the instance satisfies the rule for predicting “yes”, then predict 1, otherwise, predict 0. "
   ]
  },
  {
   "cell_type": "code",
   "execution_count": 2,
   "id": "4ca72c4c-7818-4187-a49d-60617d3acc53",
   "metadata": {},
   "outputs": [],
   "source": [
    "def predict(df):\n",
    "    \"\"\"\n",
    "    Description:\n",
    "\n",
    "    Predicts whether an individual will cheat on their taxes or not\n",
    "\n",
    "    Inputs:\n",
    "\n",
    "    Receives a Pandas DataFrame\n",
    "\n",
    "    Outputs:\n",
    "\n",
    "    Outputs a Numpy array of type in\n",
    "    \"\"\"\n",
    "    # Create an empty array filled with NAN. Those that remain as NAN were not affected by the rule, which can be used for coverage\n",
    "    result = np.full(df.shape[0], np.nan)\n",
    "    for i in df.index:\n",
    "        if (df[\"refund\"][i] == \"Yes\"):\n",
    "            result[i-1] = 0\n",
    "        else:\n",
    "            if (df[\"income_above_80k\"][i] == \"No\"):\n",
    "                result[i-1] = 0\n",
    "            else:\n",
    "                if (df[\"Marital_status\"][i] == \"Married\"):\n",
    "                    result[i-1] = 0\n",
    "                else:\n",
    "                    result[i-1] = 1\n",
    "    # This could simply be substituted by:\n",
    "    # for i in df.index:\n",
    "    #     if (df[\"refund\"][i] == \"No\") & (df[\"income_above_80k\"][i] == \"Yes\") & ((df[\"Marital_status\"][i] == \"Single\") | (df[\"Marital_status\"][i] == \"Divorced\")):\n",
    "    #         result.append(1)\n",
    "    #     else:\n",
    "    #         result.append(0)\n",
    "    return result.astype(int)"
   ]
  },
  {
   "cell_type": "markdown",
   "id": "77f77b15-e219-4c1d-b564-3e0535d8eb7b",
   "metadata": {},
   "source": [
    "## C\n",
    "Create another function that implements the rule for predicting “yes” for the output, but this time, you will not use if-else statement or a loop. Rather use numpy arrays, matrices or vector to vectorize your code for faster and more efficient implementation. If the instance satisfies the rule for predicting “yes”, then predict 1, otherwise, predict 0. You can use logical operators for such implementation to compare values of test instances to values of attributes in the rule. This function still takes the input data and returns a vector of predicted values. You can call this function vectorized_predict. "
   ]
  },
  {
   "cell_type": "code",
   "execution_count": 3,
   "id": "44b18fb9-4faa-4ace-9a02-7a51e57e7ddb",
   "metadata": {},
   "outputs": [],
   "source": [
    "def vectorized_predict(df):\n",
    "    \"\"\"\n",
    "    Description:\n",
    "\n",
    "    Predicts whether an individual will cheat on their taxes or not\n",
    "\n",
    "    Inputs:\n",
    "\n",
    "    Receives a Pandas DataFrame\n",
    "\n",
    "    Outputs:\n",
    "\n",
    "    Outputs a Numpy array of type in\n",
    "    \"\"\"\n",
    "    result = []\n",
    "    #rule_1 = (df[\"refund\"] == \"Yes\")\n",
    "    #rule_2 = (df[\"refund\"] == \"No\") & (df[\"income_above_80k\"] == \"No\")\n",
    "    #rule_3 = (df[\"refund\"] == \"No\") & (df[\"income_above_80k\"] == \"Yes\") & (df[\"Marital_status\"] == \"Married\")\n",
    "    rule_4 = (df[\"refund\"] == \"No\") & (df[\"income_above_80k\"] == \"Yes\") & ((df[\"Marital_status\"] == \"Single\") | (df[\"Marital_status\"] == \"Divorced\"))\n",
    "    #predicted_no_filter = rule_1 & rule_2 & rule_3\n",
    "    predicted_yes_filter = rule_4\n",
    "    result = np.where(predicted_yes_filter,1,0)\n",
    "    return result"
   ]
  },
  {
   "cell_type": "markdown",
   "id": "91f01941-ba33-4bf9-9222-48f275ec67fb",
   "metadata": {},
   "source": [
    "## D\n",
    "Select the input data (refund, marital_status, income_above_80k) in the training data and apply your predict function to the input data to predict the outcome values of the input data. Your function should return a vector of predicted values. "
   ]
  },
  {
   "cell_type": "code",
   "execution_count": 4,
   "id": "a84bf450-bd1f-4dac-a921-21437482ffa4",
   "metadata": {},
   "outputs": [
    {
     "data": {
      "text/html": [
       "<div>\n",
       "<style scoped>\n",
       "    .dataframe tbody tr th:only-of-type {\n",
       "        vertical-align: middle;\n",
       "    }\n",
       "\n",
       "    .dataframe tbody tr th {\n",
       "        vertical-align: top;\n",
       "    }\n",
       "\n",
       "    .dataframe thead th {\n",
       "        text-align: right;\n",
       "    }\n",
       "</style>\n",
       "<table border=\"1\" class=\"dataframe\">\n",
       "  <thead>\n",
       "    <tr style=\"text-align: right;\">\n",
       "      <th></th>\n",
       "      <th>refund</th>\n",
       "      <th>Marital_status</th>\n",
       "      <th>income_above_80k</th>\n",
       "      <th>cheat</th>\n",
       "    </tr>\n",
       "  </thead>\n",
       "  <tbody>\n",
       "    <tr>\n",
       "      <th>1</th>\n",
       "      <td>Yes</td>\n",
       "      <td>Single</td>\n",
       "      <td>Yes</td>\n",
       "      <td>No</td>\n",
       "    </tr>\n",
       "    <tr>\n",
       "      <th>2</th>\n",
       "      <td>No</td>\n",
       "      <td>Married</td>\n",
       "      <td>Yes</td>\n",
       "      <td>No</td>\n",
       "    </tr>\n",
       "    <tr>\n",
       "      <th>3</th>\n",
       "      <td>No</td>\n",
       "      <td>Single</td>\n",
       "      <td>No</td>\n",
       "      <td>No</td>\n",
       "    </tr>\n",
       "    <tr>\n",
       "      <th>4</th>\n",
       "      <td>Yes</td>\n",
       "      <td>Married</td>\n",
       "      <td>Yes</td>\n",
       "      <td>No</td>\n",
       "    </tr>\n",
       "    <tr>\n",
       "      <th>5</th>\n",
       "      <td>No</td>\n",
       "      <td>Divorced</td>\n",
       "      <td>Yes</td>\n",
       "      <td>Yes</td>\n",
       "    </tr>\n",
       "    <tr>\n",
       "      <th>6</th>\n",
       "      <td>No</td>\n",
       "      <td>Married</td>\n",
       "      <td>No</td>\n",
       "      <td>No</td>\n",
       "    </tr>\n",
       "    <tr>\n",
       "      <th>7</th>\n",
       "      <td>Yes</td>\n",
       "      <td>Divorced</td>\n",
       "      <td>Yes</td>\n",
       "      <td>No</td>\n",
       "    </tr>\n",
       "    <tr>\n",
       "      <th>8</th>\n",
       "      <td>No</td>\n",
       "      <td>Single</td>\n",
       "      <td>Yes</td>\n",
       "      <td>Yes</td>\n",
       "    </tr>\n",
       "    <tr>\n",
       "      <th>9</th>\n",
       "      <td>No</td>\n",
       "      <td>Married</td>\n",
       "      <td>No</td>\n",
       "      <td>No</td>\n",
       "    </tr>\n",
       "    <tr>\n",
       "      <th>10</th>\n",
       "      <td>No</td>\n",
       "      <td>Single</td>\n",
       "      <td>Yes</td>\n",
       "      <td>Yes</td>\n",
       "    </tr>\n",
       "  </tbody>\n",
       "</table>\n",
       "</div>"
      ],
      "text/plain": [
       "   refund Marital_status income_above_80k cheat\n",
       "1     Yes         Single              Yes    No\n",
       "2      No        Married              Yes    No\n",
       "3      No         Single               No    No\n",
       "4     Yes        Married              Yes    No\n",
       "5      No       Divorced              Yes   Yes\n",
       "6      No        Married               No    No\n",
       "7     Yes       Divorced              Yes    No\n",
       "8      No         Single              Yes   Yes\n",
       "9      No        Married               No    No\n",
       "10     No         Single              Yes   Yes"
      ]
     },
     "execution_count": 4,
     "metadata": {},
     "output_type": "execute_result"
    }
   ],
   "source": [
    "refund = np.array([\"Yes\", \"No\", \"No\", \"Yes\", \"No\", \"No\", \"Yes\", \"No\", \"No\", \"No\"])\n",
    "marital_status = np.array([\"Single\", \"Married\", \"Single\", \"Married\", \"Divorced\", \"Married\", \"Divorced\", \"Single\", \"Married\", \"Single\"])\n",
    "income_above_80k = np.array([\"Yes\", \"Yes\",\"No\", \"Yes\", \"Yes\",\"No\", \"Yes\", \"Yes\",\"No\", \"Yes\"])\n",
    "cheat = np.array([\"No\", \"No\", \"No\", \"No\", \"Yes\", \"No\", \"No\", \"Yes\", \"No\", \"Yes\"])\n",
    "data = pd.DataFrame(data = [refund, marital_status, income_above_80k, cheat])\n",
    "data = data.T\n",
    "# Index is increased by one to match the provided dataset\n",
    "data.index+=1\n",
    "data.columns = [\"refund\", \"Marital_status\", \"income_above_80k\", \"cheat\"]\n",
    "data"
   ]
  },
  {
   "cell_type": "code",
   "execution_count": 5,
   "id": "09195de1-3699-43c4-aa24-f8fd0f83dddd",
   "metadata": {},
   "outputs": [
    {
     "data": {
      "text/plain": [
       "array([0, 0, 0, 0, 1, 0, 0, 1, 0, 1])"
      ]
     },
     "execution_count": 5,
     "metadata": {},
     "output_type": "execute_result"
    }
   ],
   "source": [
    "predict(data)"
   ]
  },
  {
   "cell_type": "markdown",
   "id": "b79dbc07-2d07-4e02-9890-333430d4c7c3",
   "metadata": {},
   "source": [
    "## E\n",
    "Select the input data (refund, marital_status, income_above_80k) in the training data and apply your vectorized_predict function to the input data to predict the outcome values of the input data. Your function should return a vector of predicted values. Are the predicted values with the vectorized_predict function the same as the predicted values obtained through the predict function? (you should have the same results). "
   ]
  },
  {
   "cell_type": "code",
   "execution_count": 6,
   "id": "2e98804b-1249-423e-86f6-cc7da327ca74",
   "metadata": {},
   "outputs": [
    {
     "data": {
      "text/plain": [
       "array([0, 0, 0, 0, 1, 0, 0, 1, 0, 1])"
      ]
     },
     "execution_count": 6,
     "metadata": {},
     "output_type": "execute_result"
    }
   ],
   "source": [
    "vectorized_predict(data)"
   ]
  },
  {
   "cell_type": "code",
   "execution_count": 7,
   "id": "28a54339-5777-4731-b0a3-464d04bb12ff",
   "metadata": {},
   "outputs": [
    {
     "data": {
      "text/plain": [
       "array([ True,  True,  True,  True,  True,  True,  True,  True,  True,\n",
       "        True])"
      ]
     },
     "execution_count": 7,
     "metadata": {},
     "output_type": "execute_result"
    }
   ],
   "source": [
    "predict(data) == vectorized_predict(data)"
   ]
  },
  {
   "cell_type": "markdown",
   "id": "9498c19c-1bb2-4f30-8477-363c00c62717",
   "metadata": {},
   "source": [
    "## F\n",
    "Include the predicted values as a column to the training data and name that column predicted_cheat. "
   ]
  },
  {
   "cell_type": "code",
   "execution_count": 8,
   "id": "b9197fea-c02f-4eb9-9bab-d68aa304708d",
   "metadata": {},
   "outputs": [
    {
     "data": {
      "text/html": [
       "<div>\n",
       "<style scoped>\n",
       "    .dataframe tbody tr th:only-of-type {\n",
       "        vertical-align: middle;\n",
       "    }\n",
       "\n",
       "    .dataframe tbody tr th {\n",
       "        vertical-align: top;\n",
       "    }\n",
       "\n",
       "    .dataframe thead th {\n",
       "        text-align: right;\n",
       "    }\n",
       "</style>\n",
       "<table border=\"1\" class=\"dataframe\">\n",
       "  <thead>\n",
       "    <tr style=\"text-align: right;\">\n",
       "      <th></th>\n",
       "      <th>refund</th>\n",
       "      <th>Marital_status</th>\n",
       "      <th>income_above_80k</th>\n",
       "      <th>cheat</th>\n",
       "      <th>predicted_cheat</th>\n",
       "    </tr>\n",
       "  </thead>\n",
       "  <tbody>\n",
       "    <tr>\n",
       "      <th>1</th>\n",
       "      <td>Yes</td>\n",
       "      <td>Single</td>\n",
       "      <td>Yes</td>\n",
       "      <td>No</td>\n",
       "      <td>0</td>\n",
       "    </tr>\n",
       "    <tr>\n",
       "      <th>2</th>\n",
       "      <td>No</td>\n",
       "      <td>Married</td>\n",
       "      <td>Yes</td>\n",
       "      <td>No</td>\n",
       "      <td>0</td>\n",
       "    </tr>\n",
       "    <tr>\n",
       "      <th>3</th>\n",
       "      <td>No</td>\n",
       "      <td>Single</td>\n",
       "      <td>No</td>\n",
       "      <td>No</td>\n",
       "      <td>0</td>\n",
       "    </tr>\n",
       "    <tr>\n",
       "      <th>4</th>\n",
       "      <td>Yes</td>\n",
       "      <td>Married</td>\n",
       "      <td>Yes</td>\n",
       "      <td>No</td>\n",
       "      <td>0</td>\n",
       "    </tr>\n",
       "    <tr>\n",
       "      <th>5</th>\n",
       "      <td>No</td>\n",
       "      <td>Divorced</td>\n",
       "      <td>Yes</td>\n",
       "      <td>Yes</td>\n",
       "      <td>1</td>\n",
       "    </tr>\n",
       "    <tr>\n",
       "      <th>6</th>\n",
       "      <td>No</td>\n",
       "      <td>Married</td>\n",
       "      <td>No</td>\n",
       "      <td>No</td>\n",
       "      <td>0</td>\n",
       "    </tr>\n",
       "    <tr>\n",
       "      <th>7</th>\n",
       "      <td>Yes</td>\n",
       "      <td>Divorced</td>\n",
       "      <td>Yes</td>\n",
       "      <td>No</td>\n",
       "      <td>0</td>\n",
       "    </tr>\n",
       "    <tr>\n",
       "      <th>8</th>\n",
       "      <td>No</td>\n",
       "      <td>Single</td>\n",
       "      <td>Yes</td>\n",
       "      <td>Yes</td>\n",
       "      <td>1</td>\n",
       "    </tr>\n",
       "    <tr>\n",
       "      <th>9</th>\n",
       "      <td>No</td>\n",
       "      <td>Married</td>\n",
       "      <td>No</td>\n",
       "      <td>No</td>\n",
       "      <td>0</td>\n",
       "    </tr>\n",
       "    <tr>\n",
       "      <th>10</th>\n",
       "      <td>No</td>\n",
       "      <td>Single</td>\n",
       "      <td>Yes</td>\n",
       "      <td>Yes</td>\n",
       "      <td>1</td>\n",
       "    </tr>\n",
       "  </tbody>\n",
       "</table>\n",
       "</div>"
      ],
      "text/plain": [
       "   refund Marital_status income_above_80k cheat  predicted_cheat\n",
       "1     Yes         Single              Yes    No                0\n",
       "2      No        Married              Yes    No                0\n",
       "3      No         Single               No    No                0\n",
       "4     Yes        Married              Yes    No                0\n",
       "5      No       Divorced              Yes   Yes                1\n",
       "6      No        Married               No    No                0\n",
       "7     Yes       Divorced              Yes    No                0\n",
       "8      No         Single              Yes   Yes                1\n",
       "9      No        Married               No    No                0\n",
       "10     No         Single              Yes   Yes                1"
      ]
     },
     "execution_count": 8,
     "metadata": {},
     "output_type": "execute_result"
    }
   ],
   "source": [
    "data[\"predicted_cheat\"] = vectorized_predict(data)\n",
    "data"
   ]
  },
  {
   "cell_type": "markdown",
   "id": "9fe5210e-5872-42df-ae61-e509363e171f",
   "metadata": {},
   "source": [
    "## G\n",
    "Create a function that computes the overall accuracy of the classification. You can call this function overall_accuracy. The function should take two arguments, a vector of  actual output values and a vector of predicted output values, then returns the classification accuracy. Inside the function, you can use boolean logic to compare the actual and predicted values, then count the proportion of how many predicted values are equal to the actual values to get the overall accuracy. "
   ]
  },
  {
   "cell_type": "code",
   "execution_count": 9,
   "id": "fdb0717b-6d72-49d9-89cf-efb2530d79c1",
   "metadata": {},
   "outputs": [],
   "source": [
    "def overall_accuracy(actual_output, predicted_output):\n",
    "    \"\"\"\n",
    "    Description:\n",
    "\n",
    "    Calculates the accuracy for the predicted values using the real values\n",
    "\n",
    "    Inputs:\n",
    "\n",
    "    Receives two vectors, one for the actual output, and one for the predicted output\n",
    "\n",
    "    Outputs:\n",
    "\n",
    "    Outputs the overall accuracy as a float\n",
    "    \"\"\"\n",
    "    # Create an intermediary dataframe for easier manipulation\n",
    "    temp = pd.DataFrame(data = [actual_output, predicted_output]).T\n",
    "    temp.columns = [\"Actual\", \"Predicted\"]\n",
    "    # Check the elements that were actually affected / covered by the rule\n",
    "    temp = temp[temp[\"Predicted\"].notna()].reset_index()\n",
    "    instances_covered_by_rules = temp.shape[0]\n",
    "    # Change from 0 to No. If it is already a no or yes, it does nothing\n",
    "    temp[\"Predicted\"] = np.where(temp[\"Predicted\"] == 0, \"No\", \"Yes\")\n",
    "    # Checks where the predicted equals the actual output\n",
    "    correctly_classified = (temp.loc[(temp['Predicted'] == temp['Actual'])]).shape[0]\n",
    "    return correctly_classified / instances_covered_by_rules"
   ]
  },
  {
   "cell_type": "code",
   "execution_count": 10,
   "id": "163ab26b-a0b1-463f-a103-004e25e884b6",
   "metadata": {},
   "outputs": [
    {
     "data": {
      "text/plain": [
       "1.0"
      ]
     },
     "execution_count": 10,
     "metadata": {},
     "output_type": "execute_result"
    }
   ],
   "source": [
    "overall_accuracy(data[\"cheat\"], data[\"predicted_cheat\"])"
   ]
  },
  {
   "cell_type": "markdown",
   "id": "84524ac9-2d0b-4209-81b8-e933b195cd19",
   "metadata": {},
   "source": [
    "## H\n",
    "Create a confusion matrix using the predicted and actual output values. You can use pandas crosstab function. "
   ]
  },
  {
   "cell_type": "code",
   "execution_count": 11,
   "id": "04de84f1-3769-4ce4-bda9-869aa56ce700",
   "metadata": {},
   "outputs": [
    {
     "data": {
      "text/html": [
       "<div>\n",
       "<style scoped>\n",
       "    .dataframe tbody tr th:only-of-type {\n",
       "        vertical-align: middle;\n",
       "    }\n",
       "\n",
       "    .dataframe tbody tr th {\n",
       "        vertical-align: top;\n",
       "    }\n",
       "\n",
       "    .dataframe thead th {\n",
       "        text-align: right;\n",
       "    }\n",
       "</style>\n",
       "<table border=\"1\" class=\"dataframe\">\n",
       "  <thead>\n",
       "    <tr style=\"text-align: right;\">\n",
       "      <th>predicted_cheat</th>\n",
       "      <th>No</th>\n",
       "      <th>Yes</th>\n",
       "    </tr>\n",
       "    <tr>\n",
       "      <th>cheat</th>\n",
       "      <th></th>\n",
       "      <th></th>\n",
       "    </tr>\n",
       "  </thead>\n",
       "  <tbody>\n",
       "    <tr>\n",
       "      <th>No</th>\n",
       "      <td>7</td>\n",
       "      <td>0</td>\n",
       "    </tr>\n",
       "    <tr>\n",
       "      <th>Yes</th>\n",
       "      <td>0</td>\n",
       "      <td>3</td>\n",
       "    </tr>\n",
       "  </tbody>\n",
       "</table>\n",
       "</div>"
      ],
      "text/plain": [
       "predicted_cheat  No  Yes\n",
       "cheat                   \n",
       "No                7    0\n",
       "Yes               0    3"
      ]
     },
     "execution_count": 11,
     "metadata": {},
     "output_type": "execute_result"
    }
   ],
   "source": [
    "data[\"predicted_cheat\"] = np.where(data[\"predicted_cheat\"] == 0, \"No\", \"Yes\")\n",
    "pd.crosstab(data[\"cheat\"], data[\"predicted_cheat\"])"
   ]
  },
  {
   "cell_type": "markdown",
   "id": "8674e716-613d-47e9-b7d7-32218208b001",
   "metadata": {},
   "source": [
    "## I\n",
    "Supose the test set data is as follows. \n",
    "\n",
    "|           | refund     | marital_status  | income_above_80k | cheat      |\n",
    "|-----------|------------|-----------------|------------------|------------|\n",
    "|     1     |     no     |     single      |     yes          |     no     |\n",
    "|     2     |     no     |     single      |     yes          |     no     |\n",
    "|     3     |     no     |     married     |     yes          |     no     |\n",
    "|     4     |     no     |     divorced    |     no           |     no     |\n",
    "|     5     |     no     |     married     |     yes          |     no     |\n",
    "|     6     |     no     |     single      |     yes          |     no     |\n",
    "|     7     |     yes    |     single      |     yes          |     no     |\n",
    "|     8     |     no     |     single      |     yes          |     yes    |\n",
    "|     9     |     yes    |     married     |     yes          |     yes    |\n",
    "|     10    |     yes    |     single      |     no           |     yes    |\n",
    "\n",
    "Apply the vectorized_predict function to the input of the test dataset to predict the output values for the test dataset. Include these predicted values as a column to the test dataset and called this column predicted_cheat. "
   ]
  },
  {
   "cell_type": "code",
   "execution_count": 12,
   "id": "1fd59ebc-eadc-4a38-97c6-98ff2d03dadb",
   "metadata": {},
   "outputs": [
    {
     "data": {
      "text/html": [
       "<div>\n",
       "<style scoped>\n",
       "    .dataframe tbody tr th:only-of-type {\n",
       "        vertical-align: middle;\n",
       "    }\n",
       "\n",
       "    .dataframe tbody tr th {\n",
       "        vertical-align: top;\n",
       "    }\n",
       "\n",
       "    .dataframe thead th {\n",
       "        text-align: right;\n",
       "    }\n",
       "</style>\n",
       "<table border=\"1\" class=\"dataframe\">\n",
       "  <thead>\n",
       "    <tr style=\"text-align: right;\">\n",
       "      <th></th>\n",
       "      <th>refund</th>\n",
       "      <th>Marital_status</th>\n",
       "      <th>income_above_80k</th>\n",
       "      <th>cheat</th>\n",
       "    </tr>\n",
       "  </thead>\n",
       "  <tbody>\n",
       "    <tr>\n",
       "      <th>1</th>\n",
       "      <td>No</td>\n",
       "      <td>Single</td>\n",
       "      <td>Yes</td>\n",
       "      <td>No</td>\n",
       "    </tr>\n",
       "    <tr>\n",
       "      <th>2</th>\n",
       "      <td>No</td>\n",
       "      <td>Single</td>\n",
       "      <td>Yes</td>\n",
       "      <td>No</td>\n",
       "    </tr>\n",
       "    <tr>\n",
       "      <th>3</th>\n",
       "      <td>No</td>\n",
       "      <td>Married</td>\n",
       "      <td>Yes</td>\n",
       "      <td>No</td>\n",
       "    </tr>\n",
       "    <tr>\n",
       "      <th>4</th>\n",
       "      <td>No</td>\n",
       "      <td>Divorced</td>\n",
       "      <td>No</td>\n",
       "      <td>No</td>\n",
       "    </tr>\n",
       "    <tr>\n",
       "      <th>5</th>\n",
       "      <td>No</td>\n",
       "      <td>Married</td>\n",
       "      <td>Yes</td>\n",
       "      <td>No</td>\n",
       "    </tr>\n",
       "    <tr>\n",
       "      <th>6</th>\n",
       "      <td>No</td>\n",
       "      <td>Single</td>\n",
       "      <td>Yes</td>\n",
       "      <td>No</td>\n",
       "    </tr>\n",
       "    <tr>\n",
       "      <th>7</th>\n",
       "      <td>Yes</td>\n",
       "      <td>Single</td>\n",
       "      <td>Yes</td>\n",
       "      <td>No</td>\n",
       "    </tr>\n",
       "    <tr>\n",
       "      <th>8</th>\n",
       "      <td>No</td>\n",
       "      <td>Single</td>\n",
       "      <td>Yes</td>\n",
       "      <td>Yes</td>\n",
       "    </tr>\n",
       "    <tr>\n",
       "      <th>9</th>\n",
       "      <td>Yes</td>\n",
       "      <td>Married</td>\n",
       "      <td>Yes</td>\n",
       "      <td>Yes</td>\n",
       "    </tr>\n",
       "    <tr>\n",
       "      <th>10</th>\n",
       "      <td>Yes</td>\n",
       "      <td>Single</td>\n",
       "      <td>No</td>\n",
       "      <td>Yes</td>\n",
       "    </tr>\n",
       "  </tbody>\n",
       "</table>\n",
       "</div>"
      ],
      "text/plain": [
       "   refund Marital_status income_above_80k cheat\n",
       "1      No         Single              Yes    No\n",
       "2      No         Single              Yes    No\n",
       "3      No        Married              Yes    No\n",
       "4      No       Divorced               No    No\n",
       "5      No        Married              Yes    No\n",
       "6      No         Single              Yes    No\n",
       "7     Yes         Single              Yes    No\n",
       "8      No         Single              Yes   Yes\n",
       "9     Yes        Married              Yes   Yes\n",
       "10    Yes         Single               No   Yes"
      ]
     },
     "execution_count": 12,
     "metadata": {},
     "output_type": "execute_result"
    }
   ],
   "source": [
    "refund = np.array([\"No\", \"No\", \"No\", \"No\", \"No\", \"No\",\"Yes\", \"No\", \"Yes\", \"Yes\"])\n",
    "marital_status = np.array([\"Single\", \"Single\", \"Married\", \"Divorced\", \"Married\", \"Single\", \"Single\", \"Single\",\"Married\", \"Single\"])\n",
    "income_above_80k = np.array([\"Yes\", \"Yes\", \"Yes\",\"No\", \"Yes\", \"Yes\", \"Yes\", \"Yes\", \"Yes\",\"No\"])\n",
    "cheat = np.array([\"No\", \"No\", \"No\", \"No\", \"No\", \"No\", \"No\", \"Yes\", \"Yes\", \"Yes\"])\n",
    "test = pd.DataFrame(data = [refund, marital_status, income_above_80k, cheat])\n",
    "test = test.T\n",
    "test.index+=1\n",
    "test.columns = [\"refund\", \"Marital_status\", \"income_above_80k\", \"cheat\"]\n",
    "test"
   ]
  },
  {
   "cell_type": "code",
   "execution_count": 13,
   "id": "439d9507-c33b-44e2-b87d-d830631ac4f2",
   "metadata": {},
   "outputs": [
    {
     "data": {
      "text/html": [
       "<div>\n",
       "<style scoped>\n",
       "    .dataframe tbody tr th:only-of-type {\n",
       "        vertical-align: middle;\n",
       "    }\n",
       "\n",
       "    .dataframe tbody tr th {\n",
       "        vertical-align: top;\n",
       "    }\n",
       "\n",
       "    .dataframe thead th {\n",
       "        text-align: right;\n",
       "    }\n",
       "</style>\n",
       "<table border=\"1\" class=\"dataframe\">\n",
       "  <thead>\n",
       "    <tr style=\"text-align: right;\">\n",
       "      <th></th>\n",
       "      <th>refund</th>\n",
       "      <th>Marital_status</th>\n",
       "      <th>income_above_80k</th>\n",
       "      <th>cheat</th>\n",
       "      <th>predicted_cheat</th>\n",
       "    </tr>\n",
       "  </thead>\n",
       "  <tbody>\n",
       "    <tr>\n",
       "      <th>1</th>\n",
       "      <td>No</td>\n",
       "      <td>Single</td>\n",
       "      <td>Yes</td>\n",
       "      <td>No</td>\n",
       "      <td>1</td>\n",
       "    </tr>\n",
       "    <tr>\n",
       "      <th>2</th>\n",
       "      <td>No</td>\n",
       "      <td>Single</td>\n",
       "      <td>Yes</td>\n",
       "      <td>No</td>\n",
       "      <td>1</td>\n",
       "    </tr>\n",
       "    <tr>\n",
       "      <th>3</th>\n",
       "      <td>No</td>\n",
       "      <td>Married</td>\n",
       "      <td>Yes</td>\n",
       "      <td>No</td>\n",
       "      <td>0</td>\n",
       "    </tr>\n",
       "    <tr>\n",
       "      <th>4</th>\n",
       "      <td>No</td>\n",
       "      <td>Divorced</td>\n",
       "      <td>No</td>\n",
       "      <td>No</td>\n",
       "      <td>0</td>\n",
       "    </tr>\n",
       "    <tr>\n",
       "      <th>5</th>\n",
       "      <td>No</td>\n",
       "      <td>Married</td>\n",
       "      <td>Yes</td>\n",
       "      <td>No</td>\n",
       "      <td>0</td>\n",
       "    </tr>\n",
       "    <tr>\n",
       "      <th>6</th>\n",
       "      <td>No</td>\n",
       "      <td>Single</td>\n",
       "      <td>Yes</td>\n",
       "      <td>No</td>\n",
       "      <td>1</td>\n",
       "    </tr>\n",
       "    <tr>\n",
       "      <th>7</th>\n",
       "      <td>Yes</td>\n",
       "      <td>Single</td>\n",
       "      <td>Yes</td>\n",
       "      <td>No</td>\n",
       "      <td>0</td>\n",
       "    </tr>\n",
       "    <tr>\n",
       "      <th>8</th>\n",
       "      <td>No</td>\n",
       "      <td>Single</td>\n",
       "      <td>Yes</td>\n",
       "      <td>Yes</td>\n",
       "      <td>1</td>\n",
       "    </tr>\n",
       "    <tr>\n",
       "      <th>9</th>\n",
       "      <td>Yes</td>\n",
       "      <td>Married</td>\n",
       "      <td>Yes</td>\n",
       "      <td>Yes</td>\n",
       "      <td>0</td>\n",
       "    </tr>\n",
       "    <tr>\n",
       "      <th>10</th>\n",
       "      <td>Yes</td>\n",
       "      <td>Single</td>\n",
       "      <td>No</td>\n",
       "      <td>Yes</td>\n",
       "      <td>0</td>\n",
       "    </tr>\n",
       "  </tbody>\n",
       "</table>\n",
       "</div>"
      ],
      "text/plain": [
       "   refund Marital_status income_above_80k cheat  predicted_cheat\n",
       "1      No         Single              Yes    No                1\n",
       "2      No         Single              Yes    No                1\n",
       "3      No        Married              Yes    No                0\n",
       "4      No       Divorced               No    No                0\n",
       "5      No        Married              Yes    No                0\n",
       "6      No         Single              Yes    No                1\n",
       "7     Yes         Single              Yes    No                0\n",
       "8      No         Single              Yes   Yes                1\n",
       "9     Yes        Married              Yes   Yes                0\n",
       "10    Yes         Single               No   Yes                0"
      ]
     },
     "execution_count": 13,
     "metadata": {},
     "output_type": "execute_result"
    }
   ],
   "source": [
    "test[\"predicted_cheat\"] = vectorized_predict(test)\n",
    "test"
   ]
  },
  {
   "cell_type": "markdown",
   "id": "e8b48926-d673-49c8-942e-aa468de82bf3",
   "metadata": {},
   "source": [
    "## J\n",
    "Apply the overall_accuracy function to the predicted out values and actual output values of the test set to compute the overall accuracy. Compare the overall accuracy of the test set and that of the training set. Is there overfitting? Why or why not? If there is overfitting, what would you do to avoid overfitting the rule to the training set? "
   ]
  },
  {
   "cell_type": "code",
   "execution_count": 14,
   "id": "ac8cb8c7-df61-4937-8876-723e559fa8b6",
   "metadata": {},
   "outputs": [
    {
     "data": {
      "text/plain": [
       "0.5"
      ]
     },
     "execution_count": 14,
     "metadata": {},
     "output_type": "execute_result"
    }
   ],
   "source": [
    "overall_accuracy(test[\"cheat\"], test[\"predicted_cheat\"])"
   ]
  },
  {
   "cell_type": "markdown",
   "id": "69a1c399-8018-4c12-a256-e8327f96988c",
   "metadata": {},
   "source": [
    "# Question 2\n",
    "You will use the same training dataset provided in question 1.  \n",
    "Suppose we wanted to create one rule using only one attribute that best classifies the input data, you will need to write a function or an algorithm to find that best attribute. There are different approaches we can use to evaluate the best attritubute that will classify our data with the highest accuracy. One of the accuracy measures we can use to find the best attribute is information gain, which uses entropy. "
   ]
  },
  {
   "cell_type": "markdown",
   "id": "d1b6154e-fc60-40d7-bb8c-b5d703f9128a",
   "metadata": {},
   "source": [
    "## A\n",
    "Given the training dataset in question 1, write a function that computes the entropy of output variable. The function should take the entire training dataset, and the name of the output variable as arguments and return the entropy value. You can call the function, entropy. \n",
    "None that $H(S)$ of the target variable $T$ with possible values $C_{i}$ for a set of $S$ examples is given by:  \n",
    "$H(S) = \\sum_{i=1}^{C} p_{i}*\\log_{2}p_{i}$  \n",
    "where $p_{i}$ is the proportion of class $c_{i}$ in the $S$ examples.  \n",
    "Alternatively, you could also define entropy for a binary target variable as:  \n",
    "![Entropy](./entropy.png)  \n",
    "where p is the proportion of the desired class or proportion of \"yes\" in the given data.  \n",
    "Apply the entropy function to the training dataset to compute the entropy. Do you think the data is more pure, less pure or more/less pure?"
   ]
  },
  {
   "cell_type": "code",
   "execution_count": 15,
   "id": "7bdd4b3e-53a1-44e7-90c9-16ed8a89c79b",
   "metadata": {},
   "outputs": [
    {
     "data": {
      "text/html": [
       "<div>\n",
       "<style scoped>\n",
       "    .dataframe tbody tr th:only-of-type {\n",
       "        vertical-align: middle;\n",
       "    }\n",
       "\n",
       "    .dataframe tbody tr th {\n",
       "        vertical-align: top;\n",
       "    }\n",
       "\n",
       "    .dataframe thead th {\n",
       "        text-align: right;\n",
       "    }\n",
       "</style>\n",
       "<table border=\"1\" class=\"dataframe\">\n",
       "  <thead>\n",
       "    <tr style=\"text-align: right;\">\n",
       "      <th></th>\n",
       "      <th>refund</th>\n",
       "      <th>Marital_status</th>\n",
       "      <th>income_above_80k</th>\n",
       "      <th>cheat</th>\n",
       "    </tr>\n",
       "  </thead>\n",
       "  <tbody>\n",
       "    <tr>\n",
       "      <th>1</th>\n",
       "      <td>Yes</td>\n",
       "      <td>Single</td>\n",
       "      <td>Yes</td>\n",
       "      <td>No</td>\n",
       "    </tr>\n",
       "    <tr>\n",
       "      <th>2</th>\n",
       "      <td>No</td>\n",
       "      <td>Married</td>\n",
       "      <td>Yes</td>\n",
       "      <td>No</td>\n",
       "    </tr>\n",
       "    <tr>\n",
       "      <th>3</th>\n",
       "      <td>No</td>\n",
       "      <td>Single</td>\n",
       "      <td>No</td>\n",
       "      <td>No</td>\n",
       "    </tr>\n",
       "    <tr>\n",
       "      <th>4</th>\n",
       "      <td>Yes</td>\n",
       "      <td>Married</td>\n",
       "      <td>Yes</td>\n",
       "      <td>No</td>\n",
       "    </tr>\n",
       "    <tr>\n",
       "      <th>5</th>\n",
       "      <td>No</td>\n",
       "      <td>Divorced</td>\n",
       "      <td>Yes</td>\n",
       "      <td>Yes</td>\n",
       "    </tr>\n",
       "    <tr>\n",
       "      <th>6</th>\n",
       "      <td>No</td>\n",
       "      <td>Married</td>\n",
       "      <td>No</td>\n",
       "      <td>No</td>\n",
       "    </tr>\n",
       "    <tr>\n",
       "      <th>7</th>\n",
       "      <td>Yes</td>\n",
       "      <td>Divorced</td>\n",
       "      <td>Yes</td>\n",
       "      <td>No</td>\n",
       "    </tr>\n",
       "    <tr>\n",
       "      <th>8</th>\n",
       "      <td>No</td>\n",
       "      <td>Single</td>\n",
       "      <td>Yes</td>\n",
       "      <td>Yes</td>\n",
       "    </tr>\n",
       "    <tr>\n",
       "      <th>9</th>\n",
       "      <td>No</td>\n",
       "      <td>Married</td>\n",
       "      <td>No</td>\n",
       "      <td>No</td>\n",
       "    </tr>\n",
       "    <tr>\n",
       "      <th>10</th>\n",
       "      <td>No</td>\n",
       "      <td>Single</td>\n",
       "      <td>Yes</td>\n",
       "      <td>Yes</td>\n",
       "    </tr>\n",
       "  </tbody>\n",
       "</table>\n",
       "</div>"
      ],
      "text/plain": [
       "   refund Marital_status income_above_80k cheat\n",
       "1     Yes         Single              Yes    No\n",
       "2      No        Married              Yes    No\n",
       "3      No         Single               No    No\n",
       "4     Yes        Married              Yes    No\n",
       "5      No       Divorced              Yes   Yes\n",
       "6      No        Married               No    No\n",
       "7     Yes       Divorced              Yes    No\n",
       "8      No         Single              Yes   Yes\n",
       "9      No        Married               No    No\n",
       "10     No         Single              Yes   Yes"
      ]
     },
     "execution_count": 15,
     "metadata": {},
     "output_type": "execute_result"
    }
   ],
   "source": [
    "refund = np.array([\"Yes\", \"No\", \"No\", \"Yes\", \"No\", \"No\", \"Yes\", \"No\", \"No\", \"No\"])\n",
    "marital_status = np.array([\"Single\", \"Married\", \"Single\", \"Married\", \"Divorced\", \"Married\", \"Divorced\", \"Single\", \"Married\", \"Single\"])\n",
    "income_above_80k = np.array([\"Yes\", \"Yes\",\"No\", \"Yes\", \"Yes\",\"No\", \"Yes\", \"Yes\",\"No\", \"Yes\"])\n",
    "cheat = np.array([\"No\", \"No\", \"No\", \"No\", \"Yes\", \"No\", \"No\", \"Yes\", \"No\", \"Yes\"])\n",
    "data = pd.DataFrame(data = [refund, marital_status, income_above_80k, cheat])\n",
    "data = data.T\n",
    "# Index is increased by one to match the provided dataset\n",
    "data.index+=1\n",
    "data.columns = [\"refund\", \"Marital_status\", \"income_above_80k\", \"cheat\"]\n",
    "data"
   ]
  },
  {
   "cell_type": "code",
   "execution_count": 16,
   "id": "1e8d1211-aa18-401e-bd4f-afc17cdfe659",
   "metadata": {},
   "outputs": [],
   "source": [
    "def entropy(data, output_variable_name, expected_value):\n",
    "    \"\"\"\n",
    "    Description:\n",
    "\n",
    "    Calculates the entropy for a dataset with an output variable and the expected value for the output. Prepared only for binary data\n",
    "\n",
    "    Inputs:\n",
    "\n",
    "    Receives a dataset (Pandas DataFrame), the output variable (String), and the expected value for that output variable (String)\n",
    "\n",
    "    Outputs:\n",
    "\n",
    "    Returns the calculated entropy, which is a float\n",
    "    \"\"\"\n",
    "    # Proportion of examples in class expected_value\n",
    "    p = (data.loc[(data[output_variable_name] == expected_value)]).shape[0]\n",
    "    p = p / data.shape[0]\n",
    "    if p == 0: # As log of 0 is undefined, we need to decide what to do with it, so it is decided that when log(0) = 0\n",
    "        return - (1 - p)*math.log2(1-p)\n",
    "    entropy = -p * math.log2(p) - (1 - p)*math.log2(1-p)\n",
    "    return entropy"
   ]
  },
  {
   "cell_type": "code",
   "execution_count": 17,
   "id": "0ad3c1a9-4f5b-40ef-a77a-25bf3bff575d",
   "metadata": {},
   "outputs": [
    {
     "data": {
      "text/plain": [
       "0.8812908992306927"
      ]
     },
     "execution_count": 17,
     "metadata": {},
     "output_type": "execute_result"
    }
   ],
   "source": [
    "entropy(data, \"cheat\", \"Yes\")"
   ]
  },
  {
   "cell_type": "markdown",
   "id": "00068fd1-8a09-476f-9fee-96dcba406cfc",
   "metadata": {},
   "source": [
    "This is quite a high entropy, so the purity of the data can be considered to be low. "
   ]
  },
  {
   "cell_type": "markdown",
   "id": "604b17da-5643-4263-8cbb-c8b721757d50",
   "metadata": {},
   "source": [
    "## B\n",
    "Create another function that takes the dataset, the name of the output variable, and a specific input variable as arguments and returns the information gain for a split of the data on that specific input variable. You can call the function, information_gain. Information gain is defined as:  \n",
    "$Gain(S,A) = $H(S)$ - \\sum_{vEValue(A)} \\frac{|(S_{v}|}{|(S)|} H(S_{v})$  \n",
    "\n",
    "where:  \n",
    "A = candidate attribute  \n",
    "v = possible values of A  \n",
    "S = set of examples where A = v  \n",
    "\n",
    "Apply the information_gain function to each input variable to compute the information gain for each input variable. Which input variables is the best (has the highest information gain) for creating one-rule? "
   ]
  },
  {
   "cell_type": "code",
   "execution_count": 18,
   "id": "a1d699b8-67db-483d-bbe3-b62f8440a0f3",
   "metadata": {},
   "outputs": [],
   "source": [
    "def information_gain(data, output_variable_name, expected_output, input_variable_name):\n",
    "    \"\"\"\n",
    "    Description:\n",
    "\n",
    "    Calculates the Information gain for a given dataset, output variable, the expected output, and the input variable\n",
    "\n",
    "    Inputs:\n",
    "\n",
    "    Dataset (Pandas DataFrame), output variable name (String), expected output for the output variable (String), input variable (String)\n",
    "\n",
    "    Outputs:\n",
    "\n",
    "    Outputs the overall accuracy as a float\n",
    "    \"\"\"\n",
    "    h_s = entropy(data, output_variable_name, expected_output)\n",
    "    # Get all the possible values in the chosen input variable\n",
    "    Av = data[input_variable_name].unique()\n",
    "    sum_entropy = 0\n",
    "    # For each of those possible values, calculate the entropy of the output variable and multiply it by the proportion of the subset over the total data\n",
    "    for x in Av:\n",
    "        subset = data[data[input_variable_name] == x]\n",
    "        sum_entropy+= (subset.shape[0] / data.shape[0])*entropy(subset, \"cheat\", \"Yes\")\n",
    "    return h_s - sum_entropy"
   ]
  },
  {
   "cell_type": "code",
   "execution_count": 19,
   "id": "c64e0cbe-620e-4d40-bd01-4427a76053fc",
   "metadata": {},
   "outputs": [
    {
     "name": "stdout",
     "output_type": "stream",
     "text": [
      "[0.19163120400671663, 0.2812908992306926, 0.19163120400671663]\n"
     ]
    }
   ],
   "source": [
    "IG = []\n",
    "for c in data.columns[:-1]:\n",
    "    IG.append(information_gain(data, \"cheat\", \"Yes\", c))\n",
    "print(IG)"
   ]
  },
  {
   "cell_type": "markdown",
   "id": "56b9df3f-710c-44ee-bd47-1323d08f2963",
   "metadata": {},
   "source": [
    "It can be seen that the input variable with the highest information gain is [Marital_status]"
   ]
  },
  {
   "cell_type": "markdown",
   "id": "1456e17a-b97f-4f17-8de4-8c1dbe54a305",
   "metadata": {},
   "source": [
    "## C\n",
    "Do a cross tabulation using the best attribute obtained in 2b above and the output variable in the training dataset. "
   ]
  },
  {
   "cell_type": "code",
   "execution_count": 20,
   "id": "e041bf36-fa6b-4f41-b832-b5872cd55a1d",
   "metadata": {},
   "outputs": [
    {
     "data": {
      "text/html": [
       "<div>\n",
       "<style scoped>\n",
       "    .dataframe tbody tr th:only-of-type {\n",
       "        vertical-align: middle;\n",
       "    }\n",
       "\n",
       "    .dataframe tbody tr th {\n",
       "        vertical-align: top;\n",
       "    }\n",
       "\n",
       "    .dataframe thead th {\n",
       "        text-align: right;\n",
       "    }\n",
       "</style>\n",
       "<table border=\"1\" class=\"dataframe\">\n",
       "  <thead>\n",
       "    <tr style=\"text-align: right;\">\n",
       "      <th>Marital_status</th>\n",
       "      <th>Divorced</th>\n",
       "      <th>Married</th>\n",
       "      <th>Single</th>\n",
       "    </tr>\n",
       "    <tr>\n",
       "      <th>cheat</th>\n",
       "      <th></th>\n",
       "      <th></th>\n",
       "      <th></th>\n",
       "    </tr>\n",
       "  </thead>\n",
       "  <tbody>\n",
       "    <tr>\n",
       "      <th>No</th>\n",
       "      <td>1</td>\n",
       "      <td>4</td>\n",
       "      <td>2</td>\n",
       "    </tr>\n",
       "    <tr>\n",
       "      <th>Yes</th>\n",
       "      <td>1</td>\n",
       "      <td>0</td>\n",
       "      <td>2</td>\n",
       "    </tr>\n",
       "  </tbody>\n",
       "</table>\n",
       "</div>"
      ],
      "text/plain": [
       "Marital_status  Divorced  Married  Single\n",
       "cheat                                    \n",
       "No                     1        4       2\n",
       "Yes                    1        0       2"
      ]
     },
     "execution_count": 20,
     "metadata": {},
     "output_type": "execute_result"
    }
   ],
   "source": [
    "pd.crosstab(data[\"cheat\"], data[\"Marital_status\"])"
   ]
  },
  {
   "cell_type": "markdown",
   "id": "c87e8aa2-42cc-48c9-a66e-695bc7aa943a",
   "metadata": {},
   "source": [
    "## D\n",
    "Draw a decision tree (use shapes in the word document) to show how the best variable can be used for classification. This is a decision tree with a single node or single variable. "
   ]
  },
  {
   "cell_type": "markdown",
   "id": "29b6c573-2f2a-4a6f-983c-532609e82a05",
   "metadata": {},
   "source": [
    "![Decision Tree](./decisiontree2.png)  "
   ]
  },
  {
   "cell_type": "markdown",
   "id": "dff40ecf-0e45-4f35-ab60-c8b3473dadb9",
   "metadata": {},
   "source": [
    "## E\n",
    "Create a one-rule from the decision tree in 2d. The rule should containing an antecedent and a consequent. The antecedent should use only the best attribute and it’s value or values. "
   ]
  },
  {
   "cell_type": "markdown",
   "id": "5389dd20-cd90-43b2-bfa8-66a29e9d40b4",
   "metadata": {},
   "source": [
    "As the instruction does not specify to create a function to perform this programatically, it can be simply declared:  \n",
    "IF Marital_status == \"Married\" or Marital_status == \"Single\" or Marital_status == \"Divorced\"  \n",
    "THEN cheat == \"No\""
   ]
  },
  {
   "cell_type": "markdown",
   "id": "0811b9d3-246c-4ea1-af6c-9fa9630e477e",
   "metadata": {},
   "source": [
    "It can be seen in the crosstab that married leads to no, but the other two possible values each add the same proportion in yes and no, so any value would give the same accuracy."
   ]
  },
  {
   "cell_type": "markdown",
   "id": "81fcd465-da39-46cd-a886-8b308506f61c",
   "metadata": {},
   "source": [
    "## F \n",
    "Using the antecedent of your rule, extract the data covered by the rule and compute the coverage of the rule. "
   ]
  },
  {
   "cell_type": "code",
   "execution_count": 21,
   "id": "4446e5e6-f15a-4262-842d-4be26a801973",
   "metadata": {},
   "outputs": [
    {
     "data": {
      "text/plain": [
       "1.0"
      ]
     },
     "execution_count": 21,
     "metadata": {},
     "output_type": "execute_result"
    }
   ],
   "source": [
    "# Every element is covered, as if refund is not yes, then cheat is no.\n",
    "instances_covered_by_rule = data.shape[0]#test[test[\"Marital_status\"] == \"Yes\"].shape[0]\n",
    "total_number_of_instances = data.shape[0]\n",
    "coverage = instances_covered_by_rule / total_number_of_instances\n",
    "coverage"
   ]
  },
  {
   "cell_type": "markdown",
   "id": "df93ad5d-c1c4-4465-a80e-dc26c1272b5a",
   "metadata": {},
   "source": [
    "## G\n",
    "Using the antecedent and precedent of your rule, extract the data covered by the rule and compute the accuracy of the rule. "
   ]
  },
  {
   "cell_type": "code",
   "execution_count": 22,
   "id": "c7479e74-cfcf-43d3-bcee-5a89f25aae58",
   "metadata": {},
   "outputs": [
    {
     "data": {
      "text/plain": [
       "0.7"
      ]
     },
     "execution_count": 22,
     "metadata": {},
     "output_type": "execute_result"
    }
   ],
   "source": [
    "# The rule basically predicts every output as a No\n",
    "predicted = np.full(data.shape[0], \"No\")\n",
    "predicted\n",
    "temp = data[data[\"cheat\"] == predicted]\n",
    "covered_and_correctly_classified = temp.shape[0]\n",
    "accuracy = covered_and_correctly_classified / instances_covered_by_rule\n",
    "accuracy"
   ]
  },
  {
   "cell_type": "markdown",
   "id": "eb06db14-9617-4766-b420-323e389269dd",
   "metadata": {},
   "source": [
    "## H\n",
    "Create a function that implents the rule as an if-else statement to predict the outcomes of any instance (a vector of values associated with the input variables for a specific individual). The function should be able to take one or more instances as an argument in the form of a dataframe or numpy arrary. "
   ]
  },
  {
   "cell_type": "code",
   "execution_count": 23,
   "id": "fd72aaae-c793-460e-a085-dbe70c3cc42b",
   "metadata": {},
   "outputs": [],
   "source": [
    "def one_rule(df):\n",
    "    # As the rule is basically (if any value of marital status, then output no), it can be simplified to:\n",
    "    result = np.full(df.shape[0], \"No\")\n",
    "    return result"
   ]
  },
  {
   "cell_type": "code",
   "execution_count": 24,
   "id": "b9b95928-9b04-4ea1-bf7e-741c35d67d40",
   "metadata": {},
   "outputs": [
    {
     "data": {
      "text/html": [
       "<div>\n",
       "<style scoped>\n",
       "    .dataframe tbody tr th:only-of-type {\n",
       "        vertical-align: middle;\n",
       "    }\n",
       "\n",
       "    .dataframe tbody tr th {\n",
       "        vertical-align: top;\n",
       "    }\n",
       "\n",
       "    .dataframe thead th {\n",
       "        text-align: right;\n",
       "    }\n",
       "</style>\n",
       "<table border=\"1\" class=\"dataframe\">\n",
       "  <thead>\n",
       "    <tr style=\"text-align: right;\">\n",
       "      <th></th>\n",
       "      <th>refund</th>\n",
       "      <th>Marital_status</th>\n",
       "      <th>income_above_80k</th>\n",
       "      <th>cheat</th>\n",
       "      <th>predicted</th>\n",
       "    </tr>\n",
       "  </thead>\n",
       "  <tbody>\n",
       "    <tr>\n",
       "      <th>1</th>\n",
       "      <td>Yes</td>\n",
       "      <td>Single</td>\n",
       "      <td>Yes</td>\n",
       "      <td>No</td>\n",
       "      <td>No</td>\n",
       "    </tr>\n",
       "    <tr>\n",
       "      <th>2</th>\n",
       "      <td>No</td>\n",
       "      <td>Married</td>\n",
       "      <td>Yes</td>\n",
       "      <td>No</td>\n",
       "      <td>No</td>\n",
       "    </tr>\n",
       "    <tr>\n",
       "      <th>3</th>\n",
       "      <td>No</td>\n",
       "      <td>Single</td>\n",
       "      <td>No</td>\n",
       "      <td>No</td>\n",
       "      <td>No</td>\n",
       "    </tr>\n",
       "    <tr>\n",
       "      <th>4</th>\n",
       "      <td>Yes</td>\n",
       "      <td>Married</td>\n",
       "      <td>Yes</td>\n",
       "      <td>No</td>\n",
       "      <td>No</td>\n",
       "    </tr>\n",
       "    <tr>\n",
       "      <th>5</th>\n",
       "      <td>No</td>\n",
       "      <td>Divorced</td>\n",
       "      <td>Yes</td>\n",
       "      <td>Yes</td>\n",
       "      <td>No</td>\n",
       "    </tr>\n",
       "    <tr>\n",
       "      <th>6</th>\n",
       "      <td>No</td>\n",
       "      <td>Married</td>\n",
       "      <td>No</td>\n",
       "      <td>No</td>\n",
       "      <td>No</td>\n",
       "    </tr>\n",
       "    <tr>\n",
       "      <th>7</th>\n",
       "      <td>Yes</td>\n",
       "      <td>Divorced</td>\n",
       "      <td>Yes</td>\n",
       "      <td>No</td>\n",
       "      <td>No</td>\n",
       "    </tr>\n",
       "    <tr>\n",
       "      <th>8</th>\n",
       "      <td>No</td>\n",
       "      <td>Single</td>\n",
       "      <td>Yes</td>\n",
       "      <td>Yes</td>\n",
       "      <td>No</td>\n",
       "    </tr>\n",
       "    <tr>\n",
       "      <th>9</th>\n",
       "      <td>No</td>\n",
       "      <td>Married</td>\n",
       "      <td>No</td>\n",
       "      <td>No</td>\n",
       "      <td>No</td>\n",
       "    </tr>\n",
       "    <tr>\n",
       "      <th>10</th>\n",
       "      <td>No</td>\n",
       "      <td>Single</td>\n",
       "      <td>Yes</td>\n",
       "      <td>Yes</td>\n",
       "      <td>No</td>\n",
       "    </tr>\n",
       "  </tbody>\n",
       "</table>\n",
       "</div>"
      ],
      "text/plain": [
       "   refund Marital_status income_above_80k cheat predicted\n",
       "1     Yes         Single              Yes    No        No\n",
       "2      No        Married              Yes    No        No\n",
       "3      No         Single               No    No        No\n",
       "4     Yes        Married              Yes    No        No\n",
       "5      No       Divorced              Yes   Yes        No\n",
       "6      No        Married               No    No        No\n",
       "7     Yes       Divorced              Yes    No        No\n",
       "8      No         Single              Yes   Yes        No\n",
       "9      No        Married               No    No        No\n",
       "10     No         Single              Yes   Yes        No"
      ]
     },
     "execution_count": 24,
     "metadata": {},
     "output_type": "execute_result"
    }
   ],
   "source": [
    "#data = data.drop([\"predicted_cheat\"],axis=1)\n",
    "result_training = one_rule(data)\n",
    "data[\"predicted\"] = result_training\n",
    "data"
   ]
  },
  {
   "cell_type": "code",
   "execution_count": 25,
   "id": "ae76db60-1f37-43ad-bde4-db983e902010",
   "metadata": {},
   "outputs": [
    {
     "data": {
      "text/html": [
       "<div>\n",
       "<style scoped>\n",
       "    .dataframe tbody tr th:only-of-type {\n",
       "        vertical-align: middle;\n",
       "    }\n",
       "\n",
       "    .dataframe tbody tr th {\n",
       "        vertical-align: top;\n",
       "    }\n",
       "\n",
       "    .dataframe thead th {\n",
       "        text-align: right;\n",
       "    }\n",
       "</style>\n",
       "<table border=\"1\" class=\"dataframe\">\n",
       "  <thead>\n",
       "    <tr style=\"text-align: right;\">\n",
       "      <th></th>\n",
       "      <th>refund</th>\n",
       "      <th>Marital_status</th>\n",
       "      <th>income_above_80k</th>\n",
       "      <th>cheat</th>\n",
       "      <th>predicted_cheat</th>\n",
       "      <th>predicted</th>\n",
       "    </tr>\n",
       "  </thead>\n",
       "  <tbody>\n",
       "    <tr>\n",
       "      <th>1</th>\n",
       "      <td>No</td>\n",
       "      <td>Single</td>\n",
       "      <td>Yes</td>\n",
       "      <td>No</td>\n",
       "      <td>1</td>\n",
       "      <td>No</td>\n",
       "    </tr>\n",
       "    <tr>\n",
       "      <th>2</th>\n",
       "      <td>No</td>\n",
       "      <td>Single</td>\n",
       "      <td>Yes</td>\n",
       "      <td>No</td>\n",
       "      <td>1</td>\n",
       "      <td>No</td>\n",
       "    </tr>\n",
       "    <tr>\n",
       "      <th>3</th>\n",
       "      <td>No</td>\n",
       "      <td>Married</td>\n",
       "      <td>Yes</td>\n",
       "      <td>No</td>\n",
       "      <td>0</td>\n",
       "      <td>No</td>\n",
       "    </tr>\n",
       "    <tr>\n",
       "      <th>4</th>\n",
       "      <td>No</td>\n",
       "      <td>Divorced</td>\n",
       "      <td>No</td>\n",
       "      <td>No</td>\n",
       "      <td>0</td>\n",
       "      <td>No</td>\n",
       "    </tr>\n",
       "    <tr>\n",
       "      <th>5</th>\n",
       "      <td>No</td>\n",
       "      <td>Married</td>\n",
       "      <td>Yes</td>\n",
       "      <td>No</td>\n",
       "      <td>0</td>\n",
       "      <td>No</td>\n",
       "    </tr>\n",
       "    <tr>\n",
       "      <th>6</th>\n",
       "      <td>No</td>\n",
       "      <td>Single</td>\n",
       "      <td>Yes</td>\n",
       "      <td>No</td>\n",
       "      <td>1</td>\n",
       "      <td>No</td>\n",
       "    </tr>\n",
       "    <tr>\n",
       "      <th>7</th>\n",
       "      <td>Yes</td>\n",
       "      <td>Single</td>\n",
       "      <td>Yes</td>\n",
       "      <td>No</td>\n",
       "      <td>0</td>\n",
       "      <td>No</td>\n",
       "    </tr>\n",
       "    <tr>\n",
       "      <th>8</th>\n",
       "      <td>No</td>\n",
       "      <td>Single</td>\n",
       "      <td>Yes</td>\n",
       "      <td>Yes</td>\n",
       "      <td>1</td>\n",
       "      <td>No</td>\n",
       "    </tr>\n",
       "    <tr>\n",
       "      <th>9</th>\n",
       "      <td>Yes</td>\n",
       "      <td>Married</td>\n",
       "      <td>Yes</td>\n",
       "      <td>Yes</td>\n",
       "      <td>0</td>\n",
       "      <td>No</td>\n",
       "    </tr>\n",
       "    <tr>\n",
       "      <th>10</th>\n",
       "      <td>Yes</td>\n",
       "      <td>Single</td>\n",
       "      <td>No</td>\n",
       "      <td>Yes</td>\n",
       "      <td>0</td>\n",
       "      <td>No</td>\n",
       "    </tr>\n",
       "  </tbody>\n",
       "</table>\n",
       "</div>"
      ],
      "text/plain": [
       "   refund Marital_status income_above_80k cheat  predicted_cheat predicted\n",
       "1      No         Single              Yes    No                1        No\n",
       "2      No         Single              Yes    No                1        No\n",
       "3      No        Married              Yes    No                0        No\n",
       "4      No       Divorced               No    No                0        No\n",
       "5      No        Married              Yes    No                0        No\n",
       "6      No         Single              Yes    No                1        No\n",
       "7     Yes         Single              Yes    No                0        No\n",
       "8      No         Single              Yes   Yes                1        No\n",
       "9     Yes        Married              Yes   Yes                0        No\n",
       "10    Yes         Single               No   Yes                0        No"
      ]
     },
     "execution_count": 25,
     "metadata": {},
     "output_type": "execute_result"
    }
   ],
   "source": [
    "result_test = one_rule(test)\n",
    "test[\"predicted\"] = result_test\n",
    "test"
   ]
  },
  {
   "cell_type": "markdown",
   "id": "3cdfa3bd-3772-4658-854e-11cb67349375",
   "metadata": {},
   "source": [
    "## J\n",
    "What is the overall prediction accuracies for the training set and test set? You can use the overall_accuracy function you initially defined. "
   ]
  },
  {
   "cell_type": "code",
   "execution_count": 26,
   "id": "575b2bf5-0b04-4921-bed4-573ff8dec236",
   "metadata": {},
   "outputs": [
    {
     "name": "stdout",
     "output_type": "stream",
     "text": [
      "Training data accuracy: 0.7\n"
     ]
    }
   ],
   "source": [
    "instances_covered_by_rule = data.shape[0] # Every instance is covered in this case, as the column refund is a binary value, and the rule covers both\n",
    "temp = data[data[\"cheat\"] == data[\"predicted\"]]\n",
    "covered_and_correctly_classified = temp.shape[0]\n",
    "accuracy = covered_and_correctly_classified / instances_covered_by_rule\n",
    "print(\"Training data accuracy: {}\".format(accuracy))"
   ]
  },
  {
   "cell_type": "code",
   "execution_count": 27,
   "id": "e312fc2b-ba1d-4f94-b429-b2c9cb5c4613",
   "metadata": {},
   "outputs": [
    {
     "name": "stdout",
     "output_type": "stream",
     "text": [
      "Test data accuracy: 0.7\n"
     ]
    }
   ],
   "source": [
    "#instances_covered_by_rule = test[test[\"refund\"] == \"Yes\"].shape[0]\n",
    "instances_covered_by_rule = test.shape[0]\n",
    "temp = test[test[\"cheat\"] == test[\"predicted\"]]\n",
    "covered_and_correctly_classified = temp.shape[0]\n",
    "accuracy = covered_and_correctly_classified / instances_covered_by_rule\n",
    "print(\"Test data accuracy: {}\".format(accuracy))"
   ]
  },
  {
   "cell_type": "markdown",
   "id": "5a8f5a46-c0f0-4f95-852f-1b7ed3bab469",
   "metadata": {},
   "source": [
    "## K \n",
    "Do you think there is overfitting or underfitting? Why or why not? "
   ]
  },
  {
   "cell_type": "markdown",
   "id": "cc284305-b47c-4123-8184-ea43d4c09b57",
   "metadata": {},
   "source": [
    "There is no overfitting, as the accuracy for both the training and testing datasets are the same, which indicates that the rule is flexible enough to evaluate new data, while complex enough to correctly predict already seen data and new data. "
   ]
  }
 ],
 "metadata": {
  "kernelspec": {
   "display_name": "Python 3 (ipykernel)",
   "language": "python",
   "name": "python3"
  },
  "language_info": {
   "codemirror_mode": {
    "name": "ipython",
    "version": 3
   },
   "file_extension": ".py",
   "mimetype": "text/x-python",
   "name": "python",
   "nbconvert_exporter": "python",
   "pygments_lexer": "ipython3",
   "version": "3.10.12"
  }
 },
 "nbformat": 4,
 "nbformat_minor": 5
}
