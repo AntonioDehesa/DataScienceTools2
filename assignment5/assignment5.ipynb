{
 "cells": [
  {
   "cell_type": "markdown",
   "id": "b65c6f2e-ec68-4183-acc6-4ed7270ceccc",
   "metadata": {},
   "source": [
    "# Imports"
   ]
  },
  {
   "cell_type": "code",
   "execution_count": 53,
   "id": "01c740b9-9899-410d-9590-55e7ca2d5b2f",
   "metadata": {},
   "outputs": [],
   "source": [
    "# imports\n",
    "import pandas as pd\n",
    "import numpy as np\n",
    "import matplotlib.pyplot as plt\n",
    "import seaborn as sns\n",
    "import nltk\n",
    "from sklearn.preprocessing import OneHotEncoder, StandardScaler\n",
    "from sklearn.model_selection import train_test_split\n",
    "from sklearn.naive_bayes import BernoulliNB, GaussianNB\n",
    "from sklearn.metrics import accuracy_score\n",
    "from sklearn.feature_extraction.text import TfidfVectorizer\n",
    "from statistics import mean, stdev\n",
    "import re\n",
    "import string"
   ]
  },
  {
   "cell_type": "markdown",
   "id": "0d6628ee-32b4-4e5e-9133-77ead0a7e7b1",
   "metadata": {
    "jp-MarkdownHeadingCollapsed": true
   },
   "source": [
    "# Question 1"
   ]
  },
  {
   "cell_type": "markdown",
   "id": "0a35d267-54b2-44b5-8c9f-ae04c8c0841b",
   "metadata": {},
   "source": [
    "## A\n",
    "Upload the income_evaluation_cat.csv provided on canvas.  \n",
    "The features in this data include workclass, education, race, and gender.  \n",
    "The output variable is income and contains two categorical values (<=50k or >50k) indicating whether the income of an individual is less than/equal to \\\\$50,000 or greater than \\\\$50,000 respectively.  \n",
    "Print the unique values of each variable in this data. "
   ]
  },
  {
   "cell_type": "code",
   "execution_count": 12,
   "id": "da50deab-1381-41ef-93c9-94a11c3e3a27",
   "metadata": {},
   "outputs": [
    {
     "name": "stdout",
     "output_type": "stream",
     "text": [
      "<class 'pandas.core.frame.DataFrame'>\n",
      "RangeIndex: 32561 entries, 0 to 32560\n",
      "Data columns (total 5 columns):\n",
      " #   Column     Non-Null Count  Dtype \n",
      "---  ------     --------------  ----- \n",
      " 0   workclass  32561 non-null  object\n",
      " 1   education  32561 non-null  object\n",
      " 2   race       32561 non-null  object\n",
      " 3   gender     32561 non-null  object\n",
      " 4   income     32561 non-null  object\n",
      "dtypes: object(5)\n",
      "memory usage: 1.2+ MB\n"
     ]
    }
   ],
   "source": [
    "data = pd.read_csv(\"income_evaluation_cat.csv\")\n",
    "data.info()"
   ]
  },
  {
   "cell_type": "code",
   "execution_count": 13,
   "id": "1ce24e41-ee83-4ff4-bf8b-b7d69a2b2574",
   "metadata": {},
   "outputs": [
    {
     "data": {
      "text/html": [
       "<div>\n",
       "<style scoped>\n",
       "    .dataframe tbody tr th:only-of-type {\n",
       "        vertical-align: middle;\n",
       "    }\n",
       "\n",
       "    .dataframe tbody tr th {\n",
       "        vertical-align: top;\n",
       "    }\n",
       "\n",
       "    .dataframe thead th {\n",
       "        text-align: right;\n",
       "    }\n",
       "</style>\n",
       "<table border=\"1\" class=\"dataframe\">\n",
       "  <thead>\n",
       "    <tr style=\"text-align: right;\">\n",
       "      <th></th>\n",
       "      <th>workclass</th>\n",
       "      <th>education</th>\n",
       "      <th>race</th>\n",
       "      <th>gender</th>\n",
       "      <th>income</th>\n",
       "    </tr>\n",
       "  </thead>\n",
       "  <tbody>\n",
       "    <tr>\n",
       "      <th>0</th>\n",
       "      <td>State-gov</td>\n",
       "      <td>Bachelors</td>\n",
       "      <td>White</td>\n",
       "      <td>Male</td>\n",
       "      <td>&lt;=50K</td>\n",
       "    </tr>\n",
       "    <tr>\n",
       "      <th>1</th>\n",
       "      <td>Self-emp-not-inc</td>\n",
       "      <td>Bachelors</td>\n",
       "      <td>White</td>\n",
       "      <td>Male</td>\n",
       "      <td>&lt;=50K</td>\n",
       "    </tr>\n",
       "    <tr>\n",
       "      <th>2</th>\n",
       "      <td>Private</td>\n",
       "      <td>HS-grad</td>\n",
       "      <td>White</td>\n",
       "      <td>Male</td>\n",
       "      <td>&lt;=50K</td>\n",
       "    </tr>\n",
       "    <tr>\n",
       "      <th>3</th>\n",
       "      <td>Private</td>\n",
       "      <td>11th</td>\n",
       "      <td>Black</td>\n",
       "      <td>Male</td>\n",
       "      <td>&lt;=50K</td>\n",
       "    </tr>\n",
       "    <tr>\n",
       "      <th>4</th>\n",
       "      <td>Private</td>\n",
       "      <td>Bachelors</td>\n",
       "      <td>Black</td>\n",
       "      <td>Female</td>\n",
       "      <td>&lt;=50K</td>\n",
       "    </tr>\n",
       "  </tbody>\n",
       "</table>\n",
       "</div>"
      ],
      "text/plain": [
       "           workclass   education    race   gender  income\n",
       "0          State-gov   Bachelors   White     Male   <=50K\n",
       "1   Self-emp-not-inc   Bachelors   White     Male   <=50K\n",
       "2            Private     HS-grad   White     Male   <=50K\n",
       "3            Private        11th   Black     Male   <=50K\n",
       "4            Private   Bachelors   Black   Female   <=50K"
      ]
     },
     "execution_count": 13,
     "metadata": {},
     "output_type": "execute_result"
    }
   ],
   "source": [
    "data.head()"
   ]
  },
  {
   "cell_type": "code",
   "execution_count": 14,
   "id": "10f2a42d-5c37-46c4-8547-06a3d2510384",
   "metadata": {},
   "outputs": [
    {
     "name": "stdout",
     "output_type": "stream",
     "text": [
      "workclass\n",
      "[' State-gov' ' Self-emp-not-inc' ' Private' ' Federal-gov' ' Local-gov'\n",
      " ' ?' ' Self-emp-inc' ' Without-pay' ' Never-worked']\n",
      "education\n",
      "[' Bachelors' ' HS-grad' ' 11th' ' Masters' ' 9th' ' Some-college'\n",
      " ' Assoc-acdm' ' Assoc-voc' ' 7th-8th' ' Doctorate' ' Prof-school'\n",
      " ' 5th-6th' ' 10th' ' 1st-4th' ' Preschool' ' 12th']\n",
      "race\n",
      "[' White' ' Black' ' Asian-Pac-Islander' ' Amer-Indian-Eskimo' ' Other']\n",
      "gender\n",
      "[' Male' ' Female']\n",
      "income\n",
      "[' <=50K' ' >50K']\n"
     ]
    }
   ],
   "source": [
    "for col in data.columns:\n",
    "    print(col)\n",
    "    print(data[col].unique())"
   ]
  },
  {
   "cell_type": "markdown",
   "id": "0bcd2d46-3b3a-414d-b85c-1c8f4ec64fb9",
   "metadata": {},
   "source": [
    "## B\n",
    "You will implement Naïve Bayes from scratch using Bayes’ rule.  \n",
    "You can do your calculations in Python, but you would not use the sklearn package.  \n",
    "Suppose that all the income_evaluation_cat.csv data you uploaded is the training data, classify a test instance, X = [“Private”, “Bachelors”, “White”, “Female”] into the class income<=50 or income>50k. Compute prior and posterior probabilities that are needed to classify the test instance. \n",
    "* \tWhat are the prior probabilities, P(income<=50) and P(income>50k)\n",
    "* \r\n",
    "•\tWhat are the unnormalized posterior probabilities, P(income\\<=50/X) and P(income\\>50k\n",
    "* t\r\n",
    "\r\n",
    "•\tWhat are the normalized posterior probabilities, P(inc\\ome<=50/X) and P(inc\\ome>\n",
    "* put\r\n",
    "\r\n",
    "•\t Based on your normalized posterior probabilities, which class should the test instance be classifed into? \r\n"
   ]
  },
  {
   "cell_type": "code",
   "execution_count": 27,
   "id": "94b4a4c5-2ca4-488b-9dc0-623408cf56e6",
   "metadata": {},
   "outputs": [
    {
     "data": {
      "text/plain": [
       "' Male'"
      ]
     },
     "execution_count": 27,
     "metadata": {},
     "output_type": "execute_result"
    }
   ],
   "source": [
    "data.iloc[2].gender"
   ]
  },
  {
   "cell_type": "code",
   "execution_count": 16,
   "id": "e55aeade-0588-49e4-8171-1a17f06691a9",
   "metadata": {},
   "outputs": [
    {
     "data": {
      "text/plain": [
       "0.7591904425539756"
      ]
     },
     "execution_count": 16,
     "metadata": {},
     "output_type": "execute_result"
    }
   ],
   "source": [
    "P_income_minus_50k = data[data[\"income\"] == \" <=50K\"].shape[0] / data.shape[0]\n",
    "P_income_minus_50k"
   ]
  },
  {
   "cell_type": "code",
   "execution_count": 17,
   "id": "b4d286c9-34ba-4220-95ba-28b076b82359",
   "metadata": {},
   "outputs": [
    {
     "data": {
      "text/plain": [
       "0.2408095574460244"
      ]
     },
     "execution_count": 17,
     "metadata": {},
     "output_type": "execute_result"
    }
   ],
   "source": [
    "P_income_over_50k = data[data[\"income\"] == \" >50K\"].shape[0] / data.shape[0]\n",
    "P_income_over_50k"
   ]
  },
  {
   "cell_type": "code",
   "execution_count": 24,
   "id": "7ee97138-605c-44c8-a427-fe6007431426",
   "metadata": {},
   "outputs": [
    {
     "data": {
      "text/plain": [
       "0.7173543689320389"
      ]
     },
     "execution_count": 24,
     "metadata": {},
     "output_type": "execute_result"
    }
   ],
   "source": [
    "P_private_income_minus_50k = data[(data[\"income\"] == \" <=50K\") & (data[\"workclass\"] == \" Private\")].shape[0] / data[(data[\"income\"] == \" <=50K\")].shape[0]\n",
    "P_private_income_minus_50k"
   ]
  },
  {
   "cell_type": "code",
   "execution_count": 29,
   "id": "7449edac-faa1-4773-bb87-2f2d01124d9b",
   "metadata": {},
   "outputs": [
    {
     "data": {
      "text/plain": [
       "0.6329549802321133"
      ]
     },
     "execution_count": 29,
     "metadata": {},
     "output_type": "execute_result"
    }
   ],
   "source": [
    "P_private_income_over_50k = data[(data[\"income\"] == \" >50K\") & (data[\"workclass\"] == \" Private\")].shape[0] / data[(data[\"income\"] == \" >50K\")].shape[0]\n",
    "P_private_income_over_50k"
   ]
  },
  {
   "cell_type": "code",
   "execution_count": 25,
   "id": "d50bbfce-2d66-4cb5-9231-d4d874d64afb",
   "metadata": {},
   "outputs": [
    {
     "data": {
      "text/plain": [
       "0.35703883495145633"
      ]
     },
     "execution_count": 25,
     "metadata": {},
     "output_type": "execute_result"
    }
   ],
   "source": [
    "P_bachelors_income_minus_50k = data[(data[\"income\"] == \" <=50K\") & (data[\"education\"] == \" HS-grad\")].shape[0] / data[(data[\"income\"] == \" <=50K\")].shape[0]\n",
    "P_bachelors_income_minus_50k"
   ]
  },
  {
   "cell_type": "code",
   "execution_count": 30,
   "id": "f4049c0f-76bd-4776-84ce-1ee2b2cf784a",
   "metadata": {},
   "outputs": [
    {
     "data": {
      "text/plain": [
       "0.21362071164392296"
      ]
     },
     "execution_count": 30,
     "metadata": {},
     "output_type": "execute_result"
    }
   ],
   "source": [
    "P_bachelors_income_over_50k = data[(data[\"income\"] == \" >50K\") & (data[\"education\"] == \" HS-grad\")].shape[0] / data[(data[\"income\"] == \" >50K\")].shape[0]\n",
    "P_bachelors_income_over_50k"
   ]
  },
  {
   "cell_type": "code",
   "execution_count": 26,
   "id": "4e0eb268-3c55-4897-9a29-e0949f4fd926",
   "metadata": {},
   "outputs": [
    {
     "data": {
      "text/plain": [
       "0.8373381877022654"
      ]
     },
     "execution_count": 26,
     "metadata": {},
     "output_type": "execute_result"
    }
   ],
   "source": [
    "P_white_income_minus_50k = data[(data[\"income\"] == \" <=50K\") & (data[\"race\"] == \" White\")].shape[0] / data[(data[\"income\"] == \" <=50K\")].shape[0]\n",
    "P_white_income_minus_50k"
   ]
  },
  {
   "cell_type": "code",
   "execution_count": 31,
   "id": "0e468674-401d-40d6-9d73-ae06493b2b7e",
   "metadata": {},
   "outputs": [
    {
     "data": {
      "text/plain": [
       "0.9076648386685372"
      ]
     },
     "execution_count": 31,
     "metadata": {},
     "output_type": "execute_result"
    }
   ],
   "source": [
    "P_white_income_over_50k = data[(data[\"income\"] == \" >50K\") & (data[\"race\"] == \" White\")].shape[0] / data[(data[\"income\"] == \" >50K\")].shape[0]\n",
    "P_white_income_over_50k"
   ]
  },
  {
   "cell_type": "code",
   "execution_count": 28,
   "id": "7de3700e-5626-4196-a83d-7ec4ad6365fb",
   "metadata": {},
   "outputs": [
    {
     "data": {
      "text/plain": [
       "0.38802588996763754"
      ]
     },
     "execution_count": 28,
     "metadata": {},
     "output_type": "execute_result"
    }
   ],
   "source": [
    "P_female_income_minus_50k = data[(data[\"income\"] == \" <=50K\") & (data[\"gender\"] == \" Female\")].shape[0] / data[(data[\"income\"] == \" <=50K\")].shape[0]\n",
    "P_female_income_minus_50k"
   ]
  },
  {
   "cell_type": "code",
   "execution_count": 32,
   "id": "d81cd54a-b514-44c8-8e02-7004d85d4a85",
   "metadata": {},
   "outputs": [
    {
     "data": {
      "text/plain": [
       "0.15036347404667771"
      ]
     },
     "execution_count": 32,
     "metadata": {},
     "output_type": "execute_result"
    }
   ],
   "source": [
    "P_female_income_over_50k = data[(data[\"income\"] == \" >50K\") & (data[\"gender\"] == \" Female\")].shape[0] / data[(data[\"income\"] == \" >50K\")].shape[0]\n",
    "P_female_income_over_50k"
   ]
  },
  {
   "cell_type": "code",
   "execution_count": 33,
   "id": "7d5022fb-0ab7-4171-a9d9-13231135f2f1",
   "metadata": {},
   "outputs": [
    {
     "data": {
      "text/plain": [
       "0.004443833326549051"
      ]
     },
     "execution_count": 33,
     "metadata": {},
     "output_type": "execute_result"
    }
   ],
   "source": [
    "P_posterior_unnormalized_over = P_income_over_50k * P_private_income_over_50k * P_bachelors_income_over_50k * P_white_income_over_50k * P_female_income_over_50k\n",
    "P_posterior_unnormalized_over"
   ]
  },
  {
   "cell_type": "code",
   "execution_count": 34,
   "id": "fcdd52f5-3d46-4489-b129-01b1c70473b0",
   "metadata": {},
   "outputs": [
    {
     "data": {
      "text/plain": [
       "0.06317736934412253"
      ]
     },
     "execution_count": 34,
     "metadata": {},
     "output_type": "execute_result"
    }
   ],
   "source": [
    "P_posterior_unnormalized_minus = P_income_minus_50k * P_private_income_minus_50k * P_bachelors_income_minus_50k * P_white_income_minus_50k * P_female_income_minus_50k\n",
    "P_posterior_unnormalized_minus"
   ]
  },
  {
   "cell_type": "code",
   "execution_count": 35,
   "id": "5dd4ca2d-c944-49f4-a55b-17a5a8cc1a76",
   "metadata": {},
   "outputs": [
    {
     "data": {
      "text/plain": [
       "0.06571656745283554"
      ]
     },
     "execution_count": 35,
     "metadata": {},
     "output_type": "execute_result"
    }
   ],
   "source": [
    "P_posterior_normalized_over = P_posterior_unnormalized_over / (P_posterior_unnormalized_over + P_posterior_unnormalized_minus)\n",
    "P_posterior_normalized_over"
   ]
  },
  {
   "cell_type": "code",
   "execution_count": 36,
   "id": "20388b43-018c-40b2-bc7d-3cc1c156f2fe",
   "metadata": {},
   "outputs": [
    {
     "data": {
      "text/plain": [
       "0.9342834325471645"
      ]
     },
     "execution_count": 36,
     "metadata": {},
     "output_type": "execute_result"
    }
   ],
   "source": [
    "P_posterior_normalized_minus = P_posterior_unnormalized_minus / (P_posterior_unnormalized_over + P_posterior_unnormalized_minus)\n",
    "P_posterior_normalized_minus"
   ]
  },
  {
   "cell_type": "markdown",
   "id": "8d9d5af0-ef57-45b7-83f5-73ceaff5d146",
   "metadata": {},
   "source": [
    "According to the normalized probability, the chosen class should be <= 50K"
   ]
  },
  {
   "cell_type": "markdown",
   "id": "72f17006-57eb-4f62-b3e8-9cd46d130269",
   "metadata": {},
   "source": [
    "## C\n",
    "Preprocess or transform the features in the income_evaluation_cat.csv data using an appropriate scaler in sklearn. You don’t need to transform the output variable; it should still work fine in a text format. "
   ]
  },
  {
   "cell_type": "code",
   "execution_count": 37,
   "id": "ca6efb1a-6b18-4efb-acd0-89d0c260ae87",
   "metadata": {},
   "outputs": [
    {
     "data": {
      "text/html": [
       "<div>\n",
       "<style scoped>\n",
       "    .dataframe tbody tr th:only-of-type {\n",
       "        vertical-align: middle;\n",
       "    }\n",
       "\n",
       "    .dataframe tbody tr th {\n",
       "        vertical-align: top;\n",
       "    }\n",
       "\n",
       "    .dataframe thead th {\n",
       "        text-align: right;\n",
       "    }\n",
       "</style>\n",
       "<table border=\"1\" class=\"dataframe\">\n",
       "  <thead>\n",
       "    <tr style=\"text-align: right;\">\n",
       "      <th></th>\n",
       "      <th>workclass</th>\n",
       "      <th>education</th>\n",
       "      <th>race</th>\n",
       "      <th>gender</th>\n",
       "      <th>income</th>\n",
       "    </tr>\n",
       "  </thead>\n",
       "  <tbody>\n",
       "    <tr>\n",
       "      <th>0</th>\n",
       "      <td>State-gov</td>\n",
       "      <td>Bachelors</td>\n",
       "      <td>White</td>\n",
       "      <td>Male</td>\n",
       "      <td>&lt;=50K</td>\n",
       "    </tr>\n",
       "    <tr>\n",
       "      <th>1</th>\n",
       "      <td>Self-emp-not-inc</td>\n",
       "      <td>Bachelors</td>\n",
       "      <td>White</td>\n",
       "      <td>Male</td>\n",
       "      <td>&lt;=50K</td>\n",
       "    </tr>\n",
       "    <tr>\n",
       "      <th>2</th>\n",
       "      <td>Private</td>\n",
       "      <td>HS-grad</td>\n",
       "      <td>White</td>\n",
       "      <td>Male</td>\n",
       "      <td>&lt;=50K</td>\n",
       "    </tr>\n",
       "    <tr>\n",
       "      <th>3</th>\n",
       "      <td>Private</td>\n",
       "      <td>11th</td>\n",
       "      <td>Black</td>\n",
       "      <td>Male</td>\n",
       "      <td>&lt;=50K</td>\n",
       "    </tr>\n",
       "    <tr>\n",
       "      <th>4</th>\n",
       "      <td>Private</td>\n",
       "      <td>Bachelors</td>\n",
       "      <td>Black</td>\n",
       "      <td>Female</td>\n",
       "      <td>&lt;=50K</td>\n",
       "    </tr>\n",
       "  </tbody>\n",
       "</table>\n",
       "</div>"
      ],
      "text/plain": [
       "           workclass   education    race   gender  income\n",
       "0          State-gov   Bachelors   White     Male   <=50K\n",
       "1   Self-emp-not-inc   Bachelors   White     Male   <=50K\n",
       "2            Private     HS-grad   White     Male   <=50K\n",
       "3            Private        11th   Black     Male   <=50K\n",
       "4            Private   Bachelors   Black   Female   <=50K"
      ]
     },
     "execution_count": 37,
     "metadata": {},
     "output_type": "execute_result"
    }
   ],
   "source": [
    "data.head()"
   ]
  },
  {
   "cell_type": "code",
   "execution_count": 40,
   "id": "6adf2daf-b3b5-4a5a-94dd-99703450d508",
   "metadata": {},
   "outputs": [
    {
     "data": {
      "text/html": [
       "<style>#sk-container-id-1 {color: black;}#sk-container-id-1 pre{padding: 0;}#sk-container-id-1 div.sk-toggleable {background-color: white;}#sk-container-id-1 label.sk-toggleable__label {cursor: pointer;display: block;width: 100%;margin-bottom: 0;padding: 0.3em;box-sizing: border-box;text-align: center;}#sk-container-id-1 label.sk-toggleable__label-arrow:before {content: \"▸\";float: left;margin-right: 0.25em;color: #696969;}#sk-container-id-1 label.sk-toggleable__label-arrow:hover:before {color: black;}#sk-container-id-1 div.sk-estimator:hover label.sk-toggleable__label-arrow:before {color: black;}#sk-container-id-1 div.sk-toggleable__content {max-height: 0;max-width: 0;overflow: hidden;text-align: left;background-color: #f0f8ff;}#sk-container-id-1 div.sk-toggleable__content pre {margin: 0.2em;color: black;border-radius: 0.25em;background-color: #f0f8ff;}#sk-container-id-1 input.sk-toggleable__control:checked~div.sk-toggleable__content {max-height: 200px;max-width: 100%;overflow: auto;}#sk-container-id-1 input.sk-toggleable__control:checked~label.sk-toggleable__label-arrow:before {content: \"▾\";}#sk-container-id-1 div.sk-estimator input.sk-toggleable__control:checked~label.sk-toggleable__label {background-color: #d4ebff;}#sk-container-id-1 div.sk-label input.sk-toggleable__control:checked~label.sk-toggleable__label {background-color: #d4ebff;}#sk-container-id-1 input.sk-hidden--visually {border: 0;clip: rect(1px 1px 1px 1px);clip: rect(1px, 1px, 1px, 1px);height: 1px;margin: -1px;overflow: hidden;padding: 0;position: absolute;width: 1px;}#sk-container-id-1 div.sk-estimator {font-family: monospace;background-color: #f0f8ff;border: 1px dotted black;border-radius: 0.25em;box-sizing: border-box;margin-bottom: 0.5em;}#sk-container-id-1 div.sk-estimator:hover {background-color: #d4ebff;}#sk-container-id-1 div.sk-parallel-item::after {content: \"\";width: 100%;border-bottom: 1px solid gray;flex-grow: 1;}#sk-container-id-1 div.sk-label:hover label.sk-toggleable__label {background-color: #d4ebff;}#sk-container-id-1 div.sk-serial::before {content: \"\";position: absolute;border-left: 1px solid gray;box-sizing: border-box;top: 0;bottom: 0;left: 50%;z-index: 0;}#sk-container-id-1 div.sk-serial {display: flex;flex-direction: column;align-items: center;background-color: white;padding-right: 0.2em;padding-left: 0.2em;position: relative;}#sk-container-id-1 div.sk-item {position: relative;z-index: 1;}#sk-container-id-1 div.sk-parallel {display: flex;align-items: stretch;justify-content: center;background-color: white;position: relative;}#sk-container-id-1 div.sk-item::before, #sk-container-id-1 div.sk-parallel-item::before {content: \"\";position: absolute;border-left: 1px solid gray;box-sizing: border-box;top: 0;bottom: 0;left: 50%;z-index: -1;}#sk-container-id-1 div.sk-parallel-item {display: flex;flex-direction: column;z-index: 1;position: relative;background-color: white;}#sk-container-id-1 div.sk-parallel-item:first-child::after {align-self: flex-end;width: 50%;}#sk-container-id-1 div.sk-parallel-item:last-child::after {align-self: flex-start;width: 50%;}#sk-container-id-1 div.sk-parallel-item:only-child::after {width: 0;}#sk-container-id-1 div.sk-dashed-wrapped {border: 1px dashed gray;margin: 0 0.4em 0.5em 0.4em;box-sizing: border-box;padding-bottom: 0.4em;background-color: white;}#sk-container-id-1 div.sk-label label {font-family: monospace;font-weight: bold;display: inline-block;line-height: 1.2em;}#sk-container-id-1 div.sk-label-container {text-align: center;}#sk-container-id-1 div.sk-container {/* jupyter's `normalize.less` sets `[hidden] { display: none; }` but bootstrap.min.css set `[hidden] { display: none !important; }` so we also need the `!important` here to be able to override the default hidden behavior on the sphinx rendered scikit-learn.org. See: https://github.com/scikit-learn/scikit-learn/issues/21755 */display: inline-block !important;position: relative;}#sk-container-id-1 div.sk-text-repr-fallback {display: none;}</style><div id=\"sk-container-id-1\" class=\"sk-top-container\"><div class=\"sk-text-repr-fallback\"><pre>OneHotEncoder(handle_unknown=&#x27;ignore&#x27;)</pre><b>In a Jupyter environment, please rerun this cell to show the HTML representation or trust the notebook. <br />On GitHub, the HTML representation is unable to render, please try loading this page with nbviewer.org.</b></div><div class=\"sk-container\" hidden><div class=\"sk-item\"><div class=\"sk-estimator sk-toggleable\"><input class=\"sk-toggleable__control sk-hidden--visually\" id=\"sk-estimator-id-1\" type=\"checkbox\" checked><label for=\"sk-estimator-id-1\" class=\"sk-toggleable__label sk-toggleable__label-arrow\">OneHotEncoder</label><div class=\"sk-toggleable__content\"><pre>OneHotEncoder(handle_unknown=&#x27;ignore&#x27;)</pre></div></div></div></div></div>"
      ],
      "text/plain": [
       "OneHotEncoder(handle_unknown='ignore')"
      ]
     },
     "execution_count": 40,
     "metadata": {},
     "output_type": "execute_result"
    }
   ],
   "source": [
    "X = data.drop([\"income\"], axis=1).copy()\n",
    "enc = OneHotEncoder(handle_unknown='ignore')\n",
    "enc.fit(X)"
   ]
  },
  {
   "cell_type": "code",
   "execution_count": 43,
   "id": "94f03c2c-28a0-4bc6-b109-9b225381d4bd",
   "metadata": {},
   "outputs": [
    {
     "data": {
      "text/plain": [
       "<32561x32 sparse matrix of type '<class 'numpy.float64'>'\n",
       "\twith 130244 stored elements in Compressed Sparse Row format>"
      ]
     },
     "execution_count": 43,
     "metadata": {},
     "output_type": "execute_result"
    }
   ],
   "source": [
    "X =enc.transform(X)\n",
    "X"
   ]
  },
  {
   "cell_type": "markdown",
   "id": "e4794d09-aafd-4971-a3f5-afbceaa24791",
   "metadata": {},
   "source": [
    "## D\n",
    "Randomly split the transformed input data and the output data into X_train, y_train, X_test and y_test using tools in sklearn. "
   ]
  },
  {
   "cell_type": "code",
   "execution_count": 44,
   "id": "19cd49ab-adca-4923-9a80-ca38b20f611f",
   "metadata": {},
   "outputs": [],
   "source": [
    "y = data[\"income\"].copy()"
   ]
  },
  {
   "cell_type": "code",
   "execution_count": 46,
   "id": "8af66301-3b6d-4390-9833-ceebda741174",
   "metadata": {},
   "outputs": [],
   "source": [
    "X_train, X_test, y_train, y_test = train_test_split(X, y, test_size=0.3, random_state=42)"
   ]
  },
  {
   "cell_type": "markdown",
   "id": "1c32a4c4-57f0-49e8-bc47-311a604d05b8",
   "metadata": {},
   "source": [
    "## E\n",
    "Use an appropriate Naïve Bayes constructor in sklearn to construct and fit a Naïve Bayes model on the training data, then use the model to compute the accuracy score of the training and test set. "
   ]
  },
  {
   "cell_type": "code",
   "execution_count": 48,
   "id": "7d44032c-fd17-45c1-a6b3-5106fbe7dbb2",
   "metadata": {},
   "outputs": [
    {
     "data": {
      "text/html": [
       "<style>#sk-container-id-3 {color: black;}#sk-container-id-3 pre{padding: 0;}#sk-container-id-3 div.sk-toggleable {background-color: white;}#sk-container-id-3 label.sk-toggleable__label {cursor: pointer;display: block;width: 100%;margin-bottom: 0;padding: 0.3em;box-sizing: border-box;text-align: center;}#sk-container-id-3 label.sk-toggleable__label-arrow:before {content: \"▸\";float: left;margin-right: 0.25em;color: #696969;}#sk-container-id-3 label.sk-toggleable__label-arrow:hover:before {color: black;}#sk-container-id-3 div.sk-estimator:hover label.sk-toggleable__label-arrow:before {color: black;}#sk-container-id-3 div.sk-toggleable__content {max-height: 0;max-width: 0;overflow: hidden;text-align: left;background-color: #f0f8ff;}#sk-container-id-3 div.sk-toggleable__content pre {margin: 0.2em;color: black;border-radius: 0.25em;background-color: #f0f8ff;}#sk-container-id-3 input.sk-toggleable__control:checked~div.sk-toggleable__content {max-height: 200px;max-width: 100%;overflow: auto;}#sk-container-id-3 input.sk-toggleable__control:checked~label.sk-toggleable__label-arrow:before {content: \"▾\";}#sk-container-id-3 div.sk-estimator input.sk-toggleable__control:checked~label.sk-toggleable__label {background-color: #d4ebff;}#sk-container-id-3 div.sk-label input.sk-toggleable__control:checked~label.sk-toggleable__label {background-color: #d4ebff;}#sk-container-id-3 input.sk-hidden--visually {border: 0;clip: rect(1px 1px 1px 1px);clip: rect(1px, 1px, 1px, 1px);height: 1px;margin: -1px;overflow: hidden;padding: 0;position: absolute;width: 1px;}#sk-container-id-3 div.sk-estimator {font-family: monospace;background-color: #f0f8ff;border: 1px dotted black;border-radius: 0.25em;box-sizing: border-box;margin-bottom: 0.5em;}#sk-container-id-3 div.sk-estimator:hover {background-color: #d4ebff;}#sk-container-id-3 div.sk-parallel-item::after {content: \"\";width: 100%;border-bottom: 1px solid gray;flex-grow: 1;}#sk-container-id-3 div.sk-label:hover label.sk-toggleable__label {background-color: #d4ebff;}#sk-container-id-3 div.sk-serial::before {content: \"\";position: absolute;border-left: 1px solid gray;box-sizing: border-box;top: 0;bottom: 0;left: 50%;z-index: 0;}#sk-container-id-3 div.sk-serial {display: flex;flex-direction: column;align-items: center;background-color: white;padding-right: 0.2em;padding-left: 0.2em;position: relative;}#sk-container-id-3 div.sk-item {position: relative;z-index: 1;}#sk-container-id-3 div.sk-parallel {display: flex;align-items: stretch;justify-content: center;background-color: white;position: relative;}#sk-container-id-3 div.sk-item::before, #sk-container-id-3 div.sk-parallel-item::before {content: \"\";position: absolute;border-left: 1px solid gray;box-sizing: border-box;top: 0;bottom: 0;left: 50%;z-index: -1;}#sk-container-id-3 div.sk-parallel-item {display: flex;flex-direction: column;z-index: 1;position: relative;background-color: white;}#sk-container-id-3 div.sk-parallel-item:first-child::after {align-self: flex-end;width: 50%;}#sk-container-id-3 div.sk-parallel-item:last-child::after {align-self: flex-start;width: 50%;}#sk-container-id-3 div.sk-parallel-item:only-child::after {width: 0;}#sk-container-id-3 div.sk-dashed-wrapped {border: 1px dashed gray;margin: 0 0.4em 0.5em 0.4em;box-sizing: border-box;padding-bottom: 0.4em;background-color: white;}#sk-container-id-3 div.sk-label label {font-family: monospace;font-weight: bold;display: inline-block;line-height: 1.2em;}#sk-container-id-3 div.sk-label-container {text-align: center;}#sk-container-id-3 div.sk-container {/* jupyter's `normalize.less` sets `[hidden] { display: none; }` but bootstrap.min.css set `[hidden] { display: none !important; }` so we also need the `!important` here to be able to override the default hidden behavior on the sphinx rendered scikit-learn.org. See: https://github.com/scikit-learn/scikit-learn/issues/21755 */display: inline-block !important;position: relative;}#sk-container-id-3 div.sk-text-repr-fallback {display: none;}</style><div id=\"sk-container-id-3\" class=\"sk-top-container\"><div class=\"sk-text-repr-fallback\"><pre>BernoulliNB()</pre><b>In a Jupyter environment, please rerun this cell to show the HTML representation or trust the notebook. <br />On GitHub, the HTML representation is unable to render, please try loading this page with nbviewer.org.</b></div><div class=\"sk-container\" hidden><div class=\"sk-item\"><div class=\"sk-estimator sk-toggleable\"><input class=\"sk-toggleable__control sk-hidden--visually\" id=\"sk-estimator-id-3\" type=\"checkbox\" checked><label for=\"sk-estimator-id-3\" class=\"sk-toggleable__label sk-toggleable__label-arrow\">BernoulliNB</label><div class=\"sk-toggleable__content\"><pre>BernoulliNB()</pre></div></div></div></div></div>"
      ],
      "text/plain": [
       "BernoulliNB()"
      ]
     },
     "execution_count": 48,
     "metadata": {},
     "output_type": "execute_result"
    }
   ],
   "source": [
    "nbb = BernoulliNB()\n",
    "nbb.fit(X_train, y_train)"
   ]
  },
  {
   "cell_type": "code",
   "execution_count": 50,
   "id": "ff06f350-4d8f-46a1-b40b-f0f971549c4a",
   "metadata": {},
   "outputs": [
    {
     "data": {
      "text/plain": [
       "0.7859555737537107"
      ]
     },
     "execution_count": 50,
     "metadata": {},
     "output_type": "execute_result"
    }
   ],
   "source": [
    "y_pred = nbb.predict(X_test)\n",
    "accuracy_score(y_test, y_pred)"
   ]
  },
  {
   "cell_type": "code",
   "execution_count": 51,
   "id": "db329c8f-cc2a-41de-95c0-9afcd6541b77",
   "metadata": {},
   "outputs": [
    {
     "data": {
      "text/plain": [
       "0.7851877851877852"
      ]
     },
     "execution_count": 51,
     "metadata": {},
     "output_type": "execute_result"
    }
   ],
   "source": [
    "y_pred = nbb.predict(X_train)\n",
    "accuracy_score(y_train, y_pred)"
   ]
  },
  {
   "cell_type": "markdown",
   "id": "a627ce18-db37-42d6-9e3c-b4f398ffd6df",
   "metadata": {},
   "source": [
    "Interestingly, the accuracy score is higher for the test dataset than for the training dataset. "
   ]
  },
  {
   "cell_type": "markdown",
   "id": "78097f2f-c893-453f-92a8-8c3ac6718fff",
   "metadata": {},
   "source": [
    "## Clean-up"
   ]
  },
  {
   "cell_type": "code",
   "execution_count": 52,
   "id": "4bdc66d0-d3ad-4007-bf89-8d3eb64187e0",
   "metadata": {},
   "outputs": [],
   "source": [
    "del(data)\n",
    "del(P_income_minus_50k)\n",
    "del(P_income_over_50k)\n",
    "del(P_private_income_minus_50k)\n",
    "del(P_bachelors_income_minus_50k)\n",
    "del(P_white_income_minus_50k)\n",
    "del(P_private_income_over_50k)\n",
    "del(P_bachelors_income_over_50k)\n",
    "del(P_white_income_over_50k)\n",
    "del(P_female_income_minus_50k)\n",
    "del(P_female_income_over_50k)\n",
    "del(P_posterior_unnormalized_over)\n",
    "del(P_posterior_unnormalized_minus)\n",
    "del(P_posterior_normalized_over)\n",
    "del(P_posterior_normalized_minus)\n",
    "del(enc)\n",
    "del(X)\n",
    "del(y)\n",
    "del(X_train)\n",
    "del(X_test)\n",
    "del(y_train)\n",
    "del(y_test)\n",
    "del(nbb)"
   ]
  },
  {
   "cell_type": "markdown",
   "id": "904c742d-845c-4686-b66a-bd9046e581b3",
   "metadata": {
    "jp-MarkdownHeadingCollapsed": true
   },
   "source": [
    "# Question 2"
   ]
  },
  {
   "cell_type": "markdown",
   "id": "b09848a1-e940-428e-90d6-1f75ff24cac9",
   "metadata": {},
   "source": [
    "## A\n",
    "Upload the income_evaluation_continuous.csv data provided on canvas.  \n",
    "The features in this data include age, education_num, and hours_per_week. The output variable is income and contains two categorical values (<=50k or >50k) indicating whether the income of an individual is less than/equal to \\\\$50,000 or greater than \\\\$50,000 respectively.  \n",
    "Compute the mean and standard deviation of each input variable such that the results are presented on the same table or data frame.  \n",
    "You can call the .apply() function on the pandas DataFrame.  "
   ]
  },
  {
   "cell_type": "code",
   "execution_count": 53,
   "id": "bc149cc9-79be-4d00-aa0d-57a665476663",
   "metadata": {},
   "outputs": [
    {
     "name": "stdout",
     "output_type": "stream",
     "text": [
      "<class 'pandas.core.frame.DataFrame'>\n",
      "RangeIndex: 32561 entries, 0 to 32560\n",
      "Data columns (total 4 columns):\n",
      " #   Column          Non-Null Count  Dtype \n",
      "---  ------          --------------  ----- \n",
      " 0   age             32561 non-null  int64 \n",
      " 1   education_num   32561 non-null  int64 \n",
      " 2   hours_per_week  32561 non-null  int64 \n",
      " 3   income          32561 non-null  object\n",
      "dtypes: int64(3), object(1)\n",
      "memory usage: 1017.7+ KB\n"
     ]
    }
   ],
   "source": [
    "data = pd.read_csv(\"income_evaluation_continuous.csv\")\n",
    "data.info()"
   ]
  },
  {
   "cell_type": "code",
   "execution_count": 54,
   "id": "6f68f73a-9820-49a8-83a1-14af49a58e99",
   "metadata": {},
   "outputs": [
    {
     "data": {
      "text/html": [
       "<div>\n",
       "<style scoped>\n",
       "    .dataframe tbody tr th:only-of-type {\n",
       "        vertical-align: middle;\n",
       "    }\n",
       "\n",
       "    .dataframe tbody tr th {\n",
       "        vertical-align: top;\n",
       "    }\n",
       "\n",
       "    .dataframe thead th {\n",
       "        text-align: right;\n",
       "    }\n",
       "</style>\n",
       "<table border=\"1\" class=\"dataframe\">\n",
       "  <thead>\n",
       "    <tr style=\"text-align: right;\">\n",
       "      <th></th>\n",
       "      <th>age</th>\n",
       "      <th>education_num</th>\n",
       "      <th>hours_per_week</th>\n",
       "      <th>income</th>\n",
       "    </tr>\n",
       "  </thead>\n",
       "  <tbody>\n",
       "    <tr>\n",
       "      <th>0</th>\n",
       "      <td>39</td>\n",
       "      <td>13</td>\n",
       "      <td>40</td>\n",
       "      <td>&lt;=50K</td>\n",
       "    </tr>\n",
       "    <tr>\n",
       "      <th>1</th>\n",
       "      <td>50</td>\n",
       "      <td>13</td>\n",
       "      <td>13</td>\n",
       "      <td>&lt;=50K</td>\n",
       "    </tr>\n",
       "    <tr>\n",
       "      <th>2</th>\n",
       "      <td>38</td>\n",
       "      <td>9</td>\n",
       "      <td>40</td>\n",
       "      <td>&lt;=50K</td>\n",
       "    </tr>\n",
       "    <tr>\n",
       "      <th>3</th>\n",
       "      <td>53</td>\n",
       "      <td>7</td>\n",
       "      <td>40</td>\n",
       "      <td>&lt;=50K</td>\n",
       "    </tr>\n",
       "    <tr>\n",
       "      <th>4</th>\n",
       "      <td>28</td>\n",
       "      <td>13</td>\n",
       "      <td>40</td>\n",
       "      <td>&lt;=50K</td>\n",
       "    </tr>\n",
       "  </tbody>\n",
       "</table>\n",
       "</div>"
      ],
      "text/plain": [
       "   age  education_num  hours_per_week  income\n",
       "0   39             13              40   <=50K\n",
       "1   50             13              13   <=50K\n",
       "2   38              9              40   <=50K\n",
       "3   53              7              40   <=50K\n",
       "4   28             13              40   <=50K"
      ]
     },
     "execution_count": 54,
     "metadata": {},
     "output_type": "execute_result"
    }
   ],
   "source": [
    "data.head()"
   ]
  },
  {
   "cell_type": "code",
   "execution_count": 60,
   "id": "e04fdc0f-73eb-4688-998a-9a6a7a3d598e",
   "metadata": {},
   "outputs": [
    {
     "data": {
      "text/html": [
       "<div>\n",
       "<style scoped>\n",
       "    .dataframe tbody tr th:only-of-type {\n",
       "        vertical-align: middle;\n",
       "    }\n",
       "\n",
       "    .dataframe tbody tr th {\n",
       "        vertical-align: top;\n",
       "    }\n",
       "\n",
       "    .dataframe thead th {\n",
       "        text-align: right;\n",
       "    }\n",
       "</style>\n",
       "<table border=\"1\" class=\"dataframe\">\n",
       "  <thead>\n",
       "    <tr style=\"text-align: right;\">\n",
       "      <th></th>\n",
       "      <th>age</th>\n",
       "      <th>education_num</th>\n",
       "      <th>hours_per_week</th>\n",
       "    </tr>\n",
       "  </thead>\n",
       "  <tbody>\n",
       "    <tr>\n",
       "      <th>mean</th>\n",
       "      <td>38.581647</td>\n",
       "      <td>10.080679</td>\n",
       "      <td>40.437456</td>\n",
       "    </tr>\n",
       "    <tr>\n",
       "      <th>stdev</th>\n",
       "      <td>13.640433</td>\n",
       "      <td>2.572720</td>\n",
       "      <td>12.347429</td>\n",
       "    </tr>\n",
       "  </tbody>\n",
       "</table>\n",
       "</div>"
      ],
      "text/plain": [
       "             age  education_num  hours_per_week\n",
       "mean   38.581647      10.080679       40.437456\n",
       "stdev  13.640433       2.572720       12.347429"
      ]
     },
     "execution_count": 60,
     "metadata": {},
     "output_type": "execute_result"
    }
   ],
   "source": [
    "data.drop([\"income\"],axis=1).apply([mean, stdev])"
   ]
  },
  {
   "cell_type": "markdown",
   "id": "fac27b46-cce7-49d6-a33e-01cf6928e7de",
   "metadata": {},
   "source": [
    "## B\n",
    "Preprocess or transform the features in the income_evaluation_cont.csv data using an appropriate scaler in sklearn.  \n",
    "You don’t need to transform the output variable; it should still work fine in a text format. "
   ]
  },
  {
   "cell_type": "code",
   "execution_count": 62,
   "id": "0a484a4e-e32e-47d1-9189-0552ee1a32c5",
   "metadata": {},
   "outputs": [],
   "source": [
    "X = data.drop([\"income\"], axis=1).copy()\n",
    "esc = StandardScaler()\n",
    "esc.fit(X)\n",
    "X = esc.transform(X)"
   ]
  },
  {
   "cell_type": "code",
   "execution_count": 63,
   "id": "8fd62ebd-07c1-42e0-822f-c9a21f6f1acb",
   "metadata": {},
   "outputs": [
    {
     "data": {
      "text/plain": [
       "array([[ 0.03067056,  1.13473876, -0.03542945],\n",
       "       [ 0.83710898,  1.13473876, -2.22215312],\n",
       "       [-0.04264203, -0.42005962, -0.03542945],\n",
       "       ...,\n",
       "       [ 1.42360965, -0.42005962, -0.03542945],\n",
       "       [-1.21564337, -0.42005962, -1.65522476],\n",
       "       [ 0.98373415, -0.42005962, -0.03542945]])"
      ]
     },
     "execution_count": 63,
     "metadata": {},
     "output_type": "execute_result"
    }
   ],
   "source": [
    "X"
   ]
  },
  {
   "cell_type": "markdown",
   "id": "989938a7-98d6-41e8-bb98-12b4e51fc7c9",
   "metadata": {},
   "source": [
    "## C\n",
    "Randomly split the input and output data into X_train, y_train, X_test and y_test using tools in sklearn. "
   ]
  },
  {
   "cell_type": "code",
   "execution_count": 64,
   "id": "4c7f98b6-f68b-44de-ad94-73c5a60dad31",
   "metadata": {},
   "outputs": [],
   "source": [
    "y = data[\"income\"].copy()"
   ]
  },
  {
   "cell_type": "code",
   "execution_count": 65,
   "id": "27f34fea-5461-47c9-b935-4565e3d41cd2",
   "metadata": {},
   "outputs": [],
   "source": [
    "X_train, X_test, y_train, y_test = train_test_split(X, y, test_size=0.3, random_state=42)"
   ]
  },
  {
   "cell_type": "markdown",
   "id": "e3eeca1e-7767-45d1-94df-aec9b6c5b595",
   "metadata": {},
   "source": [
    "## D\n",
    "Use an appropriate Naïve Bayes constructor in sklearn to construct and fit a Naïve Bayes model on the training data, then use the model to compute the accuracy score of the training and test set. "
   ]
  },
  {
   "cell_type": "code",
   "execution_count": 72,
   "id": "3b8592fd-2f4b-4322-a7cc-f1cd5df33e9b",
   "metadata": {},
   "outputs": [
    {
     "data": {
      "text/html": [
       "<style>#sk-container-id-5 {color: black;}#sk-container-id-5 pre{padding: 0;}#sk-container-id-5 div.sk-toggleable {background-color: white;}#sk-container-id-5 label.sk-toggleable__label {cursor: pointer;display: block;width: 100%;margin-bottom: 0;padding: 0.3em;box-sizing: border-box;text-align: center;}#sk-container-id-5 label.sk-toggleable__label-arrow:before {content: \"▸\";float: left;margin-right: 0.25em;color: #696969;}#sk-container-id-5 label.sk-toggleable__label-arrow:hover:before {color: black;}#sk-container-id-5 div.sk-estimator:hover label.sk-toggleable__label-arrow:before {color: black;}#sk-container-id-5 div.sk-toggleable__content {max-height: 0;max-width: 0;overflow: hidden;text-align: left;background-color: #f0f8ff;}#sk-container-id-5 div.sk-toggleable__content pre {margin: 0.2em;color: black;border-radius: 0.25em;background-color: #f0f8ff;}#sk-container-id-5 input.sk-toggleable__control:checked~div.sk-toggleable__content {max-height: 200px;max-width: 100%;overflow: auto;}#sk-container-id-5 input.sk-toggleable__control:checked~label.sk-toggleable__label-arrow:before {content: \"▾\";}#sk-container-id-5 div.sk-estimator input.sk-toggleable__control:checked~label.sk-toggleable__label {background-color: #d4ebff;}#sk-container-id-5 div.sk-label input.sk-toggleable__control:checked~label.sk-toggleable__label {background-color: #d4ebff;}#sk-container-id-5 input.sk-hidden--visually {border: 0;clip: rect(1px 1px 1px 1px);clip: rect(1px, 1px, 1px, 1px);height: 1px;margin: -1px;overflow: hidden;padding: 0;position: absolute;width: 1px;}#sk-container-id-5 div.sk-estimator {font-family: monospace;background-color: #f0f8ff;border: 1px dotted black;border-radius: 0.25em;box-sizing: border-box;margin-bottom: 0.5em;}#sk-container-id-5 div.sk-estimator:hover {background-color: #d4ebff;}#sk-container-id-5 div.sk-parallel-item::after {content: \"\";width: 100%;border-bottom: 1px solid gray;flex-grow: 1;}#sk-container-id-5 div.sk-label:hover label.sk-toggleable__label {background-color: #d4ebff;}#sk-container-id-5 div.sk-serial::before {content: \"\";position: absolute;border-left: 1px solid gray;box-sizing: border-box;top: 0;bottom: 0;left: 50%;z-index: 0;}#sk-container-id-5 div.sk-serial {display: flex;flex-direction: column;align-items: center;background-color: white;padding-right: 0.2em;padding-left: 0.2em;position: relative;}#sk-container-id-5 div.sk-item {position: relative;z-index: 1;}#sk-container-id-5 div.sk-parallel {display: flex;align-items: stretch;justify-content: center;background-color: white;position: relative;}#sk-container-id-5 div.sk-item::before, #sk-container-id-5 div.sk-parallel-item::before {content: \"\";position: absolute;border-left: 1px solid gray;box-sizing: border-box;top: 0;bottom: 0;left: 50%;z-index: -1;}#sk-container-id-5 div.sk-parallel-item {display: flex;flex-direction: column;z-index: 1;position: relative;background-color: white;}#sk-container-id-5 div.sk-parallel-item:first-child::after {align-self: flex-end;width: 50%;}#sk-container-id-5 div.sk-parallel-item:last-child::after {align-self: flex-start;width: 50%;}#sk-container-id-5 div.sk-parallel-item:only-child::after {width: 0;}#sk-container-id-5 div.sk-dashed-wrapped {border: 1px dashed gray;margin: 0 0.4em 0.5em 0.4em;box-sizing: border-box;padding-bottom: 0.4em;background-color: white;}#sk-container-id-5 div.sk-label label {font-family: monospace;font-weight: bold;display: inline-block;line-height: 1.2em;}#sk-container-id-5 div.sk-label-container {text-align: center;}#sk-container-id-5 div.sk-container {/* jupyter's `normalize.less` sets `[hidden] { display: none; }` but bootstrap.min.css set `[hidden] { display: none !important; }` so we also need the `!important` here to be able to override the default hidden behavior on the sphinx rendered scikit-learn.org. See: https://github.com/scikit-learn/scikit-learn/issues/21755 */display: inline-block !important;position: relative;}#sk-container-id-5 div.sk-text-repr-fallback {display: none;}</style><div id=\"sk-container-id-5\" class=\"sk-top-container\"><div class=\"sk-text-repr-fallback\"><pre>GaussianNB()</pre><b>In a Jupyter environment, please rerun this cell to show the HTML representation or trust the notebook. <br />On GitHub, the HTML representation is unable to render, please try loading this page with nbviewer.org.</b></div><div class=\"sk-container\" hidden><div class=\"sk-item\"><div class=\"sk-estimator sk-toggleable\"><input class=\"sk-toggleable__control sk-hidden--visually\" id=\"sk-estimator-id-5\" type=\"checkbox\" checked><label for=\"sk-estimator-id-5\" class=\"sk-toggleable__label sk-toggleable__label-arrow\">GaussianNB</label><div class=\"sk-toggleable__content\"><pre>GaussianNB()</pre></div></div></div></div></div>"
      ],
      "text/plain": [
       "GaussianNB()"
      ]
     },
     "execution_count": 72,
     "metadata": {},
     "output_type": "execute_result"
    }
   ],
   "source": [
    "gnb = GaussianNB()\n",
    "gnb.fit(X_train, y_train)"
   ]
  },
  {
   "cell_type": "code",
   "execution_count": 73,
   "id": "e93d909b-d565-42c1-b7cf-be2c7a1b1000",
   "metadata": {},
   "outputs": [],
   "source": [
    "y_pred = gnb.predict(X_test)"
   ]
  },
  {
   "cell_type": "code",
   "execution_count": 74,
   "id": "5813c030-d878-44ec-acc8-a78666fd0fe9",
   "metadata": {},
   "outputs": [
    {
     "data": {
      "text/plain": [
       "0.7988535162247927"
      ]
     },
     "execution_count": 74,
     "metadata": {},
     "output_type": "execute_result"
    }
   ],
   "source": [
    "accuracy_score(y_test, y_pred)"
   ]
  },
  {
   "cell_type": "markdown",
   "id": "3b4dd4ec-bafb-48f8-a294-94ade5a9b3f2",
   "metadata": {},
   "source": [
    "## Clean up"
   ]
  },
  {
   "cell_type": "code",
   "execution_count": 75,
   "id": "a6a4d180-b55d-4429-b76f-8fe67cb2ef58",
   "metadata": {},
   "outputs": [],
   "source": [
    "del(X)\n",
    "del(y)\n",
    "del(data)\n",
    "del(esc)\n",
    "del(X_train)\n",
    "del(X_test)\n",
    "del(y_train)\n",
    "del(y_test)\n",
    "del(y_pred)\n",
    "del(gnb)"
   ]
  },
  {
   "cell_type": "markdown",
   "id": "a4ad860c-298d-44fe-b7e5-e0483b12ec25",
   "metadata": {},
   "source": [
    "# Question 3\n",
    "You will now implement a Naïve Bayes for text classification to detect fake or true news. "
   ]
  },
  {
   "cell_type": "markdown",
   "id": "cc6e32e3-046f-40dd-ae3c-8e7feb74874c",
   "metadata": {
    "jp-MarkdownHeadingCollapsed": true
   },
   "source": [
    "## A\n",
    "Upload the True.csv data provided on canvas into Python.  \n",
    "You will create a new data frame by selecting the “title” and “text” columns, then, adding a new column called “news_type” where all the values on this new column are “True”.  \n",
    "So, your new data frame should have three columns; “title”, “text” and “news_type”. "
   ]
  },
  {
   "cell_type": "code",
   "execution_count": 122,
   "id": "dd9ca997-230b-4546-bc6f-1a75f855ac86",
   "metadata": {},
   "outputs": [
    {
     "data": {
      "text/html": [
       "<div>\n",
       "<style scoped>\n",
       "    .dataframe tbody tr th:only-of-type {\n",
       "        vertical-align: middle;\n",
       "    }\n",
       "\n",
       "    .dataframe tbody tr th {\n",
       "        vertical-align: top;\n",
       "    }\n",
       "\n",
       "    .dataframe thead th {\n",
       "        text-align: right;\n",
       "    }\n",
       "</style>\n",
       "<table border=\"1\" class=\"dataframe\">\n",
       "  <thead>\n",
       "    <tr style=\"text-align: right;\">\n",
       "      <th></th>\n",
       "      <th>title</th>\n",
       "      <th>text</th>\n",
       "      <th>news_type</th>\n",
       "    </tr>\n",
       "  </thead>\n",
       "  <tbody>\n",
       "    <tr>\n",
       "      <th>0</th>\n",
       "      <td>As U.S. budget fight looms, Republicans flip t...</td>\n",
       "      <td>WASHINGTON (Reuters) - The head of a conservat...</td>\n",
       "      <td>True</td>\n",
       "    </tr>\n",
       "    <tr>\n",
       "      <th>1</th>\n",
       "      <td>U.S. military to accept transgender recruits o...</td>\n",
       "      <td>WASHINGTON (Reuters) - Transgender people will...</td>\n",
       "      <td>True</td>\n",
       "    </tr>\n",
       "    <tr>\n",
       "      <th>2</th>\n",
       "      <td>Senior U.S. Republican senator: 'Let Mr. Muell...</td>\n",
       "      <td>WASHINGTON (Reuters) - The special counsel inv...</td>\n",
       "      <td>True</td>\n",
       "    </tr>\n",
       "    <tr>\n",
       "      <th>3</th>\n",
       "      <td>FBI Russia probe helped by Australian diplomat...</td>\n",
       "      <td>WASHINGTON (Reuters) - Trump campaign adviser ...</td>\n",
       "      <td>True</td>\n",
       "    </tr>\n",
       "    <tr>\n",
       "      <th>4</th>\n",
       "      <td>Trump wants Postal Service to charge 'much mor...</td>\n",
       "      <td>SEATTLE/WASHINGTON (Reuters) - President Donal...</td>\n",
       "      <td>True</td>\n",
       "    </tr>\n",
       "    <tr>\n",
       "      <th>...</th>\n",
       "      <td>...</td>\n",
       "      <td>...</td>\n",
       "      <td>...</td>\n",
       "    </tr>\n",
       "    <tr>\n",
       "      <th>21412</th>\n",
       "      <td>'Fully committed' NATO backs new U.S. approach...</td>\n",
       "      <td>BRUSSELS (Reuters) - NATO allies on Tuesday we...</td>\n",
       "      <td>True</td>\n",
       "    </tr>\n",
       "    <tr>\n",
       "      <th>21413</th>\n",
       "      <td>LexisNexis withdrew two products from Chinese ...</td>\n",
       "      <td>LONDON (Reuters) - LexisNexis, a provider of l...</td>\n",
       "      <td>True</td>\n",
       "    </tr>\n",
       "    <tr>\n",
       "      <th>21414</th>\n",
       "      <td>Minsk cultural hub becomes haven from authorities</td>\n",
       "      <td>MINSK (Reuters) - In the shadow of disused Sov...</td>\n",
       "      <td>True</td>\n",
       "    </tr>\n",
       "    <tr>\n",
       "      <th>21415</th>\n",
       "      <td>Vatican upbeat on possibility of Pope Francis ...</td>\n",
       "      <td>MOSCOW (Reuters) - Vatican Secretary of State ...</td>\n",
       "      <td>True</td>\n",
       "    </tr>\n",
       "    <tr>\n",
       "      <th>21416</th>\n",
       "      <td>Indonesia to buy $1.14 billion worth of Russia...</td>\n",
       "      <td>JAKARTA (Reuters) - Indonesia will buy 11 Sukh...</td>\n",
       "      <td>True</td>\n",
       "    </tr>\n",
       "  </tbody>\n",
       "</table>\n",
       "<p>21417 rows × 3 columns</p>\n",
       "</div>"
      ],
      "text/plain": [
       "                                                   title  \\\n",
       "0      As U.S. budget fight looms, Republicans flip t...   \n",
       "1      U.S. military to accept transgender recruits o...   \n",
       "2      Senior U.S. Republican senator: 'Let Mr. Muell...   \n",
       "3      FBI Russia probe helped by Australian diplomat...   \n",
       "4      Trump wants Postal Service to charge 'much mor...   \n",
       "...                                                  ...   \n",
       "21412  'Fully committed' NATO backs new U.S. approach...   \n",
       "21413  LexisNexis withdrew two products from Chinese ...   \n",
       "21414  Minsk cultural hub becomes haven from authorities   \n",
       "21415  Vatican upbeat on possibility of Pope Francis ...   \n",
       "21416  Indonesia to buy $1.14 billion worth of Russia...   \n",
       "\n",
       "                                                    text news_type  \n",
       "0      WASHINGTON (Reuters) - The head of a conservat...      True  \n",
       "1      WASHINGTON (Reuters) - Transgender people will...      True  \n",
       "2      WASHINGTON (Reuters) - The special counsel inv...      True  \n",
       "3      WASHINGTON (Reuters) - Trump campaign adviser ...      True  \n",
       "4      SEATTLE/WASHINGTON (Reuters) - President Donal...      True  \n",
       "...                                                  ...       ...  \n",
       "21412  BRUSSELS (Reuters) - NATO allies on Tuesday we...      True  \n",
       "21413  LONDON (Reuters) - LexisNexis, a provider of l...      True  \n",
       "21414  MINSK (Reuters) - In the shadow of disused Sov...      True  \n",
       "21415  MOSCOW (Reuters) - Vatican Secretary of State ...      True  \n",
       "21416  JAKARTA (Reuters) - Indonesia will buy 11 Sukh...      True  \n",
       "\n",
       "[21417 rows x 3 columns]"
      ]
     },
     "execution_count": 122,
     "metadata": {},
     "output_type": "execute_result"
    }
   ],
   "source": [
    "data_True = pd.read_csv(\"True.csv\")\n",
    "data_True = data_True[[\"title\", \"text\"]]\n",
    "data_True[\"news_type\"] = np.full((data_True.shape[0],1),\"True\")\n",
    "data_True"
   ]
  },
  {
   "cell_type": "markdown",
   "id": "306b26cf-2dc8-4730-89b0-ad321a6ff9d3",
   "metadata": {
    "jp-MarkdownHeadingCollapsed": true
   },
   "source": [
    "## B\n",
    "Upload the Fake.csv data provided on canvas into Python.  \n",
    "You will create a new data frame by selecting the “title” and “text” columns, then, adding a new column called “news_type” where all the values on this new column are “Fake”.  \n",
    "So, your new data frame should have three columns; “title”, “text” and “news_type”."
   ]
  },
  {
   "cell_type": "code",
   "execution_count": 123,
   "id": "baf93cfb-8e95-4692-ba66-383c6afa31cf",
   "metadata": {},
   "outputs": [
    {
     "data": {
      "text/html": [
       "<div>\n",
       "<style scoped>\n",
       "    .dataframe tbody tr th:only-of-type {\n",
       "        vertical-align: middle;\n",
       "    }\n",
       "\n",
       "    .dataframe tbody tr th {\n",
       "        vertical-align: top;\n",
       "    }\n",
       "\n",
       "    .dataframe thead th {\n",
       "        text-align: right;\n",
       "    }\n",
       "</style>\n",
       "<table border=\"1\" class=\"dataframe\">\n",
       "  <thead>\n",
       "    <tr style=\"text-align: right;\">\n",
       "      <th></th>\n",
       "      <th>title</th>\n",
       "      <th>text</th>\n",
       "      <th>news_type</th>\n",
       "    </tr>\n",
       "  </thead>\n",
       "  <tbody>\n",
       "    <tr>\n",
       "      <th>0</th>\n",
       "      <td>Donald Trump Sends Out Embarrassing New Year’...</td>\n",
       "      <td>Donald Trump just couldn t wish all Americans ...</td>\n",
       "      <td>Fake</td>\n",
       "    </tr>\n",
       "    <tr>\n",
       "      <th>1</th>\n",
       "      <td>Drunk Bragging Trump Staffer Started Russian ...</td>\n",
       "      <td>House Intelligence Committee Chairman Devin Nu...</td>\n",
       "      <td>Fake</td>\n",
       "    </tr>\n",
       "    <tr>\n",
       "      <th>2</th>\n",
       "      <td>Sheriff David Clarke Becomes An Internet Joke...</td>\n",
       "      <td>On Friday, it was revealed that former Milwauk...</td>\n",
       "      <td>Fake</td>\n",
       "    </tr>\n",
       "    <tr>\n",
       "      <th>3</th>\n",
       "      <td>Trump Is So Obsessed He Even Has Obama’s Name...</td>\n",
       "      <td>On Christmas day, Donald Trump announced that ...</td>\n",
       "      <td>Fake</td>\n",
       "    </tr>\n",
       "    <tr>\n",
       "      <th>4</th>\n",
       "      <td>Pope Francis Just Called Out Donald Trump Dur...</td>\n",
       "      <td>Pope Francis used his annual Christmas Day mes...</td>\n",
       "      <td>Fake</td>\n",
       "    </tr>\n",
       "    <tr>\n",
       "      <th>...</th>\n",
       "      <td>...</td>\n",
       "      <td>...</td>\n",
       "      <td>...</td>\n",
       "    </tr>\n",
       "    <tr>\n",
       "      <th>23476</th>\n",
       "      <td>McPain: John McCain Furious That Iran Treated ...</td>\n",
       "      <td>21st Century Wire says As 21WIRE reported earl...</td>\n",
       "      <td>Fake</td>\n",
       "    </tr>\n",
       "    <tr>\n",
       "      <th>23477</th>\n",
       "      <td>JUSTICE? Yahoo Settles E-mail Privacy Class-ac...</td>\n",
       "      <td>21st Century Wire says It s a familiar theme. ...</td>\n",
       "      <td>Fake</td>\n",
       "    </tr>\n",
       "    <tr>\n",
       "      <th>23478</th>\n",
       "      <td>Sunnistan: US and Allied ‘Safe Zone’ Plan to T...</td>\n",
       "      <td>Patrick Henningsen  21st Century WireRemember ...</td>\n",
       "      <td>Fake</td>\n",
       "    </tr>\n",
       "    <tr>\n",
       "      <th>23479</th>\n",
       "      <td>How to Blow $700 Million: Al Jazeera America F...</td>\n",
       "      <td>21st Century Wire says Al Jazeera America will...</td>\n",
       "      <td>Fake</td>\n",
       "    </tr>\n",
       "    <tr>\n",
       "      <th>23480</th>\n",
       "      <td>10 U.S. Navy Sailors Held by Iranian Military ...</td>\n",
       "      <td>21st Century Wire says As 21WIRE predicted in ...</td>\n",
       "      <td>Fake</td>\n",
       "    </tr>\n",
       "  </tbody>\n",
       "</table>\n",
       "<p>23481 rows × 3 columns</p>\n",
       "</div>"
      ],
      "text/plain": [
       "                                                   title  \\\n",
       "0       Donald Trump Sends Out Embarrassing New Year’...   \n",
       "1       Drunk Bragging Trump Staffer Started Russian ...   \n",
       "2       Sheriff David Clarke Becomes An Internet Joke...   \n",
       "3       Trump Is So Obsessed He Even Has Obama’s Name...   \n",
       "4       Pope Francis Just Called Out Donald Trump Dur...   \n",
       "...                                                  ...   \n",
       "23476  McPain: John McCain Furious That Iran Treated ...   \n",
       "23477  JUSTICE? Yahoo Settles E-mail Privacy Class-ac...   \n",
       "23478  Sunnistan: US and Allied ‘Safe Zone’ Plan to T...   \n",
       "23479  How to Blow $700 Million: Al Jazeera America F...   \n",
       "23480  10 U.S. Navy Sailors Held by Iranian Military ...   \n",
       "\n",
       "                                                    text news_type  \n",
       "0      Donald Trump just couldn t wish all Americans ...      Fake  \n",
       "1      House Intelligence Committee Chairman Devin Nu...      Fake  \n",
       "2      On Friday, it was revealed that former Milwauk...      Fake  \n",
       "3      On Christmas day, Donald Trump announced that ...      Fake  \n",
       "4      Pope Francis used his annual Christmas Day mes...      Fake  \n",
       "...                                                  ...       ...  \n",
       "23476  21st Century Wire says As 21WIRE reported earl...      Fake  \n",
       "23477  21st Century Wire says It s a familiar theme. ...      Fake  \n",
       "23478  Patrick Henningsen  21st Century WireRemember ...      Fake  \n",
       "23479  21st Century Wire says Al Jazeera America will...      Fake  \n",
       "23480  21st Century Wire says As 21WIRE predicted in ...      Fake  \n",
       "\n",
       "[23481 rows x 3 columns]"
      ]
     },
     "execution_count": 123,
     "metadata": {},
     "output_type": "execute_result"
    }
   ],
   "source": [
    "data_Fake = pd.read_csv(\"Fake.csv\")\n",
    "data_Fake = data_Fake[[\"title\", \"text\"]]\n",
    "data_Fake[\"news_type\"] = np.full((data_Fake.shape[0],1),\"Fake\")\n",
    "data_Fake"
   ]
  },
  {
   "cell_type": "markdown",
   "id": "70261bb9-9d8a-447c-adcd-053e0d931110",
   "metadata": {
    "jp-MarkdownHeadingCollapsed": true
   },
   "source": [
    "## C\n",
    "Merge the data frame in a) and b) so that one of the data frames is stacked vertically on top of the other.  \n",
    "Combine the text in the “title” and “text” columns of the merged data frame into another column called “news”.  \n",
    "Drop the “title” and “text” columns so that your final data frame is has only two columns, “news” and “news_type”.  \n",
    "Print the first five rows of your final data frame. "
   ]
  },
  {
   "cell_type": "code",
   "execution_count": 124,
   "id": "64946eb0-86b2-4abc-901c-cc8193e973b7",
   "metadata": {},
   "outputs": [
    {
     "data": {
      "text/html": [
       "<div>\n",
       "<style scoped>\n",
       "    .dataframe tbody tr th:only-of-type {\n",
       "        vertical-align: middle;\n",
       "    }\n",
       "\n",
       "    .dataframe tbody tr th {\n",
       "        vertical-align: top;\n",
       "    }\n",
       "\n",
       "    .dataframe thead th {\n",
       "        text-align: right;\n",
       "    }\n",
       "</style>\n",
       "<table border=\"1\" class=\"dataframe\">\n",
       "  <thead>\n",
       "    <tr style=\"text-align: right;\">\n",
       "      <th></th>\n",
       "      <th>news_type</th>\n",
       "      <th>news</th>\n",
       "    </tr>\n",
       "  </thead>\n",
       "  <tbody>\n",
       "    <tr>\n",
       "      <th>0</th>\n",
       "      <td>True</td>\n",
       "      <td>As U.S. budget fight looms, Republicans flip t...</td>\n",
       "    </tr>\n",
       "    <tr>\n",
       "      <th>1</th>\n",
       "      <td>True</td>\n",
       "      <td>U.S. military to accept transgender recruits o...</td>\n",
       "    </tr>\n",
       "    <tr>\n",
       "      <th>2</th>\n",
       "      <td>True</td>\n",
       "      <td>Senior U.S. Republican senator: 'Let Mr. Muell...</td>\n",
       "    </tr>\n",
       "    <tr>\n",
       "      <th>3</th>\n",
       "      <td>True</td>\n",
       "      <td>FBI Russia probe helped by Australian diplomat...</td>\n",
       "    </tr>\n",
       "    <tr>\n",
       "      <th>4</th>\n",
       "      <td>True</td>\n",
       "      <td>Trump wants Postal Service to charge 'much mor...</td>\n",
       "    </tr>\n",
       "  </tbody>\n",
       "</table>\n",
       "</div>"
      ],
      "text/plain": [
       "  news_type                                               news\n",
       "0      True  As U.S. budget fight looms, Republicans flip t...\n",
       "1      True  U.S. military to accept transgender recruits o...\n",
       "2      True  Senior U.S. Republican senator: 'Let Mr. Muell...\n",
       "3      True  FBI Russia probe helped by Australian diplomat...\n",
       "4      True  Trump wants Postal Service to charge 'much mor..."
      ]
     },
     "execution_count": 124,
     "metadata": {},
     "output_type": "execute_result"
    }
   ],
   "source": [
    "data = pd.concat([data_True, data_Fake])\n",
    "data[\"news\"] = data[\"title\"].astype(str) + data[\"text\"]\n",
    "data = data.drop([\"title\",\"text\"], axis=1)\n",
    "data.head(n=5)"
   ]
  },
  {
   "cell_type": "markdown",
   "id": "46aac0ec-69f9-44a1-82ff-11a59fb107b0",
   "metadata": {
    "jp-MarkdownHeadingCollapsed": true
   },
   "source": [
    "## D\n",
    "Preprocess your data by cleaning the textual data in the “news” column and removing the stop words, special characters, punctuations, etc especially at the beginning and end of each word.  \n",
    "You can display any messy news text before you clean the data, then display the messy news text again after cleaning the data to see if your data cleaning worked well.  \n",
    "Also, drop instances where the news text is less than 50 words. "
   ]
  },
  {
   "cell_type": "code",
   "execution_count": 125,
   "id": "4e9e496c-d0b4-449d-9726-f96a870a6c11",
   "metadata": {},
   "outputs": [],
   "source": [
    "stopwords = set(nltk.corpus.stopwords.words('english'))"
   ]
  },
  {
   "cell_type": "code",
   "execution_count": 126,
   "id": "3ac3766b-dfe3-43b0-8bc1-6ddd357c3c59",
   "metadata": {},
   "outputs": [
    {
     "data": {
      "text/html": [
       "<div>\n",
       "<style scoped>\n",
       "    .dataframe tbody tr th:only-of-type {\n",
       "        vertical-align: middle;\n",
       "    }\n",
       "\n",
       "    .dataframe tbody tr th {\n",
       "        vertical-align: top;\n",
       "    }\n",
       "\n",
       "    .dataframe thead th {\n",
       "        text-align: right;\n",
       "    }\n",
       "</style>\n",
       "<table border=\"1\" class=\"dataframe\">\n",
       "  <thead>\n",
       "    <tr style=\"text-align: right;\">\n",
       "      <th></th>\n",
       "      <th>news_type</th>\n",
       "      <th>news</th>\n",
       "    </tr>\n",
       "  </thead>\n",
       "  <tbody>\n",
       "    <tr>\n",
       "      <th>0</th>\n",
       "      <td>True</td>\n",
       "      <td>As U.S. budget fight looms, Republicans flip t...</td>\n",
       "    </tr>\n",
       "    <tr>\n",
       "      <th>1</th>\n",
       "      <td>True</td>\n",
       "      <td>U.S. military to accept transgender recruits o...</td>\n",
       "    </tr>\n",
       "    <tr>\n",
       "      <th>2</th>\n",
       "      <td>True</td>\n",
       "      <td>Senior U.S. Republican senator: 'Let Mr. Muell...</td>\n",
       "    </tr>\n",
       "    <tr>\n",
       "      <th>3</th>\n",
       "      <td>True</td>\n",
       "      <td>FBI Russia probe helped by Australian diplomat...</td>\n",
       "    </tr>\n",
       "    <tr>\n",
       "      <th>4</th>\n",
       "      <td>True</td>\n",
       "      <td>Trump wants Postal Service to charge 'much mor...</td>\n",
       "    </tr>\n",
       "    <tr>\n",
       "      <th>...</th>\n",
       "      <td>...</td>\n",
       "      <td>...</td>\n",
       "    </tr>\n",
       "    <tr>\n",
       "      <th>23476</th>\n",
       "      <td>Fake</td>\n",
       "      <td>McPain: John McCain Furious That Iran Treated ...</td>\n",
       "    </tr>\n",
       "    <tr>\n",
       "      <th>23477</th>\n",
       "      <td>Fake</td>\n",
       "      <td>JUSTICE? Yahoo Settles E-mail Privacy Class-ac...</td>\n",
       "    </tr>\n",
       "    <tr>\n",
       "      <th>23478</th>\n",
       "      <td>Fake</td>\n",
       "      <td>Sunnistan: US and Allied ‘Safe Zone’ Plan to T...</td>\n",
       "    </tr>\n",
       "    <tr>\n",
       "      <th>23479</th>\n",
       "      <td>Fake</td>\n",
       "      <td>How to Blow $700 Million: Al Jazeera America F...</td>\n",
       "    </tr>\n",
       "    <tr>\n",
       "      <th>23480</th>\n",
       "      <td>Fake</td>\n",
       "      <td>10 U.S. Navy Sailors Held by Iranian Military ...</td>\n",
       "    </tr>\n",
       "  </tbody>\n",
       "</table>\n",
       "<p>44833 rows × 2 columns</p>\n",
       "</div>"
      ],
      "text/plain": [
       "      news_type                                               news\n",
       "0          True  As U.S. budget fight looms, Republicans flip t...\n",
       "1          True  U.S. military to accept transgender recruits o...\n",
       "2          True  Senior U.S. Republican senator: 'Let Mr. Muell...\n",
       "3          True  FBI Russia probe helped by Australian diplomat...\n",
       "4          True  Trump wants Postal Service to charge 'much mor...\n",
       "...         ...                                                ...\n",
       "23476      Fake  McPain: John McCain Furious That Iran Treated ...\n",
       "23477      Fake  JUSTICE? Yahoo Settles E-mail Privacy Class-ac...\n",
       "23478      Fake  Sunnistan: US and Allied ‘Safe Zone’ Plan to T...\n",
       "23479      Fake  How to Blow $700 Million: Al Jazeera America F...\n",
       "23480      Fake  10 U.S. Navy Sailors Held by Iranian Military ...\n",
       "\n",
       "[44833 rows x 2 columns]"
      ]
     },
     "execution_count": 126,
     "metadata": {},
     "output_type": "execute_result"
    }
   ],
   "source": [
    "# All news that contain stopwords\n",
    "data[data[\"news\"].str.contains(\"|\".join(stopwords))]"
   ]
  },
  {
   "cell_type": "code",
   "execution_count": 127,
   "id": "40960f14-7a93-4c26-bf6f-0651904517ed",
   "metadata": {},
   "outputs": [
    {
     "data": {
      "text/html": [
       "<div>\n",
       "<style scoped>\n",
       "    .dataframe tbody tr th:only-of-type {\n",
       "        vertical-align: middle;\n",
       "    }\n",
       "\n",
       "    .dataframe tbody tr th {\n",
       "        vertical-align: top;\n",
       "    }\n",
       "\n",
       "    .dataframe thead th {\n",
       "        text-align: right;\n",
       "    }\n",
       "</style>\n",
       "<table border=\"1\" class=\"dataframe\">\n",
       "  <thead>\n",
       "    <tr style=\"text-align: right;\">\n",
       "      <th></th>\n",
       "      <th>news_type</th>\n",
       "      <th>news</th>\n",
       "    </tr>\n",
       "  </thead>\n",
       "  <tbody>\n",
       "    <tr>\n",
       "      <th>0</th>\n",
       "      <td>True</td>\n",
       "      <td>As U.S. budget fight looms, Republicans flip f...</td>\n",
       "    </tr>\n",
       "    <tr>\n",
       "      <th>1</th>\n",
       "      <td>True</td>\n",
       "      <td>U.S. military accept transgender recruits Mond...</td>\n",
       "    </tr>\n",
       "    <tr>\n",
       "      <th>2</th>\n",
       "      <td>True</td>\n",
       "      <td>Senior U.S. Republican senator: 'Let Mr. Muell...</td>\n",
       "    </tr>\n",
       "    <tr>\n",
       "      <th>3</th>\n",
       "      <td>True</td>\n",
       "      <td>FBI Russia probe helped Australian diplomat ti...</td>\n",
       "    </tr>\n",
       "    <tr>\n",
       "      <th>4</th>\n",
       "      <td>True</td>\n",
       "      <td>Trump wants Postal Service charge 'much more' ...</td>\n",
       "    </tr>\n",
       "    <tr>\n",
       "      <th>...</th>\n",
       "      <td>...</td>\n",
       "      <td>...</td>\n",
       "    </tr>\n",
       "    <tr>\n",
       "      <th>23476</th>\n",
       "      <td>Fake</td>\n",
       "      <td>McPain: John McCain Furious That Iran Treated ...</td>\n",
       "    </tr>\n",
       "    <tr>\n",
       "      <th>23477</th>\n",
       "      <td>Fake</td>\n",
       "      <td>JUSTICE? Yahoo Settles E-mail Privacy Class-ac...</td>\n",
       "    </tr>\n",
       "    <tr>\n",
       "      <th>23478</th>\n",
       "      <td>Fake</td>\n",
       "      <td>Sunnistan: US Allied ‘Safe Zone’ Plan Take Ter...</td>\n",
       "    </tr>\n",
       "    <tr>\n",
       "      <th>23479</th>\n",
       "      <td>Fake</td>\n",
       "      <td>How Blow $700 Million: Al Jazeera America Fina...</td>\n",
       "    </tr>\n",
       "    <tr>\n",
       "      <th>23480</th>\n",
       "      <td>Fake</td>\n",
       "      <td>10 U.S. Navy Sailors Held Iranian Military – S...</td>\n",
       "    </tr>\n",
       "  </tbody>\n",
       "</table>\n",
       "<p>44898 rows × 2 columns</p>\n",
       "</div>"
      ],
      "text/plain": [
       "      news_type                                               news\n",
       "0          True  As U.S. budget fight looms, Republicans flip f...\n",
       "1          True  U.S. military accept transgender recruits Mond...\n",
       "2          True  Senior U.S. Republican senator: 'Let Mr. Muell...\n",
       "3          True  FBI Russia probe helped Australian diplomat ti...\n",
       "4          True  Trump wants Postal Service charge 'much more' ...\n",
       "...         ...                                                ...\n",
       "23476      Fake  McPain: John McCain Furious That Iran Treated ...\n",
       "23477      Fake  JUSTICE? Yahoo Settles E-mail Privacy Class-ac...\n",
       "23478      Fake  Sunnistan: US Allied ‘Safe Zone’ Plan Take Ter...\n",
       "23479      Fake  How Blow $700 Million: Al Jazeera America Fina...\n",
       "23480      Fake  10 U.S. Navy Sailors Held Iranian Military – S...\n",
       "\n",
       "[44898 rows x 2 columns]"
      ]
     },
     "execution_count": 127,
     "metadata": {},
     "output_type": "execute_result"
    }
   ],
   "source": [
    "data[\"news\"] = data[\"news\"].apply(lambda x: ' '.join([item for item in x.split() if item not in stopwords]))\n",
    "data"
   ]
  },
  {
   "cell_type": "code",
   "execution_count": 128,
   "id": "ba675551-e749-4249-9ee9-d271b4d555d3",
   "metadata": {},
   "outputs": [],
   "source": [
    "# Removing special characters and punctuation\n",
    "regex = \"[^A-Za-z0-9 ]+\""
   ]
  },
  {
   "cell_type": "code",
   "execution_count": 129,
   "id": "60bcdfda-1914-4ac7-88d8-878d33356bba",
   "metadata": {},
   "outputs": [
    {
     "data": {
      "text/html": [
       "<div>\n",
       "<style scoped>\n",
       "    .dataframe tbody tr th:only-of-type {\n",
       "        vertical-align: middle;\n",
       "    }\n",
       "\n",
       "    .dataframe tbody tr th {\n",
       "        vertical-align: top;\n",
       "    }\n",
       "\n",
       "    .dataframe thead th {\n",
       "        text-align: right;\n",
       "    }\n",
       "</style>\n",
       "<table border=\"1\" class=\"dataframe\">\n",
       "  <thead>\n",
       "    <tr style=\"text-align: right;\">\n",
       "      <th></th>\n",
       "      <th>news_type</th>\n",
       "      <th>news</th>\n",
       "    </tr>\n",
       "  </thead>\n",
       "  <tbody>\n",
       "    <tr>\n",
       "      <th>0</th>\n",
       "      <td>True</td>\n",
       "      <td>As US budget fight looms Republicans flip fisc...</td>\n",
       "    </tr>\n",
       "    <tr>\n",
       "      <th>1</th>\n",
       "      <td>True</td>\n",
       "      <td>US military accept transgender recruits Monday...</td>\n",
       "    </tr>\n",
       "    <tr>\n",
       "      <th>2</th>\n",
       "      <td>True</td>\n",
       "      <td>Senior US Republican senator Let Mr Mueller jo...</td>\n",
       "    </tr>\n",
       "    <tr>\n",
       "      <th>3</th>\n",
       "      <td>True</td>\n",
       "      <td>FBI Russia probe helped Australian diplomat ti...</td>\n",
       "    </tr>\n",
       "    <tr>\n",
       "      <th>4</th>\n",
       "      <td>True</td>\n",
       "      <td>Trump wants Postal Service charge much more Am...</td>\n",
       "    </tr>\n",
       "    <tr>\n",
       "      <th>...</th>\n",
       "      <td>...</td>\n",
       "      <td>...</td>\n",
       "    </tr>\n",
       "    <tr>\n",
       "      <th>23476</th>\n",
       "      <td>Fake</td>\n",
       "      <td>McPain John McCain Furious That Iran Treated U...</td>\n",
       "    </tr>\n",
       "    <tr>\n",
       "      <th>23477</th>\n",
       "      <td>Fake</td>\n",
       "      <td>JUSTICE Yahoo Settles Email Privacy Classactio...</td>\n",
       "    </tr>\n",
       "    <tr>\n",
       "      <th>23478</th>\n",
       "      <td>Fake</td>\n",
       "      <td>Sunnistan US Allied Safe Zone Plan Take Territ...</td>\n",
       "    </tr>\n",
       "    <tr>\n",
       "      <th>23479</th>\n",
       "      <td>Fake</td>\n",
       "      <td>How Blow 700 Million Al Jazeera America Finall...</td>\n",
       "    </tr>\n",
       "    <tr>\n",
       "      <th>23480</th>\n",
       "      <td>Fake</td>\n",
       "      <td>10 US Navy Sailors Held Iranian Military  Sign...</td>\n",
       "    </tr>\n",
       "  </tbody>\n",
       "</table>\n",
       "<p>44898 rows × 2 columns</p>\n",
       "</div>"
      ],
      "text/plain": [
       "      news_type                                               news\n",
       "0          True  As US budget fight looms Republicans flip fisc...\n",
       "1          True  US military accept transgender recruits Monday...\n",
       "2          True  Senior US Republican senator Let Mr Mueller jo...\n",
       "3          True  FBI Russia probe helped Australian diplomat ti...\n",
       "4          True  Trump wants Postal Service charge much more Am...\n",
       "...         ...                                                ...\n",
       "23476      Fake  McPain John McCain Furious That Iran Treated U...\n",
       "23477      Fake  JUSTICE Yahoo Settles Email Privacy Classactio...\n",
       "23478      Fake  Sunnistan US Allied Safe Zone Plan Take Territ...\n",
       "23479      Fake  How Blow 700 Million Al Jazeera America Finall...\n",
       "23480      Fake  10 US Navy Sailors Held Iranian Military  Sign...\n",
       "\n",
       "[44898 rows x 2 columns]"
      ]
     },
     "execution_count": 129,
     "metadata": {},
     "output_type": "execute_result"
    }
   ],
   "source": [
    "data[\"news\"] = data[\"news\"].apply(lambda x: re.sub(regex, '', x))\n",
    "data"
   ]
  },
  {
   "cell_type": "code",
   "execution_count": 130,
   "id": "7ce23685-9c4b-4cda-9b20-85e43756b7ef",
   "metadata": {},
   "outputs": [
    {
     "name": "stdout",
     "output_type": "stream",
     "text": [
      "Graphic Supreme Court roundup\n",
      "WATTERS WORLD Do ObamacareHow work Video\n",
      "ITS NOT A MUSLIM BAN You Big Dummies VIDEO\n",
      "LIVE FEED INAUGURATION 2017\n",
      "BEST TWEET OF THE WEEK Hillary For Sale\n",
      "WATCH Life Accordion To Trump VIDEO\n",
      "YES OBAMAThere Is A Magic Wand Video\n",
      "WHERES HILLARY CLINTON SPOTTED Dining Alone\n",
      "TWEET OF THE DAY HillaryThe Price Of Failure\n",
      "OBAMA UNHINGED AND ANGRY He doin nothin Video\n",
      "AMAZING ENTRANCE Trump Does Les Deplorables Video\n",
      "The MAKE AMERICA GREAT AGAIN DoItYourself Kit\n",
      "MUST WATCH VIDEO BUSH EERILY WARNS US ABOUT ISIS\n",
      "VIDEO LIBERAL PUNDIT OBAMA WORST POTUS EVER\n",
      "WATTERS WORLD Do ObamacareHow work Video\n",
      "Judge Napolitano Slams SCOTUS Ruling Obamacare\n",
      "WATTERS WORLD Do ObamacareHow work Video\n"
     ]
    }
   ],
   "source": [
    "# Removing news with fewer than 50 characters\n",
    "for i in range(data.shape[0]):\n",
    "    if len(data.iloc[i][\"news\"]) < 50:\n",
    "        print(data.iloc[i][\"news\"])"
   ]
  },
  {
   "cell_type": "code",
   "execution_count": 131,
   "id": "3c7b3a28-2eea-4f29-b57b-be4936776058",
   "metadata": {},
   "outputs": [
    {
     "data": {
      "text/html": [
       "<div>\n",
       "<style scoped>\n",
       "    .dataframe tbody tr th:only-of-type {\n",
       "        vertical-align: middle;\n",
       "    }\n",
       "\n",
       "    .dataframe tbody tr th {\n",
       "        vertical-align: top;\n",
       "    }\n",
       "\n",
       "    .dataframe thead th {\n",
       "        text-align: right;\n",
       "    }\n",
       "</style>\n",
       "<table border=\"1\" class=\"dataframe\">\n",
       "  <thead>\n",
       "    <tr style=\"text-align: right;\">\n",
       "      <th></th>\n",
       "      <th>news_type</th>\n",
       "      <th>news</th>\n",
       "    </tr>\n",
       "  </thead>\n",
       "  <tbody>\n",
       "    <tr>\n",
       "      <th>0</th>\n",
       "      <td>True</td>\n",
       "      <td>As US budget fight looms Republicans flip fisc...</td>\n",
       "    </tr>\n",
       "    <tr>\n",
       "      <th>1</th>\n",
       "      <td>True</td>\n",
       "      <td>US military accept transgender recruits Monday...</td>\n",
       "    </tr>\n",
       "    <tr>\n",
       "      <th>2</th>\n",
       "      <td>True</td>\n",
       "      <td>Senior US Republican senator Let Mr Mueller jo...</td>\n",
       "    </tr>\n",
       "    <tr>\n",
       "      <th>3</th>\n",
       "      <td>True</td>\n",
       "      <td>FBI Russia probe helped Australian diplomat ti...</td>\n",
       "    </tr>\n",
       "    <tr>\n",
       "      <th>4</th>\n",
       "      <td>True</td>\n",
       "      <td>Trump wants Postal Service charge much more Am...</td>\n",
       "    </tr>\n",
       "    <tr>\n",
       "      <th>...</th>\n",
       "      <td>...</td>\n",
       "      <td>...</td>\n",
       "    </tr>\n",
       "    <tr>\n",
       "      <th>23476</th>\n",
       "      <td>Fake</td>\n",
       "      <td>McPain John McCain Furious That Iran Treated U...</td>\n",
       "    </tr>\n",
       "    <tr>\n",
       "      <th>23477</th>\n",
       "      <td>Fake</td>\n",
       "      <td>JUSTICE Yahoo Settles Email Privacy Classactio...</td>\n",
       "    </tr>\n",
       "    <tr>\n",
       "      <th>23478</th>\n",
       "      <td>Fake</td>\n",
       "      <td>Sunnistan US Allied Safe Zone Plan Take Territ...</td>\n",
       "    </tr>\n",
       "    <tr>\n",
       "      <th>23479</th>\n",
       "      <td>Fake</td>\n",
       "      <td>How Blow 700 Million Al Jazeera America Finall...</td>\n",
       "    </tr>\n",
       "    <tr>\n",
       "      <th>23480</th>\n",
       "      <td>Fake</td>\n",
       "      <td>10 US Navy Sailors Held Iranian Military  Sign...</td>\n",
       "    </tr>\n",
       "  </tbody>\n",
       "</table>\n",
       "<p>44881 rows × 2 columns</p>\n",
       "</div>"
      ],
      "text/plain": [
       "      news_type                                               news\n",
       "0          True  As US budget fight looms Republicans flip fisc...\n",
       "1          True  US military accept transgender recruits Monday...\n",
       "2          True  Senior US Republican senator Let Mr Mueller jo...\n",
       "3          True  FBI Russia probe helped Australian diplomat ti...\n",
       "4          True  Trump wants Postal Service charge much more Am...\n",
       "...         ...                                                ...\n",
       "23476      Fake  McPain John McCain Furious That Iran Treated U...\n",
       "23477      Fake  JUSTICE Yahoo Settles Email Privacy Classactio...\n",
       "23478      Fake  Sunnistan US Allied Safe Zone Plan Take Territ...\n",
       "23479      Fake  How Blow 700 Million Al Jazeera America Finall...\n",
       "23480      Fake  10 US Navy Sailors Held Iranian Military  Sign...\n",
       "\n",
       "[44881 rows x 2 columns]"
      ]
     },
     "execution_count": 131,
     "metadata": {},
     "output_type": "execute_result"
    }
   ],
   "source": [
    "# Removing news with less that 50 characters\n",
    "data = data[data[\"news\"].str.len() >= 50]\n",
    "data"
   ]
  },
  {
   "cell_type": "code",
   "execution_count": 132,
   "id": "623816f3-ed5a-41d4-8597-d31f85bc8608",
   "metadata": {},
   "outputs": [
    {
     "data": {
      "text/html": [
       "<div>\n",
       "<style scoped>\n",
       "    .dataframe tbody tr th:only-of-type {\n",
       "        vertical-align: middle;\n",
       "    }\n",
       "\n",
       "    .dataframe tbody tr th {\n",
       "        vertical-align: top;\n",
       "    }\n",
       "\n",
       "    .dataframe thead th {\n",
       "        text-align: right;\n",
       "    }\n",
       "</style>\n",
       "<table border=\"1\" class=\"dataframe\">\n",
       "  <thead>\n",
       "    <tr style=\"text-align: right;\">\n",
       "      <th></th>\n",
       "      <th>news_type</th>\n",
       "      <th>news</th>\n",
       "    </tr>\n",
       "  </thead>\n",
       "  <tbody>\n",
       "    <tr>\n",
       "      <th>0</th>\n",
       "      <td>True</td>\n",
       "      <td>As US budget fight looms Republicans flip fisc...</td>\n",
       "    </tr>\n",
       "    <tr>\n",
       "      <th>1</th>\n",
       "      <td>True</td>\n",
       "      <td>US military accept transgender recruits Monday...</td>\n",
       "    </tr>\n",
       "    <tr>\n",
       "      <th>2</th>\n",
       "      <td>True</td>\n",
       "      <td>Senior US Republican senator Let Mr Mueller jo...</td>\n",
       "    </tr>\n",
       "    <tr>\n",
       "      <th>3</th>\n",
       "      <td>True</td>\n",
       "      <td>FBI Russia probe helped Australian diplomat ti...</td>\n",
       "    </tr>\n",
       "    <tr>\n",
       "      <th>4</th>\n",
       "      <td>True</td>\n",
       "      <td>Trump wants Postal Service charge much more Am...</td>\n",
       "    </tr>\n",
       "    <tr>\n",
       "      <th>...</th>\n",
       "      <td>...</td>\n",
       "      <td>...</td>\n",
       "    </tr>\n",
       "    <tr>\n",
       "      <th>22698</th>\n",
       "      <td>Fake</td>\n",
       "      <td>The White House The Theatrics Gun Control21st ...</td>\n",
       "    </tr>\n",
       "    <tr>\n",
       "      <th>22699</th>\n",
       "      <td>Fake</td>\n",
       "      <td>Activists Terrorists How Media Controls Dictat...</td>\n",
       "    </tr>\n",
       "    <tr>\n",
       "      <th>22700</th>\n",
       "      <td>Fake</td>\n",
       "      <td>BOILER ROOM  No Surrender No Retreat Heads Wil...</td>\n",
       "    </tr>\n",
       "    <tr>\n",
       "      <th>22701</th>\n",
       "      <td>Fake</td>\n",
       "      <td>Federal Showdown Looms Oregon After BLM Abuse ...</td>\n",
       "    </tr>\n",
       "    <tr>\n",
       "      <th>22702</th>\n",
       "      <td>Fake</td>\n",
       "      <td>A Troubled King Chicagos Rahm Emanuel Desperat...</td>\n",
       "    </tr>\n",
       "  </tbody>\n",
       "</table>\n",
       "<p>39071 rows × 2 columns</p>\n",
       "</div>"
      ],
      "text/plain": [
       "      news_type                                               news\n",
       "0          True  As US budget fight looms Republicans flip fisc...\n",
       "1          True  US military accept transgender recruits Monday...\n",
       "2          True  Senior US Republican senator Let Mr Mueller jo...\n",
       "3          True  FBI Russia probe helped Australian diplomat ti...\n",
       "4          True  Trump wants Postal Service charge much more Am...\n",
       "...         ...                                                ...\n",
       "22698      Fake  The White House The Theatrics Gun Control21st ...\n",
       "22699      Fake  Activists Terrorists How Media Controls Dictat...\n",
       "22700      Fake  BOILER ROOM  No Surrender No Retreat Heads Wil...\n",
       "22701      Fake  Federal Showdown Looms Oregon After BLM Abuse ...\n",
       "22702      Fake  A Troubled King Chicagos Rahm Emanuel Desperat...\n",
       "\n",
       "[39071 rows x 2 columns]"
      ]
     },
     "execution_count": 132,
     "metadata": {},
     "output_type": "execute_result"
    }
   ],
   "source": [
    "# Removing duplicate news\n",
    "data = data.drop_duplicates(subset=\"news\")\n",
    "data"
   ]
  },
  {
   "cell_type": "markdown",
   "id": "cff6ea68-9165-41ed-a1db-8eda4110f9ef",
   "metadata": {},
   "source": [
    "## E\n",
    "Transform the input text data into feature vectors where the entries of the feature vectors are term-frequency-inverse-document-frequency.  \n",
    "Use the TfidfVectorizer() in sklearn. "
   ]
  },
  {
   "cell_type": "code",
   "execution_count": 133,
   "id": "0b0b840f-483c-4988-b379-faf95e96280f",
   "metadata": {},
   "outputs": [
    {
     "data": {
      "text/plain": [
       "<39071x251582 sparse matrix of type '<class 'numpy.float64'>'\n",
       "\twith 6887829 stored elements in Compressed Sparse Row format>"
      ]
     },
     "execution_count": 133,
     "metadata": {},
     "output_type": "execute_result"
    }
   ],
   "source": [
    "vectorizer = TfidfVectorizer()\n",
    "a = vectorizer.fit_transform(data[\"news\"])\n",
    "a"
   ]
  },
  {
   "cell_type": "code",
   "execution_count": 134,
   "id": "d9709801-296f-410a-b4e1-3d5c1a97dce6",
   "metadata": {},
   "outputs": [
    {
     "data": {
      "text/html": [
       "<div>\n",
       "<style scoped>\n",
       "    .dataframe tbody tr th:only-of-type {\n",
       "        vertical-align: middle;\n",
       "    }\n",
       "\n",
       "    .dataframe tbody tr th {\n",
       "        vertical-align: top;\n",
       "    }\n",
       "\n",
       "    .dataframe thead th {\n",
       "        text-align: right;\n",
       "    }\n",
       "</style>\n",
       "<table border=\"1\" class=\"dataframe\">\n",
       "  <thead>\n",
       "    <tr style=\"text-align: right;\">\n",
       "      <th></th>\n",
       "      <th>news_type</th>\n",
       "      <th>news</th>\n",
       "    </tr>\n",
       "  </thead>\n",
       "  <tbody>\n",
       "    <tr>\n",
       "      <th>0</th>\n",
       "      <td>True</td>\n",
       "      <td>(0, 249770)\\t0.02465021851116228\\n  (0, 1893...</td>\n",
       "    </tr>\n",
       "    <tr>\n",
       "      <th>1</th>\n",
       "      <td>True</td>\n",
       "      <td>(0, 110781)\\t0.0343572114326606\\n  (0, 92431...</td>\n",
       "    </tr>\n",
       "    <tr>\n",
       "      <th>2</th>\n",
       "      <td>True</td>\n",
       "      <td>(0, 111071)\\t0.056331516709626425\\n  (0, 109...</td>\n",
       "    </tr>\n",
       "    <tr>\n",
       "      <th>3</th>\n",
       "      <td>True</td>\n",
       "      <td>(0, 145801)\\t0.04549063378009072\\n  (0, 1157...</td>\n",
       "    </tr>\n",
       "    <tr>\n",
       "      <th>4</th>\n",
       "      <td>True</td>\n",
       "      <td>(0, 9129)\\t0.019663964021919812\\n  (0, 22349...</td>\n",
       "    </tr>\n",
       "    <tr>\n",
       "      <th>...</th>\n",
       "      <td>...</td>\n",
       "      <td>...</td>\n",
       "    </tr>\n",
       "    <tr>\n",
       "      <th>22698</th>\n",
       "      <td>Fake</td>\n",
       "      <td>(0, 97360)\\t0.058753510792725436\\n  (0, 1793...</td>\n",
       "    </tr>\n",
       "    <tr>\n",
       "      <th>22699</th>\n",
       "      <td>Fake</td>\n",
       "      <td>(0, 48299)\\t0.022413395930641213\\n  (0, 9409...</td>\n",
       "    </tr>\n",
       "    <tr>\n",
       "      <th>22700</th>\n",
       "      <td>Fake</td>\n",
       "      <td>(0, 208989)\\t0.13729258076743073\\n  (0, 1031...</td>\n",
       "    </tr>\n",
       "    <tr>\n",
       "      <th>22701</th>\n",
       "      <td>Fake</td>\n",
       "      <td>(0, 228036)\\t0.01618954860512946\\n  (0, 3709...</td>\n",
       "    </tr>\n",
       "    <tr>\n",
       "      <th>22702</th>\n",
       "      <td>Fake</td>\n",
       "      <td>(0, 160836)\\t0.050187122044824624\\n  (0, 144...</td>\n",
       "    </tr>\n",
       "  </tbody>\n",
       "</table>\n",
       "<p>39071 rows × 2 columns</p>\n",
       "</div>"
      ],
      "text/plain": [
       "      news_type                                               news\n",
       "0          True    (0, 249770)\\t0.02465021851116228\\n  (0, 1893...\n",
       "1          True    (0, 110781)\\t0.0343572114326606\\n  (0, 92431...\n",
       "2          True    (0, 111071)\\t0.056331516709626425\\n  (0, 109...\n",
       "3          True    (0, 145801)\\t0.04549063378009072\\n  (0, 1157...\n",
       "4          True    (0, 9129)\\t0.019663964021919812\\n  (0, 22349...\n",
       "...         ...                                                ...\n",
       "22698      Fake    (0, 97360)\\t0.058753510792725436\\n  (0, 1793...\n",
       "22699      Fake    (0, 48299)\\t0.022413395930641213\\n  (0, 9409...\n",
       "22700      Fake    (0, 208989)\\t0.13729258076743073\\n  (0, 1031...\n",
       "22701      Fake    (0, 228036)\\t0.01618954860512946\\n  (0, 3709...\n",
       "22702      Fake    (0, 160836)\\t0.050187122044824624\\n  (0, 144...\n",
       "\n",
       "[39071 rows x 2 columns]"
      ]
     },
     "execution_count": 134,
     "metadata": {},
     "output_type": "execute_result"
    }
   ],
   "source": [
    "temp = data.copy()\n",
    "for i in range(data.shape[0]):\n",
    "    temp.iloc[i][\"news\"] = a[i]\n",
    "temp"
   ]
  },
  {
   "cell_type": "code",
   "execution_count": 139,
   "id": "a527c917-cfca-4c98-9291-ddde2e0f2565",
   "metadata": {},
   "outputs": [
    {
     "data": {
      "text/html": [
       "<div>\n",
       "<style scoped>\n",
       "    .dataframe tbody tr th:only-of-type {\n",
       "        vertical-align: middle;\n",
       "    }\n",
       "\n",
       "    .dataframe tbody tr th {\n",
       "        vertical-align: top;\n",
       "    }\n",
       "\n",
       "    .dataframe thead th {\n",
       "        text-align: right;\n",
       "    }\n",
       "</style>\n",
       "<table border=\"1\" class=\"dataframe\">\n",
       "  <thead>\n",
       "    <tr style=\"text-align: right;\">\n",
       "      <th></th>\n",
       "      <th>news_type</th>\n",
       "      <th>news</th>\n",
       "    </tr>\n",
       "  </thead>\n",
       "  <tbody>\n",
       "    <tr>\n",
       "      <th>0</th>\n",
       "      <td>True</td>\n",
       "      <td>(0, 249770)\\t0.02465021851116228\\n  (0, 1893...</td>\n",
       "    </tr>\n",
       "    <tr>\n",
       "      <th>1</th>\n",
       "      <td>True</td>\n",
       "      <td>(0, 110781)\\t0.0343572114326606\\n  (0, 92431...</td>\n",
       "    </tr>\n",
       "    <tr>\n",
       "      <th>2</th>\n",
       "      <td>True</td>\n",
       "      <td>(0, 111071)\\t0.056331516709626425\\n  (0, 109...</td>\n",
       "    </tr>\n",
       "    <tr>\n",
       "      <th>3</th>\n",
       "      <td>True</td>\n",
       "      <td>(0, 145801)\\t0.04549063378009072\\n  (0, 1157...</td>\n",
       "    </tr>\n",
       "    <tr>\n",
       "      <th>4</th>\n",
       "      <td>True</td>\n",
       "      <td>(0, 9129)\\t0.019663964021919812\\n  (0, 22349...</td>\n",
       "    </tr>\n",
       "    <tr>\n",
       "      <th>...</th>\n",
       "      <td>...</td>\n",
       "      <td>...</td>\n",
       "    </tr>\n",
       "    <tr>\n",
       "      <th>22698</th>\n",
       "      <td>Fake</td>\n",
       "      <td>(0, 97360)\\t0.058753510792725436\\n  (0, 1793...</td>\n",
       "    </tr>\n",
       "    <tr>\n",
       "      <th>22699</th>\n",
       "      <td>Fake</td>\n",
       "      <td>(0, 48299)\\t0.022413395930641213\\n  (0, 9409...</td>\n",
       "    </tr>\n",
       "    <tr>\n",
       "      <th>22700</th>\n",
       "      <td>Fake</td>\n",
       "      <td>(0, 208989)\\t0.13729258076743073\\n  (0, 1031...</td>\n",
       "    </tr>\n",
       "    <tr>\n",
       "      <th>22701</th>\n",
       "      <td>Fake</td>\n",
       "      <td>(0, 228036)\\t0.01618954860512946\\n  (0, 3709...</td>\n",
       "    </tr>\n",
       "    <tr>\n",
       "      <th>22702</th>\n",
       "      <td>Fake</td>\n",
       "      <td>(0, 160836)\\t0.050187122044824624\\n  (0, 144...</td>\n",
       "    </tr>\n",
       "  </tbody>\n",
       "</table>\n",
       "<p>39071 rows × 2 columns</p>\n",
       "</div>"
      ],
      "text/plain": [
       "      news_type                                               news\n",
       "0          True    (0, 249770)\\t0.02465021851116228\\n  (0, 1893...\n",
       "1          True    (0, 110781)\\t0.0343572114326606\\n  (0, 92431...\n",
       "2          True    (0, 111071)\\t0.056331516709626425\\n  (0, 109...\n",
       "3          True    (0, 145801)\\t0.04549063378009072\\n  (0, 1157...\n",
       "4          True    (0, 9129)\\t0.019663964021919812\\n  (0, 22349...\n",
       "...         ...                                                ...\n",
       "22698      Fake    (0, 97360)\\t0.058753510792725436\\n  (0, 1793...\n",
       "22699      Fake    (0, 48299)\\t0.022413395930641213\\n  (0, 9409...\n",
       "22700      Fake    (0, 208989)\\t0.13729258076743073\\n  (0, 1031...\n",
       "22701      Fake    (0, 228036)\\t0.01618954860512946\\n  (0, 3709...\n",
       "22702      Fake    (0, 160836)\\t0.050187122044824624\\n  (0, 144...\n",
       "\n",
       "[39071 rows x 2 columns]"
      ]
     },
     "execution_count": 139,
     "metadata": {},
     "output_type": "execute_result"
    }
   ],
   "source": [
    "# For reasons unknown, assigning it directly creates memory issues requesting over 60 Gb, \n",
    "# but assigning it to a temporary dataframe, and then copying that dataframe to the original dataframe solves the issue\n",
    "data = temp.copy()\n",
    "data"
   ]
  },
  {
   "cell_type": "code",
   "execution_count": 142,
   "id": "7b9ae300-6da8-447a-8f60-aaa49628b7f8",
   "metadata": {},
   "outputs": [
    {
     "data": {
      "text/plain": [
       "<1x251582 sparse matrix of type '<class 'numpy.float64'>'\n",
       "\twith 326 stored elements in Compressed Sparse Row format>"
      ]
     },
     "execution_count": 142,
     "metadata": {},
     "output_type": "execute_result"
    }
   ],
   "source": [
    "data.iloc[0][\"news\"]"
   ]
  },
  {
   "cell_type": "code",
   "execution_count": 140,
   "id": "cfd68ecb-168f-42dd-8c58-efd53ac5cfc9",
   "metadata": {},
   "outputs": [],
   "source": [
    "del(temp)"
   ]
  },
  {
   "cell_type": "markdown",
   "id": "f4f1ab87-ae47-4680-ae80-7988ec1be41e",
   "metadata": {},
   "source": [
    "## F\n",
    "Spit the feature vectors and the output variable into into X_train, y_train, X_test and y_test, you can let the test set be 30% of the entire data. "
   ]
  },
  {
   "cell_type": "code",
   "execution_count": null,
   "id": "2387441e-56a0-4de5-8e03-4dc16cfb98aa",
   "metadata": {},
   "outputs": [],
   "source": []
  },
  {
   "cell_type": "markdown",
   "id": "1c712872-dd1b-4665-a5fa-28e92f4a113e",
   "metadata": {},
   "source": [
    "## G\n",
    "Fit an appropriate Naïve Bayes model and compute the training and test accuracy of the model.  \n",
    "Is there overfitting?"
   ]
  },
  {
   "cell_type": "markdown",
   "id": "3976b0a2-5b6b-48c5-bb06-a14dbd6b09e0",
   "metadata": {},
   "source": [
    "## H\n",
    "Fit a Naïve Bayes using cross validation and print the average cross validation score as well as the standard deviation of the cross-validation scores. "
   ]
  },
  {
   "cell_type": "markdown",
   "id": "4440dac4-ba55-4c14-8bea-4161e3f50b83",
   "metadata": {},
   "source": [
    "## I\n",
    "Select some hypermeters of your choice and tune using the grid search cross validation.  \n",
    "Use some other hyperparameters than those used in class examples. "
   ]
  }
 ],
 "metadata": {
  "kernelspec": {
   "display_name": "Python 3 (ipykernel)",
   "language": "python",
   "name": "python3"
  },
  "language_info": {
   "codemirror_mode": {
    "name": "ipython",
    "version": 3
   },
   "file_extension": ".py",
   "mimetype": "text/x-python",
   "name": "python",
   "nbconvert_exporter": "python",
   "pygments_lexer": "ipython3",
   "version": "3.10.12"
  }
 },
 "nbformat": 4,
 "nbformat_minor": 5
}
