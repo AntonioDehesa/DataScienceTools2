{
 "cells": [
  {
   "cell_type": "code",
   "execution_count": 1,
   "id": "d42a2c00-527e-4dae-9048-8daf7672ca80",
   "metadata": {},
   "outputs": [],
   "source": [
    "# Imports\n",
    "import pandas as pd\n",
    "import numpy as np\n",
    "import matplotlib.pyplot as plt\n",
    "import seaborn as sns\n",
    "# import joblib for model persistence\n",
    "from joblib import dump, load\n",
    "from sklearn.preprocessing import MinMaxScaler\n",
    "from sklearn.model_selection import train_test_split, GridSearchCV, cross_val_score, validation_curve\n",
    "from sklearn.tree import DecisionTreeClassifier\n",
    "from sklearn.ensemble import RandomForestClassifier\n",
    "from sklearn.metrics import (accuracy_score, zero_one_loss, classification_report, confusion_matrix, \n",
    "                            precision_score, recall_score, f1_score, RocCurveDisplay, ConfusionMatrixDisplay)"
   ]
  },
  {
   "cell_type": "markdown",
   "id": "06700f6d-17e1-463b-bd9d-13ea6d275dee",
   "metadata": {
    "jp-MarkdownHeadingCollapsed": true
   },
   "source": [
    "# Question 1\n",
    "For a presidential election, campaign organizers for both the Republican and Democrat parties are interested in identifying undecided voters who would consider voting for their party. The file BlueOrRed.csv (provided on canvas) contains data on a sample of voters with tracked variables including: whether or not they are undecided regarding their candidate preference, age, whether they own a home, gender, marital status, household size, income, years of education, and whether they attend church. For this dataset, you would use the Undecided variable as your output variable and the rest of the variables as your input variables. You want to predict whether a candidate is undecided(Undecided=1) or decided(Undecided=0). "
   ]
  },
  {
   "cell_type": "markdown",
   "id": "c336abe1-16b8-4bb0-80fe-6de99b79ba99",
   "metadata": {},
   "source": [
    "## A\n",
    "Upload the data into Python and check for missing data. If there is any missing data, drop the cases that have the missing data. "
   ]
  },
  {
   "cell_type": "code",
   "execution_count": 46,
   "id": "b85adc15-0213-4751-ba38-5b1f686e944e",
   "metadata": {},
   "outputs": [
    {
     "name": "stdout",
     "output_type": "stream",
     "text": [
      "<class 'pandas.core.frame.DataFrame'>\n",
      "RangeIndex: 10000 entries, 0 to 9999\n",
      "Data columns (total 9 columns):\n",
      " #   Column         Non-Null Count  Dtype  \n",
      "---  ------         --------------  -----  \n",
      " 0   Age            10000 non-null  int64  \n",
      " 1   HomeOwner      10000 non-null  int64  \n",
      " 2   Female         10000 non-null  int64  \n",
      " 3   Married        10000 non-null  int64  \n",
      " 4   HouseholdSize  10000 non-null  int64  \n",
      " 5   Income         10000 non-null  float64\n",
      " 6   Education      10000 non-null  int64  \n",
      " 7   Church         10000 non-null  int64  \n",
      " 8   Undecided      10000 non-null  int64  \n",
      "dtypes: float64(1), int64(8)\n",
      "memory usage: 703.2 KB\n"
     ]
    }
   ],
   "source": [
    "data = pd.read_csv(\"BlueOrRed.csv\")\n",
    "# Check if there are null values in the data\n",
    "data.info()"
   ]
  },
  {
   "cell_type": "code",
   "execution_count": 47,
   "id": "0de7245d-6ee6-4391-afa5-39bde8b49f2d",
   "metadata": {},
   "outputs": [
    {
     "data": {
      "text/html": [
       "<div>\n",
       "<style scoped>\n",
       "    .dataframe tbody tr th:only-of-type {\n",
       "        vertical-align: middle;\n",
       "    }\n",
       "\n",
       "    .dataframe tbody tr th {\n",
       "        vertical-align: top;\n",
       "    }\n",
       "\n",
       "    .dataframe thead th {\n",
       "        text-align: right;\n",
       "    }\n",
       "</style>\n",
       "<table border=\"1\" class=\"dataframe\">\n",
       "  <thead>\n",
       "    <tr style=\"text-align: right;\">\n",
       "      <th></th>\n",
       "      <th>Age</th>\n",
       "      <th>HomeOwner</th>\n",
       "      <th>Female</th>\n",
       "      <th>Married</th>\n",
       "      <th>HouseholdSize</th>\n",
       "      <th>Income</th>\n",
       "      <th>Education</th>\n",
       "      <th>Church</th>\n",
       "      <th>Undecided</th>\n",
       "    </tr>\n",
       "  </thead>\n",
       "  <tbody>\n",
       "    <tr>\n",
       "      <th>0</th>\n",
       "      <td>51</td>\n",
       "      <td>1</td>\n",
       "      <td>1</td>\n",
       "      <td>1</td>\n",
       "      <td>4</td>\n",
       "      <td>171.0</td>\n",
       "      <td>15</td>\n",
       "      <td>0</td>\n",
       "      <td>1</td>\n",
       "    </tr>\n",
       "    <tr>\n",
       "      <th>1</th>\n",
       "      <td>46</td>\n",
       "      <td>1</td>\n",
       "      <td>1</td>\n",
       "      <td>1</td>\n",
       "      <td>6</td>\n",
       "      <td>420.0</td>\n",
       "      <td>15</td>\n",
       "      <td>1</td>\n",
       "      <td>0</td>\n",
       "    </tr>\n",
       "    <tr>\n",
       "      <th>2</th>\n",
       "      <td>55</td>\n",
       "      <td>1</td>\n",
       "      <td>0</td>\n",
       "      <td>1</td>\n",
       "      <td>6</td>\n",
       "      <td>132.0</td>\n",
       "      <td>16</td>\n",
       "      <td>0</td>\n",
       "      <td>1</td>\n",
       "    </tr>\n",
       "    <tr>\n",
       "      <th>3</th>\n",
       "      <td>50</td>\n",
       "      <td>1</td>\n",
       "      <td>0</td>\n",
       "      <td>1</td>\n",
       "      <td>4</td>\n",
       "      <td>18.0</td>\n",
       "      <td>8</td>\n",
       "      <td>0</td>\n",
       "      <td>0</td>\n",
       "    </tr>\n",
       "    <tr>\n",
       "      <th>4</th>\n",
       "      <td>49</td>\n",
       "      <td>1</td>\n",
       "      <td>1</td>\n",
       "      <td>1</td>\n",
       "      <td>2</td>\n",
       "      <td>66.0</td>\n",
       "      <td>15</td>\n",
       "      <td>1</td>\n",
       "      <td>1</td>\n",
       "    </tr>\n",
       "    <tr>\n",
       "      <th>...</th>\n",
       "      <td>...</td>\n",
       "      <td>...</td>\n",
       "      <td>...</td>\n",
       "      <td>...</td>\n",
       "      <td>...</td>\n",
       "      <td>...</td>\n",
       "      <td>...</td>\n",
       "      <td>...</td>\n",
       "      <td>...</td>\n",
       "    </tr>\n",
       "    <tr>\n",
       "      <th>9995</th>\n",
       "      <td>55</td>\n",
       "      <td>1</td>\n",
       "      <td>1</td>\n",
       "      <td>1</td>\n",
       "      <td>2</td>\n",
       "      <td>37.0</td>\n",
       "      <td>18</td>\n",
       "      <td>0</td>\n",
       "      <td>1</td>\n",
       "    </tr>\n",
       "    <tr>\n",
       "      <th>9996</th>\n",
       "      <td>29</td>\n",
       "      <td>1</td>\n",
       "      <td>1</td>\n",
       "      <td>0</td>\n",
       "      <td>5</td>\n",
       "      <td>100.0</td>\n",
       "      <td>15</td>\n",
       "      <td>1</td>\n",
       "      <td>1</td>\n",
       "    </tr>\n",
       "    <tr>\n",
       "      <th>9997</th>\n",
       "      <td>59</td>\n",
       "      <td>0</td>\n",
       "      <td>1</td>\n",
       "      <td>0</td>\n",
       "      <td>1</td>\n",
       "      <td>35.0</td>\n",
       "      <td>20</td>\n",
       "      <td>0</td>\n",
       "      <td>1</td>\n",
       "    </tr>\n",
       "    <tr>\n",
       "      <th>9998</th>\n",
       "      <td>66</td>\n",
       "      <td>0</td>\n",
       "      <td>0</td>\n",
       "      <td>1</td>\n",
       "      <td>3</td>\n",
       "      <td>4.0</td>\n",
       "      <td>8</td>\n",
       "      <td>1</td>\n",
       "      <td>0</td>\n",
       "    </tr>\n",
       "    <tr>\n",
       "      <th>9999</th>\n",
       "      <td>55</td>\n",
       "      <td>1</td>\n",
       "      <td>1</td>\n",
       "      <td>1</td>\n",
       "      <td>4</td>\n",
       "      <td>19.0</td>\n",
       "      <td>16</td>\n",
       "      <td>1</td>\n",
       "      <td>1</td>\n",
       "    </tr>\n",
       "  </tbody>\n",
       "</table>\n",
       "<p>10000 rows × 9 columns</p>\n",
       "</div>"
      ],
      "text/plain": [
       "      Age  HomeOwner  Female  Married  HouseholdSize  Income  Education  \\\n",
       "0      51          1       1        1              4   171.0         15   \n",
       "1      46          1       1        1              6   420.0         15   \n",
       "2      55          1       0        1              6   132.0         16   \n",
       "3      50          1       0        1              4    18.0          8   \n",
       "4      49          1       1        1              2    66.0         15   \n",
       "...   ...        ...     ...      ...            ...     ...        ...   \n",
       "9995   55          1       1        1              2    37.0         18   \n",
       "9996   29          1       1        0              5   100.0         15   \n",
       "9997   59          0       1        0              1    35.0         20   \n",
       "9998   66          0       0        1              3     4.0          8   \n",
       "9999   55          1       1        1              4    19.0         16   \n",
       "\n",
       "      Church  Undecided  \n",
       "0          0          1  \n",
       "1          1          0  \n",
       "2          0          1  \n",
       "3          0          0  \n",
       "4          1          1  \n",
       "...      ...        ...  \n",
       "9995       0          1  \n",
       "9996       1          1  \n",
       "9997       0          1  \n",
       "9998       1          0  \n",
       "9999       1          1  \n",
       "\n",
       "[10000 rows x 9 columns]"
      ]
     },
     "execution_count": 47,
     "metadata": {},
     "output_type": "execute_result"
    }
   ],
   "source": [
    "# Drop missing values\n",
    "data = data.dropna()\n",
    "data"
   ]
  },
  {
   "cell_type": "markdown",
   "id": "eda9f913-ee71-462a-b501-8edeb4722963",
   "metadata": {},
   "source": [
    "## B\n",
    "Normalize the continuous variables using min-max normalization. You should obtain a new dataset that has your normalized continuous input variables, the categorical input variables (the categorical input variables are fine and don’t need to be normalized), and your output variable."
   ]
  },
  {
   "cell_type": "code",
   "execution_count": 3,
   "id": "9b713a26-2307-4bfa-b07d-ec4ac8388924",
   "metadata": {},
   "outputs": [
    {
     "data": {
      "text/plain": [
       "Age                int64\n",
       "HomeOwner          int64\n",
       "Female             int64\n",
       "Married            int64\n",
       "HouseholdSize      int64\n",
       "Income           float64\n",
       "Education          int64\n",
       "Church             int64\n",
       "Undecided          int64\n",
       "dtype: object"
      ]
     },
     "execution_count": 3,
     "metadata": {},
     "output_type": "execute_result"
    }
   ],
   "source": [
    "# It can be seen here that the only continuous variable is Income\n",
    "data.dtypes"
   ]
  },
  {
   "cell_type": "code",
   "execution_count": 4,
   "id": "e4532266-08b0-439a-847f-f034522574e9",
   "metadata": {},
   "outputs": [
    {
     "data": {
      "text/html": [
       "<div>\n",
       "<style scoped>\n",
       "    .dataframe tbody tr th:only-of-type {\n",
       "        vertical-align: middle;\n",
       "    }\n",
       "\n",
       "    .dataframe tbody tr th {\n",
       "        vertical-align: top;\n",
       "    }\n",
       "\n",
       "    .dataframe thead th {\n",
       "        text-align: right;\n",
       "    }\n",
       "</style>\n",
       "<table border=\"1\" class=\"dataframe\">\n",
       "  <thead>\n",
       "    <tr style=\"text-align: right;\">\n",
       "      <th></th>\n",
       "      <th>Age</th>\n",
       "      <th>HomeOwner</th>\n",
       "      <th>Female</th>\n",
       "      <th>Married</th>\n",
       "      <th>HouseholdSize</th>\n",
       "      <th>Income</th>\n",
       "      <th>Education</th>\n",
       "      <th>Church</th>\n",
       "      <th>Undecided</th>\n",
       "    </tr>\n",
       "  </thead>\n",
       "  <tbody>\n",
       "    <tr>\n",
       "      <th>0</th>\n",
       "      <td>51</td>\n",
       "      <td>1</td>\n",
       "      <td>1</td>\n",
       "      <td>1</td>\n",
       "      <td>4</td>\n",
       "      <td>0.306422</td>\n",
       "      <td>15</td>\n",
       "      <td>0</td>\n",
       "      <td>1</td>\n",
       "    </tr>\n",
       "    <tr>\n",
       "      <th>1</th>\n",
       "      <td>46</td>\n",
       "      <td>1</td>\n",
       "      <td>1</td>\n",
       "      <td>1</td>\n",
       "      <td>6</td>\n",
       "      <td>0.763303</td>\n",
       "      <td>15</td>\n",
       "      <td>1</td>\n",
       "      <td>0</td>\n",
       "    </tr>\n",
       "    <tr>\n",
       "      <th>2</th>\n",
       "      <td>55</td>\n",
       "      <td>1</td>\n",
       "      <td>0</td>\n",
       "      <td>1</td>\n",
       "      <td>6</td>\n",
       "      <td>0.234862</td>\n",
       "      <td>16</td>\n",
       "      <td>0</td>\n",
       "      <td>1</td>\n",
       "    </tr>\n",
       "    <tr>\n",
       "      <th>3</th>\n",
       "      <td>50</td>\n",
       "      <td>1</td>\n",
       "      <td>0</td>\n",
       "      <td>1</td>\n",
       "      <td>4</td>\n",
       "      <td>0.025688</td>\n",
       "      <td>8</td>\n",
       "      <td>0</td>\n",
       "      <td>0</td>\n",
       "    </tr>\n",
       "    <tr>\n",
       "      <th>4</th>\n",
       "      <td>49</td>\n",
       "      <td>1</td>\n",
       "      <td>1</td>\n",
       "      <td>1</td>\n",
       "      <td>2</td>\n",
       "      <td>0.113761</td>\n",
       "      <td>15</td>\n",
       "      <td>1</td>\n",
       "      <td>1</td>\n",
       "    </tr>\n",
       "    <tr>\n",
       "      <th>...</th>\n",
       "      <td>...</td>\n",
       "      <td>...</td>\n",
       "      <td>...</td>\n",
       "      <td>...</td>\n",
       "      <td>...</td>\n",
       "      <td>...</td>\n",
       "      <td>...</td>\n",
       "      <td>...</td>\n",
       "      <td>...</td>\n",
       "    </tr>\n",
       "    <tr>\n",
       "      <th>9995</th>\n",
       "      <td>55</td>\n",
       "      <td>1</td>\n",
       "      <td>1</td>\n",
       "      <td>1</td>\n",
       "      <td>2</td>\n",
       "      <td>0.060550</td>\n",
       "      <td>18</td>\n",
       "      <td>0</td>\n",
       "      <td>1</td>\n",
       "    </tr>\n",
       "    <tr>\n",
       "      <th>9996</th>\n",
       "      <td>29</td>\n",
       "      <td>1</td>\n",
       "      <td>1</td>\n",
       "      <td>0</td>\n",
       "      <td>5</td>\n",
       "      <td>0.176147</td>\n",
       "      <td>15</td>\n",
       "      <td>1</td>\n",
       "      <td>1</td>\n",
       "    </tr>\n",
       "    <tr>\n",
       "      <th>9997</th>\n",
       "      <td>59</td>\n",
       "      <td>0</td>\n",
       "      <td>1</td>\n",
       "      <td>0</td>\n",
       "      <td>1</td>\n",
       "      <td>0.056881</td>\n",
       "      <td>20</td>\n",
       "      <td>0</td>\n",
       "      <td>1</td>\n",
       "    </tr>\n",
       "    <tr>\n",
       "      <th>9998</th>\n",
       "      <td>66</td>\n",
       "      <td>0</td>\n",
       "      <td>0</td>\n",
       "      <td>1</td>\n",
       "      <td>3</td>\n",
       "      <td>0.000000</td>\n",
       "      <td>8</td>\n",
       "      <td>1</td>\n",
       "      <td>0</td>\n",
       "    </tr>\n",
       "    <tr>\n",
       "      <th>9999</th>\n",
       "      <td>55</td>\n",
       "      <td>1</td>\n",
       "      <td>1</td>\n",
       "      <td>1</td>\n",
       "      <td>4</td>\n",
       "      <td>0.027523</td>\n",
       "      <td>16</td>\n",
       "      <td>1</td>\n",
       "      <td>1</td>\n",
       "    </tr>\n",
       "  </tbody>\n",
       "</table>\n",
       "<p>10000 rows × 9 columns</p>\n",
       "</div>"
      ],
      "text/plain": [
       "      Age  HomeOwner  Female  Married  HouseholdSize    Income  Education  \\\n",
       "0      51          1       1        1              4  0.306422         15   \n",
       "1      46          1       1        1              6  0.763303         15   \n",
       "2      55          1       0        1              6  0.234862         16   \n",
       "3      50          1       0        1              4  0.025688          8   \n",
       "4      49          1       1        1              2  0.113761         15   \n",
       "...   ...        ...     ...      ...            ...       ...        ...   \n",
       "9995   55          1       1        1              2  0.060550         18   \n",
       "9996   29          1       1        0              5  0.176147         15   \n",
       "9997   59          0       1        0              1  0.056881         20   \n",
       "9998   66          0       0        1              3  0.000000          8   \n",
       "9999   55          1       1        1              4  0.027523         16   \n",
       "\n",
       "      Church  Undecided  \n",
       "0          0          1  \n",
       "1          1          0  \n",
       "2          0          1  \n",
       "3          0          0  \n",
       "4          1          1  \n",
       "...      ...        ...  \n",
       "9995       0          1  \n",
       "9996       1          1  \n",
       "9997       0          1  \n",
       "9998       1          0  \n",
       "9999       1          1  \n",
       "\n",
       "[10000 rows x 9 columns]"
      ]
     },
     "execution_count": 4,
     "metadata": {},
     "output_type": "execute_result"
    }
   ],
   "source": [
    "minmax = MinMaxScaler()\n",
    "normalized = data.copy()\n",
    "# min max normalize the income variable, as it is the only one that is continuous\n",
    "normalized[\"Income\"] = minmax.fit_transform(normalized[\"Income\"].values.reshape(-1,1))\n",
    "normalized"
   ]
  },
  {
   "cell_type": "markdown",
   "id": "5f8a1454-6a8c-4feb-ab55-048e96f92b1f",
   "metadata": {},
   "source": [
    "## C\n",
    "Why do you think using min-max normalization is a better choice for this situation compared to using other scalers such as the Standard Scaler which standardizes the data?"
   ]
  },
  {
   "cell_type": "markdown",
   "id": "b7ff0f12-a74f-4908-9a54-c7deb2bc1a51",
   "metadata": {},
   "source": [
    "Standard scaler is a better fit when we know that the data follow a normal distribution, which income does not. \n",
    "We want the transformation to keep the shape of the data as much as possible, and for it to be resilient to outliers, which min max scaler is able to do."
   ]
  },
  {
   "cell_type": "markdown",
   "id": "e48ff691-6cea-447d-b15a-1b5026222917",
   "metadata": {},
   "source": [
    "## D\n",
    "Use the train_test_split() function in the sklearn.model_selection module in scikit-learn to split the data into training and test sets. Your test set should be 30% of the entire data. Print the shape of the X_train, y_train, X_test and y_test data. You can use the default value of the random state in splitting the data, which is random_state=42. "
   ]
  },
  {
   "cell_type": "code",
   "execution_count": 5,
   "id": "01ebeaab-6ef0-4b0c-bd58-d0e1ceabee91",
   "metadata": {},
   "outputs": [
    {
     "name": "stdout",
     "output_type": "stream",
     "text": [
      "X_train shape: (7000, 8)\n",
      "X_test shape: (3000, 8)\n",
      "y_train shape: (7000,)\n",
      "y_test shape: (3000,)\n"
     ]
    }
   ],
   "source": [
    "# Prepare the X and y from the dataset\n",
    "X = normalized.drop([\"Undecided\"], axis=1).copy()\n",
    "y = normalized[\"Undecided\"].copy()\n",
    "# Splits the dataset into training and testing with a 70:30 split ratio\n",
    "X_train, X_test, y_train, y_test = train_test_split(X, y, test_size=(0.3), random_state=42)\n",
    "print(\"X_train shape: {}\".format(X_train.shape))\n",
    "print(\"X_test shape: {}\".format(X_test.shape))\n",
    "print(\"y_train shape: {}\".format(y_train.shape))\n",
    "print(\"y_test shape: {}\".format(y_test.shape))"
   ]
  },
  {
   "cell_type": "markdown",
   "id": "ec7534e9-1bb1-4281-899e-140761dfcbfa",
   "metadata": {},
   "source": [
    "## E\n",
    "Construct a decision tree and fit the tree into the data. Then use your decision tree model to make predictions on the training set as well as on the test set. Assign your results to y_train_pred and y_test_pred respectively. Print out the first 100 predictions for each of the  y_train_pred and y_test_pred. "
   ]
  },
  {
   "cell_type": "code",
   "execution_count": 6,
   "id": "c51969b4-2276-43c6-a948-dc73f4569cdb",
   "metadata": {},
   "outputs": [],
   "source": [
    "dec_tree = DecisionTreeClassifier(random_state=42)\n",
    "dec_tree.fit(X_train, y_train)\n",
    "y_train_pred = dec_tree.predict(X_train)\n",
    "y_test_pred = dec_tree.predict(X_test)"
   ]
  },
  {
   "cell_type": "code",
   "execution_count": 7,
   "id": "0f5d4f2b-0e4d-4c7d-8bd2-52cddae858d3",
   "metadata": {},
   "outputs": [
    {
     "name": "stdout",
     "output_type": "stream",
     "text": [
      "[0 0 0 0 1 0 0 0 0 1 0 1 0 1 1 0 0 0 0 0 0 0 0 1 1 1 0 1 1 0 0 0 0 1 1 1 0\n",
      " 1 1 0 1 0 0 0 0 0 1 1 0 1 1 0 1 0 1 1 0 0 1 0 0 0 0 1 0 0 0 0 0 1 0 0 0 0\n",
      " 0 1 0 1 0 0 1 0 1 0 0 0 1 0 0 0 0 1 1 1 0 1 0 0 0 1]\n"
     ]
    }
   ],
   "source": [
    "print(y_train_pred[:100])"
   ]
  },
  {
   "cell_type": "code",
   "execution_count": 8,
   "id": "8f1b668c-3f57-4c14-808d-57079cc5a19f",
   "metadata": {},
   "outputs": [
    {
     "name": "stdout",
     "output_type": "stream",
     "text": [
      "[0 1 1 1 1 1 1 1 1 0 0 1 0 0 0 0 1 0 1 0 1 0 0 0 1 1 1 0 1 1 1 0 1 0 0 0 0\n",
      " 0 0 0 0 0 0 1 0 0 0 0 1 0 1 0 1 1 1 1 1 0 0 1 0 0 1 1 1 1 0 0 1 1 0 0 0 0\n",
      " 0 0 0 0 1 0 1 1 0 0 1 0 1 0 1 1 0 0 0 0 0 0 0 1 1 0]\n"
     ]
    }
   ],
   "source": [
    "print(y_test_pred[:100])"
   ]
  },
  {
   "cell_type": "markdown",
   "id": "0f8ae006-3d06-40df-a58d-a7d46488a32d",
   "metadata": {},
   "source": [
    "## F\n",
    "Find the overall accuracy of the tree model on the training set and on the test set. Use the accuracy_score() function in the sklearn.metrics module. Does the tree overfit the model? Why or why not?  "
   ]
  },
  {
   "cell_type": "code",
   "execution_count": 9,
   "id": "865e55f7-62fd-4638-a222-86c0add1cb94",
   "metadata": {},
   "outputs": [
    {
     "data": {
      "text/plain": [
       "1.0"
      ]
     },
     "execution_count": 9,
     "metadata": {},
     "output_type": "execute_result"
    }
   ],
   "source": [
    "accuracy_score(y_train, y_train_pred)"
   ]
  },
  {
   "cell_type": "code",
   "execution_count": 10,
   "id": "cb018bbc-a6de-4b1b-b717-9c576ff1dc1b",
   "metadata": {},
   "outputs": [
    {
     "data": {
      "text/plain": [
       "0.969"
      ]
     },
     "execution_count": 10,
     "metadata": {},
     "output_type": "execute_result"
    }
   ],
   "source": [
    "accuracy_score(y_test, y_test_pred)"
   ]
  },
  {
   "cell_type": "markdown",
   "id": "bafe3136-4cd8-4c35-bfcf-5508c839419a",
   "metadata": {},
   "source": [
    "I would not consider the tree to be overfitted, as the difference in accuracy between the training dataset and the test dataset is less than 0.1, which can be considered normal, as most of the time the performance on the training dataset is higher than the performance on the test dataset."
   ]
  },
  {
   "cell_type": "markdown",
   "id": "ba836f48-b33f-4276-8f31-141f51d21ab4",
   "metadata": {},
   "source": [
    "## G\n",
    "Also, use the .score() method of the tree estimator to find the overall accuracy on the training set and test set. "
   ]
  },
  {
   "cell_type": "code",
   "execution_count": 11,
   "id": "e632e9b6-5284-41c5-a95c-385aec0c27d4",
   "metadata": {},
   "outputs": [
    {
     "data": {
      "text/plain": [
       "1.0"
      ]
     },
     "execution_count": 11,
     "metadata": {},
     "output_type": "execute_result"
    }
   ],
   "source": [
    "dec_tree.score(X_train, y_train)"
   ]
  },
  {
   "cell_type": "code",
   "execution_count": 12,
   "id": "65e9903d-79af-4cd0-8f37-86e210f3718c",
   "metadata": {},
   "outputs": [
    {
     "data": {
      "text/plain": [
       "0.969"
      ]
     },
     "execution_count": 12,
     "metadata": {},
     "output_type": "execute_result"
    }
   ],
   "source": [
    "dec_tree.score(X_test, y_test)"
   ]
  },
  {
   "cell_type": "markdown",
   "id": "afb8b9ac-fe4e-4770-939b-9c32fc3222c4",
   "metadata": {},
   "source": [
    "The results for .score are the same as accuracy_score"
   ]
  },
  {
   "cell_type": "markdown",
   "id": "db17a51f-f345-4f2c-95ed-cf7341aaf093",
   "metadata": {},
   "source": [
    "## H\n",
    "Use the zero_one_loss() function inside the sklearn.metric module to compute the overall prediction error of the tree model on the test set and training set. "
   ]
  },
  {
   "cell_type": "code",
   "execution_count": 13,
   "id": "4bc0a748-93ce-4563-9a9f-adc019d92e49",
   "metadata": {},
   "outputs": [
    {
     "data": {
      "text/plain": [
       "0.0"
      ]
     },
     "execution_count": 13,
     "metadata": {},
     "output_type": "execute_result"
    }
   ],
   "source": [
    "zero_one_loss(y_train, y_train_pred)"
   ]
  },
  {
   "cell_type": "code",
   "execution_count": 14,
   "id": "46fd2845-c13b-4da7-9126-17e0ff092b4b",
   "metadata": {},
   "outputs": [
    {
     "data": {
      "text/plain": [
       "0.031000000000000028"
      ]
     },
     "execution_count": 14,
     "metadata": {},
     "output_type": "execute_result"
    }
   ],
   "source": [
    "zero_one_loss(y_test, y_test_pred)"
   ]
  },
  {
   "cell_type": "markdown",
   "id": "c55b149d-0240-49ca-930b-76c84af7ef10",
   "metadata": {},
   "source": [
    "# Question 2\n",
    "Do other assessment of your model using the following tools in sklearn.metrics module"
   ]
  },
  {
   "cell_type": "markdown",
   "id": "c7524db5-fe72-464c-8bf8-3f845d025213",
   "metadata": {},
   "source": [
    "## A\n",
    "Generate the classification report using the classification_report () "
   ]
  },
  {
   "cell_type": "code",
   "execution_count": 15,
   "id": "df49f5ff-6862-4748-ad91-635c70e099ce",
   "metadata": {},
   "outputs": [
    {
     "name": "stdout",
     "output_type": "stream",
     "text": [
      "              precision    recall  f1-score   support\n",
      "\n",
      "           0       0.98      0.97      0.97      1814\n",
      "           1       0.96      0.97      0.96      1186\n",
      "\n",
      "    accuracy                           0.97      3000\n",
      "   macro avg       0.97      0.97      0.97      3000\n",
      "weighted avg       0.97      0.97      0.97      3000\n",
      "\n"
     ]
    }
   ],
   "source": [
    "print(classification_report(y_test, y_test_pred))"
   ]
  },
  {
   "cell_type": "markdown",
   "id": "34a2afbb-b4d1-47ac-91e9-3cc7b85d67a3",
   "metadata": {},
   "source": [
    "## B\n",
    "Generate the confusion matrix using confusion_matrix() "
   ]
  },
  {
   "cell_type": "code",
   "execution_count": 16,
   "id": "564d576a-af51-43ca-8751-0d947f3b8260",
   "metadata": {},
   "outputs": [
    {
     "data": {
      "text/plain": [
       "array([[1762,   52],\n",
       "       [  41, 1145]])"
      ]
     },
     "execution_count": 16,
     "metadata": {},
     "output_type": "execute_result"
    }
   ],
   "source": [
    "confusion_matrix(y_test, y_test_pred)"
   ]
  },
  {
   "cell_type": "markdown",
   "id": "cef716e3-dc61-4bcb-9aa0-964c3c537c08",
   "metadata": {},
   "source": [
    "## C\n",
    "Generate the precision score using precision_score() "
   ]
  },
  {
   "cell_type": "code",
   "execution_count": 17,
   "id": "8c0d9ea3-96db-45b7-bc2d-cd51b5069e93",
   "metadata": {},
   "outputs": [
    {
     "data": {
      "text/plain": [
       "0.9565580618212197"
      ]
     },
     "execution_count": 17,
     "metadata": {},
     "output_type": "execute_result"
    }
   ],
   "source": [
    "# As it was not specified, average will be set to default, which is \"binary\"\n",
    "precision_score(y_test, y_test_pred)"
   ]
  },
  {
   "cell_type": "markdown",
   "id": "34a2a381-39fd-462c-844c-84064948e82f",
   "metadata": {},
   "source": [
    "## D\n",
    "Generate the recall score using recall_score()"
   ]
  },
  {
   "cell_type": "code",
   "execution_count": 18,
   "id": "f82eeb36-ad60-442f-bacf-915d2f2f3385",
   "metadata": {},
   "outputs": [
    {
     "data": {
      "text/plain": [
       "0.9654300168634065"
      ]
     },
     "execution_count": 18,
     "metadata": {},
     "output_type": "execute_result"
    }
   ],
   "source": [
    "# As it was not specified, average will be set to default, which is \"binary\"\n",
    "recall_score(y_test, y_test_pred)"
   ]
  },
  {
   "cell_type": "markdown",
   "id": "18361f4e-0a91-41da-ba86-dcf07541cd3d",
   "metadata": {},
   "source": [
    "## E\n",
    "Generate the f1 score using f1_score()"
   ]
  },
  {
   "cell_type": "code",
   "execution_count": 19,
   "id": "c0281a38-d27b-4b00-ad3c-379ade9fc399",
   "metadata": {},
   "outputs": [
    {
     "data": {
      "text/plain": [
       "0.9609735627360471"
      ]
     },
     "execution_count": 19,
     "metadata": {},
     "output_type": "execute_result"
    }
   ],
   "source": [
    "# As it was not specified, average will be set to default, which is \"binary\"\n",
    "f1_score(y_test, y_test_pred)"
   ]
  },
  {
   "cell_type": "markdown",
   "id": "7db7ad0e-346c-462d-9f5d-d36c865bf9a9",
   "metadata": {},
   "source": [
    "## F\n",
    "When is it more appropriate to use f1 score (or precision score and recall) compared to using the overall accuracy to evaluate your model?"
   ]
  },
  {
   "cell_type": "markdown",
   "id": "f7be158c-8a31-4ffc-af57-8b458cf85eb2",
   "metadata": {},
   "source": [
    "F1 is particularly useful when the data is uneven, and when you want to find a balance between precision and recall.   \n",
    "Recall is useful when the focus is on predicting class 1 observations and on false negatives.  \n",
    "Precision comes handy when what matters the most is the rate of true positives.  "
   ]
  },
  {
   "cell_type": "markdown",
   "id": "995f2058-c6b8-4909-9d37-d3372c57c495",
   "metadata": {},
   "source": [
    "## G\n",
    "Generate a roc curve using plot_roc_curve() "
   ]
  },
  {
   "cell_type": "code",
   "execution_count": 20,
   "id": "c8422027-6451-4cec-84b2-6063c66a1454",
   "metadata": {},
   "outputs": [
    {
     "data": {
      "text/plain": [
       "<sklearn.metrics._plot.roc_curve.RocCurveDisplay at 0x7fc83eaff820>"
      ]
     },
     "execution_count": 20,
     "metadata": {},
     "output_type": "execute_result"
    },
    {
     "data": {
      "image/png": "[encoded data removed]",
      "text/plain": [
       "<Figure size 640x480 with 1 Axes>"
      ]
     },
     "metadata": {},
     "output_type": "display_data"
    }
   ],
   "source": [
    "dec_tree_dsp = RocCurveDisplay.from_estimator(dec_tree, X_test, y_test)\n",
    "dec_tree_dsp"
   ]
  },
  {
   "cell_type": "markdown",
   "id": "52a1cd3e-4b91-49d6-9d45-d20654ab4e54",
   "metadata": {},
   "source": [
    "## H\n",
    "Plot the confusion matrix using plot_confusion_matrix"
   ]
  },
  {
   "cell_type": "code",
   "execution_count": 21,
   "id": "120f79f0-30ab-4bfd-815a-30ede9df0fcf",
   "metadata": {},
   "outputs": [
    {
     "data": {
      "image/png": "[encoded data removed]",
      "text/plain": [
       "<Figure size 640x480 with 2 Axes>"
      ]
     },
     "metadata": {},
     "output_type": "display_data"
    }
   ],
   "source": [
    "disp = ConfusionMatrixDisplay(confusion_matrix=confusion_matrix(y_test, y_test_pred),display_labels=dec_tree.classes_)\n",
    "disp.plot()\n",
    "plt.show()"
   ]
  },
  {
   "cell_type": "markdown",
   "id": "99922e1f-8b2a-4e97-b582-cf9dc617fe76",
   "metadata": {},
   "source": [
    "# Question 3\n",
    "You will now use cross validation to find better accuracy scores as well as to tune your hyperparameters. The hyperparameters of a decision tree as shown below. We are more interested in optimizing the depth of the tree (max_depth).  \n",
    "![Entropy](./decision_tree_parameters.png)  "
   ]
  },
  {
   "cell_type": "markdown",
   "id": "44901675-eed5-4d87-bc7b-9798712d802b",
   "metadata": {},
   "source": [
    "## A\n",
    "First retrieve the maximum depth of this decision tree. Use clf.tree_.max_depth where clf is the name of your estimator and tree is the module in sklearn. "
   ]
  },
  {
   "cell_type": "code",
   "execution_count": 22,
   "id": "303a7a3e-b6b7-42a4-b8e4-ba71a02f440e",
   "metadata": {},
   "outputs": [
    {
     "data": {
      "text/plain": [
       "18"
      ]
     },
     "execution_count": 22,
     "metadata": {},
     "output_type": "execute_result"
    }
   ],
   "source": [
    "dec_tree = DecisionTreeClassifier(ccp_alpha=0, class_weight= None, criterion= \"gini\", max_depth= None, max_features= None, max_leaf_nodes= None,\n",
    "                                 min_impurity_decrease=0, min_samples_leaf=1, min_samples_split=2, min_weight_fraction_leaf=0, random_state=None, splitter=\"best\")\n",
    "# min_impurity_split has been deprecated\n",
    "dec_tree.fit(X_train, y_train)\n",
    "tree_max_depth = dec_tree.tree_.max_depth\n",
    "tree_max_depth"
   ]
  },
  {
   "cell_type": "markdown",
   "id": "ad11cf99-a9e2-46b4-ac4d-79323713412e",
   "metadata": {},
   "source": [
    "## B\n",
    "You will find the optimal depth of the tree by tuning the max_depth hyperparameter. Write a for loop to iteratively compute the overall error rate of the model on the test set only for the possible values of the maximum depth of the tree. Here are ideas for your code:  \n",
    "\n",
    "You will need to initialize a variable outside the loop to track the error rates for each maximum depth value. \r",
    "\r\n",
    "\r\n",
    "Then plot the overall error rate on the y-axis and the maximum depth of the tree on the x-axis. Also use np.argmin() on the error rates you obtained to retrieve the optimal maximum depth of the tree with the least error rate. Does this value match with what you see on your plot? \r\n"
   ]
  },
  {
   "cell_type": "code",
   "execution_count": 23,
   "id": "27fc74ca-1dc2-4f7a-ac09-6dbf7cd3640a",
   "metadata": {},
   "outputs": [
    {
     "data": {
      "text/plain": [
       "[<matplotlib.lines.Line2D at 0x7fc808fdb340>]"
      ]
     },
     "execution_count": 23,
     "metadata": {},
     "output_type": "execute_result"
    },
    {
     "data": {
      "image/png": "[encoded data removed]",
      "text/plain": [
       "<Figure size 640x480 with 1 Axes>"
      ]
     },
     "metadata": {},
     "output_type": "display_data"
    }
   ],
   "source": [
    "error_rates = []\n",
    "for i in range(1,tree_max_depth+1):\n",
    "    clf = DecisionTreeClassifier(max_depth=i)\n",
    "    clf.fit(X_train, y_train)\n",
    "    y_pred = clf.predict(X_test)\n",
    "    error_rates.append(zero_one_loss(y_test, y_pred))\n",
    "locs, labels = plt.xticks()  # Get the current locations and labels.\n",
    "plt.xticks(np.arange(1, tree_max_depth+1, step=1))  # Set label locations.\n",
    "plt.plot([x for x in range(1,tree_max_depth+1)],error_rates)"
   ]
  },
  {
   "cell_type": "code",
   "execution_count": 24,
   "id": "a4b13213-289e-440f-925f-9da39a9d4302",
   "metadata": {},
   "outputs": [
    {
     "name": "stdout",
     "output_type": "stream",
     "text": [
      "The lowest overall error is 0.015000000000000013 for depth 6\n"
     ]
    }
   ],
   "source": [
    "print(\"The lowest overall error is {} for depth {}\".format(error_rates[np.argmin(error_rates)], np.argmin(error_rates)+1))"
   ]
  },
  {
   "cell_type": "markdown",
   "id": "f31a165f-8677-42b8-9ef0-c59c6fe21ec0",
   "metadata": {},
   "source": [
    "Yes, the value matches with what can be seen in the plot. It does not match, however, the max depth of the first decision tree"
   ]
  },
  {
   "cell_type": "markdown",
   "id": "6b3f63c4-1470-49af-bab4-250bddaa03cb",
   "metadata": {},
   "source": [
    "## C\n",
    "Now, you will still find the optimal maximum depth of the decision tree model using grid search cross validation. Additionally, you will be simultaneously optimizing the max_features hyperparameter as well. You can check the documentation to see what these hyperparameters represent. You will use the GridSearchCV() constructor inside the sklearn.model_selection module. Make sure to pass the arguments (estimator and param_grid into the GridSearchCV() constructor. Set the parameter cv=8. Do you have the same optimal maximum depth as you got in the question above?  (See class notes on Modeling in Scikit-learn for more ideas). You can use these parameter grid as one of the arguments:"
   ]
  },
  {
   "cell_type": "code",
   "execution_count": 25,
   "id": "964cd016-f8d8-47ab-96fe-2bb46c502b0e",
   "metadata": {},
   "outputs": [
    {
     "data": {
      "text/plain": [
       "['mean_fit_time',\n",
       " 'mean_score_time',\n",
       " 'mean_test_score',\n",
       " 'param_max_depth',\n",
       " 'param_max_features',\n",
       " 'params',\n",
       " 'rank_test_score',\n",
       " 'split0_test_score',\n",
       " 'split1_test_score',\n",
       " 'split2_test_score',\n",
       " 'split3_test_score',\n",
       " 'split4_test_score',\n",
       " 'split5_test_score',\n",
       " 'split6_test_score',\n",
       " 'split7_test_score',\n",
       " 'std_fit_time',\n",
       " 'std_score_time',\n",
       " 'std_test_score']"
      ]
     },
     "execution_count": 25,
     "metadata": {},
     "output_type": "execute_result"
    }
   ],
   "source": [
    "param_grid = {\n",
    "    \"max_depth\" : range(1,tree_max_depth+1),\n",
    "    \"max_features\": [0.2, 0.4, 0.6, 0.8]\n",
    "}\n",
    "dec_tree = DecisionTreeClassifier()\n",
    "clf = GridSearchCV(dec_tree, param_grid, cv=8)\n",
    "clf.fit(X_train, y_train)\n",
    "GridSearchCV(estimator=DecisionTreeClassifier(), param_grid=param_grid)\n",
    "sorted(clf.cv_results_.keys())"
   ]
  },
  {
   "cell_type": "code",
   "execution_count": 26,
   "id": "fb3fe4e7-f88f-42cf-bd75-80459fe44351",
   "metadata": {},
   "outputs": [
    {
     "data": {
      "text/plain": [
       "{'max_depth': 7, 'max_features': 0.8}"
      ]
     },
     "execution_count": 26,
     "metadata": {},
     "output_type": "execute_result"
    }
   ],
   "source": [
    "clf.best_params_"
   ]
  },
  {
   "cell_type": "markdown",
   "id": "f2582e20-cf0c-4f8c-adfc-dd72c840a832",
   "metadata": {},
   "source": [
    "It can be seen that the best max_depth using GridSearchCV is 7, which is different from the one previously obtained"
   ]
  },
  {
   "cell_type": "markdown",
   "id": "0cdf48fe-ffef-4a7a-afd4-f9fd5d09d297",
   "metadata": {},
   "source": [
    "## D\n",
    "You will tune the maximum depth hyperparameter again using cross validation but this time, you will use the cross_val_score() function inside the sklearn.model_selection module. You will use this cross_val_score() function in combination with a for loop to find the optimal maximum depth of the tree. Here is a code snippet idea:\n",
    "\n",
    "Track the error rate for each depth and plot the error rates versus the corresponding maximum depths of the tree. Also use the np.argmin() on the error rates to retrieve the optimal maximum depth , corresponding to the lowest error rate. Does the retrieved optimal maximum depth look like what you see on your plot? ?  "
   ]
  },
  {
   "cell_type": "markdown",
   "id": "12b690a9-7601-487e-a323-075f8e4da21e",
   "metadata": {},
   "source": [
    "Instructions said to plot with x = depth, but I believe that setting depth as each of the elements, with each of the cross validation splits as the x, and the accuracy as y is the best way to see how as depth increases at first, the accuracy improves, and then it can stagnate, and even lose accuracy"
   ]
  },
  {
   "cell_type": "code",
   "execution_count": 27,
   "id": "2a5a1588-5717-47c4-a2fb-6debe9f5ece7",
   "metadata": {},
   "outputs": [
    {
     "data": {
      "image/png": "[encoded data removed]",
      "text/plain": [
       "<Figure size 640x480 with 1 Axes>"
      ]
     },
     "metadata": {},
     "output_type": "display_data"
    }
   ],
   "source": [
    "error_rates = []\n",
    "for i in range(1,tree_max_depth+1):\n",
    "    clf = DecisionTreeClassifier(max_depth=i)\n",
    "    clf.fit(X_train, y_train)\n",
    "    error_rates.append(cross_val_score(estimator=clf, X = X_test, y = y_test, scoring= \"accuracy\", cv = 8))\n",
    "locs, labels = plt.xticks()  # Get the current locations and labels.\n",
    "plt.xticks(np.arange(1, tree_max_depth+1, step=1))  # Set label locations.\n",
    "for depth in error_rates:\n",
    "    plt.plot(depth)\n",
    "plt.legend([x for x in range(1, len(error_rates)+1)], loc=\"lower right\")\n",
    "plt.show()"
   ]
  },
  {
   "cell_type": "markdown",
   "id": "bbe476d6-c288-4824-9904-ab9f496ae1ee",
   "metadata": {},
   "source": [
    "Instructions say to use argmin, however, as we are measuring accuracy, the higher the better, so it should be argmax, to get the depth at which the accuracy is maximized. "
   ]
  },
  {
   "cell_type": "code",
   "execution_count": 28,
   "id": "a8a68b0e-3144-47b0-871b-037f189f4186",
   "metadata": {},
   "outputs": [],
   "source": [
    "accuracy_mean = []\n",
    "# Get the mean accuracy for each depth\n",
    "for depth in error_rates:\n",
    "    accuracy_mean.append(np.mean(depth))"
   ]
  },
  {
   "cell_type": "code",
   "execution_count": 29,
   "id": "f52c167f-0455-4a35-9b2f-71d4760e6a8a",
   "metadata": {},
   "outputs": [
    {
     "name": "stdout",
     "output_type": "stream",
     "text": [
      "The accuracy for the best depth is: 0.9803333333333333. Best depth: 5\n"
     ]
    }
   ],
   "source": [
    "print(\"The accuracy for the best depth is: {}. Best depth: {}\".format(accuracy_mean[np.argmax(accuracy_mean)],np.argmax(accuracy_mean)+1))"
   ]
  },
  {
   "cell_type": "code",
   "execution_count": 30,
   "id": "b5415e14-c828-49c9-92d5-604dbb445993",
   "metadata": {},
   "outputs": [
    {
     "data": {
      "text/plain": [
       "[<matplotlib.lines.Line2D at 0x7fc808dae650>]"
      ]
     },
     "execution_count": 30,
     "metadata": {},
     "output_type": "execute_result"
    },
    {
     "data": {
      "image/png": "[encoded data removed]",
      "text/plain": [
       "<Figure size 640x480 with 1 Axes>"
      ]
     },
     "metadata": {},
     "output_type": "display_data"
    }
   ],
   "source": [
    "plt.plot(error_rates[4])"
   ]
  },
  {
   "cell_type": "markdown",
   "id": "164b6efd-9884-4729-afc4-d2325e402f1b",
   "metadata": {},
   "source": [
    "## E\n",
    "You will use another approach to plot the error rates versus the maximum depth of the tree. Here, you would use the validation_curve() function inside the sklearn.model_selection module. This function implements cross validation and returns the training accuracy scores and test (validation) accuracy scores for each iteration in the k-fold cross validation, for each of the hyperparameter values. You will need to aggregate the scores using np.mean(axis=1) to get the average of the accuracy scores for all iterations, for each hyperparameter value. Use these average accuracy scores to obtain corresponding error rates for the training and test (validation) sets. Then plot the error rates on the training set versus the maximum depth values. Also plot on the same figure, the error rates of the test (or validation) set versus the maximum depth values. What is the optimal maximum depth?"
   ]
  },
  {
   "cell_type": "code",
   "execution_count": 31,
   "id": "954e93cc-3c04-43fb-8bd1-fc2bc2492b58",
   "metadata": {},
   "outputs": [],
   "source": [
    "dec_tree = DecisionTreeClassifier()\n",
    "param_name, param_range = \"max_depth\", range(1, tree_max_depth+1)\n",
    "train_scores, test_scores = validation_curve(dec_tree, X_train, y_train, param_name=param_name, param_range=param_range)\n",
    "train_scores_mean = np.mean(train_scores, axis=1)\n",
    "test_scores_mean = np.mean(test_scores, axis=1)"
   ]
  },
  {
   "cell_type": "code",
   "execution_count": 32,
   "id": "85baa2e7-21bb-4cda-be8c-cbc50d6e4279",
   "metadata": {},
   "outputs": [
    {
     "data": {
      "image/png": "[encoded data removed]",
      "text/plain": [
       "<Figure size 640x480 with 1 Axes>"
      ]
     },
     "metadata": {},
     "output_type": "display_data"
    }
   ],
   "source": [
    "plt.xticks(np.arange(1, tree_max_depth+1, step=1))  # Set label locations.\n",
    "plt.plot(train_scores_mean)\n",
    "plt.plot(test_scores_mean)\n",
    "plt.legend([\"train scores\", \"test scores\"])\n",
    "plt.show()"
   ]
  },
  {
   "cell_type": "markdown",
   "id": "e099178f-56af-4c1d-8cc5-1780f3dc0127",
   "metadata": {},
   "source": [
    "The optimal depth would be 4, as on 5 the accuracy starts going down for the test dataset, while it keeps increasing for the training dataset, indicating overfitting. "
   ]
  },
  {
   "cell_type": "markdown",
   "id": "5e945994-8535-4469-be7a-53debb97d863",
   "metadata": {},
   "source": [
    "# Question 4\n",
    "Find your own dataset suitable for classification with at least three input variables and 200 cases: You will build a decision tree classifier and a random forest classifier. Find some interesting dataset instead of the popular iris data, etc. Feel free to use a dataset suitable for classification from this link provided below or some other source of your choice: https://vincentarelbundock.github.io/Rdatasets/articles/data.html \r\n",
    "Address the following and include code/output snippets from b) to f). Include the response under each sub question.\r\n"
   ]
  },
  {
   "cell_type": "markdown",
   "id": "8e414714-cb94-4845-8bb4-9f12ea5c6582",
   "metadata": {},
   "source": [
    "Chosen dataset: military\n",
    "https://vincentarelbundock.github.io/Rdatasets/doc/openintro/military.html"
   ]
  },
  {
   "cell_type": "markdown",
   "id": "e92b2541-7ab1-4277-a5e9-d309e08c767e",
   "metadata": {},
   "source": [
    "## A\n",
    "State your research question, for example: Are decision trees and random forest good models for predicting whether someone will default on a loan or not based on their age and income level? This is just an example, your dataset does not have to be (or should not be) about loans. "
   ]
  },
  {
   "cell_type": "markdown",
   "id": "d60454c4-02ef-4bd5-9144-20f3e002d399",
   "metadata": {},
   "source": [
    "Can the rank of a military service member be predicted using decision trees and random forests taking into consideration their race, grade, branch, and gender?"
   ]
  },
  {
   "cell_type": "markdown",
   "id": "0f30bfbd-54f7-4b5b-b07c-0984576e9d43",
   "metadata": {},
   "source": [
    "## B\n",
    "Data pre-processing (to the extent deemed necessary)"
   ]
  },
  {
   "cell_type": "code",
   "execution_count": 33,
   "id": "376f3f78-c52a-4ab8-b30d-1ec2e01e5c46",
   "metadata": {},
   "outputs": [
    {
     "data": {
      "text/html": [
       "<div>\n",
       "<style scoped>\n",
       "    .dataframe tbody tr th:only-of-type {\n",
       "        vertical-align: middle;\n",
       "    }\n",
       "\n",
       "    .dataframe tbody tr th {\n",
       "        vertical-align: top;\n",
       "    }\n",
       "\n",
       "    .dataframe thead th {\n",
       "        text-align: right;\n",
       "    }\n",
       "</style>\n",
       "<table border=\"1\" class=\"dataframe\">\n",
       "  <thead>\n",
       "    <tr style=\"text-align: right;\">\n",
       "      <th></th>\n",
       "      <th>grade_enlisted</th>\n",
       "      <th>grade_officer</th>\n",
       "      <th>grade_warrant officer</th>\n",
       "      <th>branch_air force</th>\n",
       "      <th>branch_army</th>\n",
       "      <th>branch_marine corps</th>\n",
       "      <th>branch_navy</th>\n",
       "      <th>gender_female</th>\n",
       "      <th>gender_male</th>\n",
       "      <th>race_ami/aln</th>\n",
       "      <th>race_asian</th>\n",
       "      <th>race_black</th>\n",
       "      <th>race_hisp</th>\n",
       "      <th>race_multi</th>\n",
       "      <th>race_p/i</th>\n",
       "      <th>race_unk</th>\n",
       "      <th>race_white</th>\n",
       "      <th>rank</th>\n",
       "    </tr>\n",
       "  </thead>\n",
       "  <tbody>\n",
       "    <tr>\n",
       "      <th>0</th>\n",
       "      <td>False</td>\n",
       "      <td>True</td>\n",
       "      <td>False</td>\n",
       "      <td>False</td>\n",
       "      <td>True</td>\n",
       "      <td>False</td>\n",
       "      <td>False</td>\n",
       "      <td>False</td>\n",
       "      <td>True</td>\n",
       "      <td>False</td>\n",
       "      <td>False</td>\n",
       "      <td>False</td>\n",
       "      <td>True</td>\n",
       "      <td>False</td>\n",
       "      <td>False</td>\n",
       "      <td>False</td>\n",
       "      <td>False</td>\n",
       "      <td>2</td>\n",
       "    </tr>\n",
       "    <tr>\n",
       "      <th>1</th>\n",
       "      <td>False</td>\n",
       "      <td>True</td>\n",
       "      <td>False</td>\n",
       "      <td>False</td>\n",
       "      <td>True</td>\n",
       "      <td>False</td>\n",
       "      <td>False</td>\n",
       "      <td>False</td>\n",
       "      <td>True</td>\n",
       "      <td>False</td>\n",
       "      <td>False</td>\n",
       "      <td>False</td>\n",
       "      <td>True</td>\n",
       "      <td>False</td>\n",
       "      <td>False</td>\n",
       "      <td>False</td>\n",
       "      <td>False</td>\n",
       "      <td>2</td>\n",
       "    </tr>\n",
       "    <tr>\n",
       "      <th>2</th>\n",
       "      <td>False</td>\n",
       "      <td>True</td>\n",
       "      <td>False</td>\n",
       "      <td>False</td>\n",
       "      <td>True</td>\n",
       "      <td>False</td>\n",
       "      <td>False</td>\n",
       "      <td>False</td>\n",
       "      <td>True</td>\n",
       "      <td>False</td>\n",
       "      <td>False</td>\n",
       "      <td>False</td>\n",
       "      <td>True</td>\n",
       "      <td>False</td>\n",
       "      <td>False</td>\n",
       "      <td>False</td>\n",
       "      <td>False</td>\n",
       "      <td>5</td>\n",
       "    </tr>\n",
       "    <tr>\n",
       "      <th>3</th>\n",
       "      <td>False</td>\n",
       "      <td>True</td>\n",
       "      <td>False</td>\n",
       "      <td>False</td>\n",
       "      <td>True</td>\n",
       "      <td>False</td>\n",
       "      <td>False</td>\n",
       "      <td>False</td>\n",
       "      <td>True</td>\n",
       "      <td>False</td>\n",
       "      <td>False</td>\n",
       "      <td>False</td>\n",
       "      <td>True</td>\n",
       "      <td>False</td>\n",
       "      <td>False</td>\n",
       "      <td>False</td>\n",
       "      <td>False</td>\n",
       "      <td>5</td>\n",
       "    </tr>\n",
       "    <tr>\n",
       "      <th>4</th>\n",
       "      <td>False</td>\n",
       "      <td>True</td>\n",
       "      <td>False</td>\n",
       "      <td>False</td>\n",
       "      <td>True</td>\n",
       "      <td>False</td>\n",
       "      <td>False</td>\n",
       "      <td>False</td>\n",
       "      <td>True</td>\n",
       "      <td>False</td>\n",
       "      <td>False</td>\n",
       "      <td>False</td>\n",
       "      <td>True</td>\n",
       "      <td>False</td>\n",
       "      <td>False</td>\n",
       "      <td>False</td>\n",
       "      <td>False</td>\n",
       "      <td>5</td>\n",
       "    </tr>\n",
       "    <tr>\n",
       "      <th>...</th>\n",
       "      <td>...</td>\n",
       "      <td>...</td>\n",
       "      <td>...</td>\n",
       "      <td>...</td>\n",
       "      <td>...</td>\n",
       "      <td>...</td>\n",
       "      <td>...</td>\n",
       "      <td>...</td>\n",
       "      <td>...</td>\n",
       "      <td>...</td>\n",
       "      <td>...</td>\n",
       "      <td>...</td>\n",
       "      <td>...</td>\n",
       "      <td>...</td>\n",
       "      <td>...</td>\n",
       "      <td>...</td>\n",
       "      <td>...</td>\n",
       "      <td>...</td>\n",
       "    </tr>\n",
       "    <tr>\n",
       "      <th>1414588</th>\n",
       "      <td>True</td>\n",
       "      <td>False</td>\n",
       "      <td>False</td>\n",
       "      <td>True</td>\n",
       "      <td>False</td>\n",
       "      <td>False</td>\n",
       "      <td>False</td>\n",
       "      <td>True</td>\n",
       "      <td>False</td>\n",
       "      <td>False</td>\n",
       "      <td>False</td>\n",
       "      <td>False</td>\n",
       "      <td>False</td>\n",
       "      <td>False</td>\n",
       "      <td>False</td>\n",
       "      <td>True</td>\n",
       "      <td>False</td>\n",
       "      <td>11</td>\n",
       "    </tr>\n",
       "    <tr>\n",
       "      <th>1414589</th>\n",
       "      <td>True</td>\n",
       "      <td>False</td>\n",
       "      <td>False</td>\n",
       "      <td>True</td>\n",
       "      <td>False</td>\n",
       "      <td>False</td>\n",
       "      <td>False</td>\n",
       "      <td>True</td>\n",
       "      <td>False</td>\n",
       "      <td>False</td>\n",
       "      <td>False</td>\n",
       "      <td>False</td>\n",
       "      <td>False</td>\n",
       "      <td>False</td>\n",
       "      <td>False</td>\n",
       "      <td>True</td>\n",
       "      <td>False</td>\n",
       "      <td>11</td>\n",
       "    </tr>\n",
       "    <tr>\n",
       "      <th>1414590</th>\n",
       "      <td>True</td>\n",
       "      <td>False</td>\n",
       "      <td>False</td>\n",
       "      <td>True</td>\n",
       "      <td>False</td>\n",
       "      <td>False</td>\n",
       "      <td>False</td>\n",
       "      <td>True</td>\n",
       "      <td>False</td>\n",
       "      <td>False</td>\n",
       "      <td>False</td>\n",
       "      <td>False</td>\n",
       "      <td>False</td>\n",
       "      <td>False</td>\n",
       "      <td>False</td>\n",
       "      <td>True</td>\n",
       "      <td>False</td>\n",
       "      <td>11</td>\n",
       "    </tr>\n",
       "    <tr>\n",
       "      <th>1414591</th>\n",
       "      <td>True</td>\n",
       "      <td>False</td>\n",
       "      <td>False</td>\n",
       "      <td>True</td>\n",
       "      <td>False</td>\n",
       "      <td>False</td>\n",
       "      <td>False</td>\n",
       "      <td>True</td>\n",
       "      <td>False</td>\n",
       "      <td>False</td>\n",
       "      <td>False</td>\n",
       "      <td>False</td>\n",
       "      <td>False</td>\n",
       "      <td>False</td>\n",
       "      <td>False</td>\n",
       "      <td>True</td>\n",
       "      <td>False</td>\n",
       "      <td>11</td>\n",
       "    </tr>\n",
       "    <tr>\n",
       "      <th>1414592</th>\n",
       "      <td>True</td>\n",
       "      <td>False</td>\n",
       "      <td>False</td>\n",
       "      <td>True</td>\n",
       "      <td>False</td>\n",
       "      <td>False</td>\n",
       "      <td>False</td>\n",
       "      <td>True</td>\n",
       "      <td>False</td>\n",
       "      <td>False</td>\n",
       "      <td>False</td>\n",
       "      <td>False</td>\n",
       "      <td>False</td>\n",
       "      <td>False</td>\n",
       "      <td>False</td>\n",
       "      <td>True</td>\n",
       "      <td>False</td>\n",
       "      <td>11</td>\n",
       "    </tr>\n",
       "  </tbody>\n",
       "</table>\n",
       "<p>1414593 rows × 18 columns</p>\n",
       "</div>"
      ],
      "text/plain": [
       "         grade_enlisted  grade_officer  grade_warrant officer  \\\n",
       "0                 False           True                  False   \n",
       "1                 False           True                  False   \n",
       "2                 False           True                  False   \n",
       "3                 False           True                  False   \n",
       "4                 False           True                  False   \n",
       "...                 ...            ...                    ...   \n",
       "1414588            True          False                  False   \n",
       "1414589            True          False                  False   \n",
       "1414590            True          False                  False   \n",
       "1414591            True          False                  False   \n",
       "1414592            True          False                  False   \n",
       "\n",
       "         branch_air force  branch_army  branch_marine corps  branch_navy  \\\n",
       "0                   False         True                False        False   \n",
       "1                   False         True                False        False   \n",
       "2                   False         True                False        False   \n",
       "3                   False         True                False        False   \n",
       "4                   False         True                False        False   \n",
       "...                   ...          ...                  ...          ...   \n",
       "1414588              True        False                False        False   \n",
       "1414589              True        False                False        False   \n",
       "1414590              True        False                False        False   \n",
       "1414591              True        False                False        False   \n",
       "1414592              True        False                False        False   \n",
       "\n",
       "         gender_female  gender_male  race_ami/aln  race_asian  race_black  \\\n",
       "0                False         True         False       False       False   \n",
       "1                False         True         False       False       False   \n",
       "2                False         True         False       False       False   \n",
       "3                False         True         False       False       False   \n",
       "4                False         True         False       False       False   \n",
       "...                ...          ...           ...         ...         ...   \n",
       "1414588           True        False         False       False       False   \n",
       "1414589           True        False         False       False       False   \n",
       "1414590           True        False         False       False       False   \n",
       "1414591           True        False         False       False       False   \n",
       "1414592           True        False         False       False       False   \n",
       "\n",
       "         race_hisp  race_multi  race_p/i  race_unk  race_white  rank  \n",
       "0             True       False     False     False       False     2  \n",
       "1             True       False     False     False       False     2  \n",
       "2             True       False     False     False       False     5  \n",
       "3             True       False     False     False       False     5  \n",
       "4             True       False     False     False       False     5  \n",
       "...            ...         ...       ...       ...         ...   ...  \n",
       "1414588      False       False     False      True       False    11  \n",
       "1414589      False       False     False      True       False    11  \n",
       "1414590      False       False     False      True       False    11  \n",
       "1414591      False       False     False      True       False    11  \n",
       "1414592      False       False     False      True       False    11  \n",
       "\n",
       "[1414593 rows x 18 columns]"
      ]
     },
     "execution_count": 33,
     "metadata": {},
     "output_type": "execute_result"
    }
   ],
   "source": [
    "# Import the dataset\n",
    "data = pd.read_csv(\"military.csv\")\n",
    "# Drop the column rownames, as it is simply the index\n",
    "data = data.drop([\"rownames\"], axis=1)\n",
    "# race column does not include the hispanic race, which is in its own column called hisp. So they must be merged into a single column\n",
    "data.loc[data[\"hisp\"] == True, \"race\"] = \"hisp\"\n",
    "# Now the hisp column can be dropped\n",
    "data = data.drop([\"hisp\"], axis = 1)\n",
    "# Finally, columns grade, branch, gender, and race have to be changed to one hot\n",
    "one_hot = pd.get_dummies(data.drop([\"rank\"], axis=1))\n",
    "one_hot[\"rank\"] = data[\"rank\"]\n",
    "data = one_hot.copy()\n",
    "data"
   ]
  },
  {
   "cell_type": "code",
   "execution_count": 34,
   "id": "222358cb-0b86-4c7d-a916-856f1af37d58",
   "metadata": {},
   "outputs": [
    {
     "data": {
      "text/html": [
       "<div>\n",
       "<style scoped>\n",
       "    .dataframe tbody tr th:only-of-type {\n",
       "        vertical-align: middle;\n",
       "    }\n",
       "\n",
       "    .dataframe tbody tr th {\n",
       "        vertical-align: top;\n",
       "    }\n",
       "\n",
       "    .dataframe thead th {\n",
       "        text-align: right;\n",
       "    }\n",
       "</style>\n",
       "<table border=\"1\" class=\"dataframe\">\n",
       "  <thead>\n",
       "    <tr style=\"text-align: right;\">\n",
       "      <th></th>\n",
       "      <th>count</th>\n",
       "      <th>unique</th>\n",
       "      <th>top</th>\n",
       "      <th>freq</th>\n",
       "      <th>mean</th>\n",
       "      <th>std</th>\n",
       "      <th>min</th>\n",
       "      <th>25%</th>\n",
       "      <th>50%</th>\n",
       "      <th>75%</th>\n",
       "      <th>max</th>\n",
       "    </tr>\n",
       "  </thead>\n",
       "  <tbody>\n",
       "    <tr>\n",
       "      <th>grade_enlisted</th>\n",
       "      <td>1414593</td>\n",
       "      <td>2</td>\n",
       "      <td>True</td>\n",
       "      <td>1183889</td>\n",
       "      <td>NaN</td>\n",
       "      <td>NaN</td>\n",
       "      <td>NaN</td>\n",
       "      <td>NaN</td>\n",
       "      <td>NaN</td>\n",
       "      <td>NaN</td>\n",
       "      <td>NaN</td>\n",
       "    </tr>\n",
       "    <tr>\n",
       "      <th>grade_officer</th>\n",
       "      <td>1414593</td>\n",
       "      <td>2</td>\n",
       "      <td>False</td>\n",
       "      <td>1203068</td>\n",
       "      <td>NaN</td>\n",
       "      <td>NaN</td>\n",
       "      <td>NaN</td>\n",
       "      <td>NaN</td>\n",
       "      <td>NaN</td>\n",
       "      <td>NaN</td>\n",
       "      <td>NaN</td>\n",
       "    </tr>\n",
       "    <tr>\n",
       "      <th>grade_warrant officer</th>\n",
       "      <td>1414593</td>\n",
       "      <td>2</td>\n",
       "      <td>False</td>\n",
       "      <td>1395414</td>\n",
       "      <td>NaN</td>\n",
       "      <td>NaN</td>\n",
       "      <td>NaN</td>\n",
       "      <td>NaN</td>\n",
       "      <td>NaN</td>\n",
       "      <td>NaN</td>\n",
       "      <td>NaN</td>\n",
       "    </tr>\n",
       "    <tr>\n",
       "      <th>branch_air force</th>\n",
       "      <td>1414593</td>\n",
       "      <td>2</td>\n",
       "      <td>False</td>\n",
       "      <td>1083107</td>\n",
       "      <td>NaN</td>\n",
       "      <td>NaN</td>\n",
       "      <td>NaN</td>\n",
       "      <td>NaN</td>\n",
       "      <td>NaN</td>\n",
       "      <td>NaN</td>\n",
       "      <td>NaN</td>\n",
       "    </tr>\n",
       "    <tr>\n",
       "      <th>branch_army</th>\n",
       "      <td>1414593</td>\n",
       "      <td>2</td>\n",
       "      <td>False</td>\n",
       "      <td>858744</td>\n",
       "      <td>NaN</td>\n",
       "      <td>NaN</td>\n",
       "      <td>NaN</td>\n",
       "      <td>NaN</td>\n",
       "      <td>NaN</td>\n",
       "      <td>NaN</td>\n",
       "      <td>NaN</td>\n",
       "    </tr>\n",
       "    <tr>\n",
       "      <th>branch_marine corps</th>\n",
       "      <td>1414593</td>\n",
       "      <td>2</td>\n",
       "      <td>False</td>\n",
       "      <td>1211627</td>\n",
       "      <td>NaN</td>\n",
       "      <td>NaN</td>\n",
       "      <td>NaN</td>\n",
       "      <td>NaN</td>\n",
       "      <td>NaN</td>\n",
       "      <td>NaN</td>\n",
       "      <td>NaN</td>\n",
       "    </tr>\n",
       "    <tr>\n",
       "      <th>branch_navy</th>\n",
       "      <td>1414593</td>\n",
       "      <td>2</td>\n",
       "      <td>False</td>\n",
       "      <td>1090301</td>\n",
       "      <td>NaN</td>\n",
       "      <td>NaN</td>\n",
       "      <td>NaN</td>\n",
       "      <td>NaN</td>\n",
       "      <td>NaN</td>\n",
       "      <td>NaN</td>\n",
       "      <td>NaN</td>\n",
       "    </tr>\n",
       "    <tr>\n",
       "      <th>gender_female</th>\n",
       "      <td>1414593</td>\n",
       "      <td>2</td>\n",
       "      <td>False</td>\n",
       "      <td>1211875</td>\n",
       "      <td>NaN</td>\n",
       "      <td>NaN</td>\n",
       "      <td>NaN</td>\n",
       "      <td>NaN</td>\n",
       "      <td>NaN</td>\n",
       "      <td>NaN</td>\n",
       "      <td>NaN</td>\n",
       "    </tr>\n",
       "    <tr>\n",
       "      <th>gender_male</th>\n",
       "      <td>1414593</td>\n",
       "      <td>2</td>\n",
       "      <td>True</td>\n",
       "      <td>1211875</td>\n",
       "      <td>NaN</td>\n",
       "      <td>NaN</td>\n",
       "      <td>NaN</td>\n",
       "      <td>NaN</td>\n",
       "      <td>NaN</td>\n",
       "      <td>NaN</td>\n",
       "      <td>NaN</td>\n",
       "    </tr>\n",
       "    <tr>\n",
       "      <th>race_ami/aln</th>\n",
       "      <td>1414593</td>\n",
       "      <td>2</td>\n",
       "      <td>False</td>\n",
       "      <td>1394149</td>\n",
       "      <td>NaN</td>\n",
       "      <td>NaN</td>\n",
       "      <td>NaN</td>\n",
       "      <td>NaN</td>\n",
       "      <td>NaN</td>\n",
       "      <td>NaN</td>\n",
       "      <td>NaN</td>\n",
       "    </tr>\n",
       "    <tr>\n",
       "      <th>race_asian</th>\n",
       "      <td>1414593</td>\n",
       "      <td>2</td>\n",
       "      <td>False</td>\n",
       "      <td>1364562</td>\n",
       "      <td>NaN</td>\n",
       "      <td>NaN</td>\n",
       "      <td>NaN</td>\n",
       "      <td>NaN</td>\n",
       "      <td>NaN</td>\n",
       "      <td>NaN</td>\n",
       "      <td>NaN</td>\n",
       "    </tr>\n",
       "    <tr>\n",
       "      <th>race_black</th>\n",
       "      <td>1414593</td>\n",
       "      <td>2</td>\n",
       "      <td>False</td>\n",
       "      <td>1181393</td>\n",
       "      <td>NaN</td>\n",
       "      <td>NaN</td>\n",
       "      <td>NaN</td>\n",
       "      <td>NaN</td>\n",
       "      <td>NaN</td>\n",
       "      <td>NaN</td>\n",
       "      <td>NaN</td>\n",
       "    </tr>\n",
       "    <tr>\n",
       "      <th>race_hisp</th>\n",
       "      <td>1414593</td>\n",
       "      <td>2</td>\n",
       "      <td>False</td>\n",
       "      <td>1265480</td>\n",
       "      <td>NaN</td>\n",
       "      <td>NaN</td>\n",
       "      <td>NaN</td>\n",
       "      <td>NaN</td>\n",
       "      <td>NaN</td>\n",
       "      <td>NaN</td>\n",
       "      <td>NaN</td>\n",
       "    </tr>\n",
       "    <tr>\n",
       "      <th>race_multi</th>\n",
       "      <td>1414593</td>\n",
       "      <td>2</td>\n",
       "      <td>False</td>\n",
       "      <td>1392112</td>\n",
       "      <td>NaN</td>\n",
       "      <td>NaN</td>\n",
       "      <td>NaN</td>\n",
       "      <td>NaN</td>\n",
       "      <td>NaN</td>\n",
       "      <td>NaN</td>\n",
       "      <td>NaN</td>\n",
       "    </tr>\n",
       "    <tr>\n",
       "      <th>race_p/i</th>\n",
       "      <td>1414593</td>\n",
       "      <td>2</td>\n",
       "      <td>False</td>\n",
       "      <td>1406747</td>\n",
       "      <td>NaN</td>\n",
       "      <td>NaN</td>\n",
       "      <td>NaN</td>\n",
       "      <td>NaN</td>\n",
       "      <td>NaN</td>\n",
       "      <td>NaN</td>\n",
       "      <td>NaN</td>\n",
       "    </tr>\n",
       "    <tr>\n",
       "      <th>race_unk</th>\n",
       "      <td>1414593</td>\n",
       "      <td>2</td>\n",
       "      <td>False</td>\n",
       "      <td>1382818</td>\n",
       "      <td>NaN</td>\n",
       "      <td>NaN</td>\n",
       "      <td>NaN</td>\n",
       "      <td>NaN</td>\n",
       "      <td>NaN</td>\n",
       "      <td>NaN</td>\n",
       "      <td>NaN</td>\n",
       "    </tr>\n",
       "    <tr>\n",
       "      <th>race_white</th>\n",
       "      <td>1414593</td>\n",
       "      <td>2</td>\n",
       "      <td>True</td>\n",
       "      <td>899703</td>\n",
       "      <td>NaN</td>\n",
       "      <td>NaN</td>\n",
       "      <td>NaN</td>\n",
       "      <td>NaN</td>\n",
       "      <td>NaN</td>\n",
       "      <td>NaN</td>\n",
       "      <td>NaN</td>\n",
       "    </tr>\n",
       "    <tr>\n",
       "      <th>rank</th>\n",
       "      <td>1414593.0</td>\n",
       "      <td>NaN</td>\n",
       "      <td>NaN</td>\n",
       "      <td>NaN</td>\n",
       "      <td>6.194034</td>\n",
       "      <td>1.789617</td>\n",
       "      <td>1.0</td>\n",
       "      <td>5.0</td>\n",
       "      <td>6.0</td>\n",
       "      <td>7.0</td>\n",
       "      <td>11.0</td>\n",
       "    </tr>\n",
       "  </tbody>\n",
       "</table>\n",
       "</div>"
      ],
      "text/plain": [
       "                           count unique    top     freq      mean       std  \\\n",
       "grade_enlisted           1414593      2   True  1183889       NaN       NaN   \n",
       "grade_officer            1414593      2  False  1203068       NaN       NaN   \n",
       "grade_warrant officer    1414593      2  False  1395414       NaN       NaN   \n",
       "branch_air force         1414593      2  False  1083107       NaN       NaN   \n",
       "branch_army              1414593      2  False   858744       NaN       NaN   \n",
       "branch_marine corps      1414593      2  False  1211627       NaN       NaN   \n",
       "branch_navy              1414593      2  False  1090301       NaN       NaN   \n",
       "gender_female            1414593      2  False  1211875       NaN       NaN   \n",
       "gender_male              1414593      2   True  1211875       NaN       NaN   \n",
       "race_ami/aln             1414593      2  False  1394149       NaN       NaN   \n",
       "race_asian               1414593      2  False  1364562       NaN       NaN   \n",
       "race_black               1414593      2  False  1181393       NaN       NaN   \n",
       "race_hisp                1414593      2  False  1265480       NaN       NaN   \n",
       "race_multi               1414593      2  False  1392112       NaN       NaN   \n",
       "race_p/i                 1414593      2  False  1406747       NaN       NaN   \n",
       "race_unk                 1414593      2  False  1382818       NaN       NaN   \n",
       "race_white               1414593      2   True   899703       NaN       NaN   \n",
       "rank                   1414593.0    NaN    NaN      NaN  6.194034  1.789617   \n",
       "\n",
       "                       min  25%  50%  75%   max  \n",
       "grade_enlisted         NaN  NaN  NaN  NaN   NaN  \n",
       "grade_officer          NaN  NaN  NaN  NaN   NaN  \n",
       "grade_warrant officer  NaN  NaN  NaN  NaN   NaN  \n",
       "branch_air force       NaN  NaN  NaN  NaN   NaN  \n",
       "branch_army            NaN  NaN  NaN  NaN   NaN  \n",
       "branch_marine corps    NaN  NaN  NaN  NaN   NaN  \n",
       "branch_navy            NaN  NaN  NaN  NaN   NaN  \n",
       "gender_female          NaN  NaN  NaN  NaN   NaN  \n",
       "gender_male            NaN  NaN  NaN  NaN   NaN  \n",
       "race_ami/aln           NaN  NaN  NaN  NaN   NaN  \n",
       "race_asian             NaN  NaN  NaN  NaN   NaN  \n",
       "race_black             NaN  NaN  NaN  NaN   NaN  \n",
       "race_hisp              NaN  NaN  NaN  NaN   NaN  \n",
       "race_multi             NaN  NaN  NaN  NaN   NaN  \n",
       "race_p/i               NaN  NaN  NaN  NaN   NaN  \n",
       "race_unk               NaN  NaN  NaN  NaN   NaN  \n",
       "race_white             NaN  NaN  NaN  NaN   NaN  \n",
       "rank                   1.0  5.0  6.0  7.0  11.0  "
      ]
     },
     "execution_count": 34,
     "metadata": {},
     "output_type": "execute_result"
    }
   ],
   "source": [
    "data.describe(include=\"all\").T"
   ]
  },
  {
   "cell_type": "markdown",
   "id": "abde3317-53c3-4a0e-94bb-dcb1c3cd7afa",
   "metadata": {},
   "source": [
    "## C\n",
    "Data splitting "
   ]
  },
  {
   "cell_type": "code",
   "execution_count": 35,
   "id": "50cef63b-94ab-429f-8fe8-04796c5acf2a",
   "metadata": {},
   "outputs": [],
   "source": [
    "X = data.drop([\"rank\"], axis=1).copy()\n",
    "y = data[\"rank\"].copy()\n",
    "X_train, X_test, y_train, y_test = train_test_split(X, y, test_size=(0.3), random_state=42)"
   ]
  },
  {
   "cell_type": "markdown",
   "id": "a112318e-6fdc-4e53-8014-96be7546a456",
   "metadata": {},
   "source": [
    "## D\n",
    "Model construction (a decision tree and a random forest)"
   ]
  },
  {
   "cell_type": "code",
   "execution_count": 36,
   "id": "666a67ad-cf6e-47b1-92c9-4d8f04462544",
   "metadata": {},
   "outputs": [],
   "source": [
    "dec_tree = DecisionTreeClassifier()\n",
    "rand_forest = RandomForestClassifier(random_state=0)"
   ]
  },
  {
   "cell_type": "markdown",
   "id": "e07f76d3-d2dd-41fe-a41c-05156847cfa7",
   "metadata": {},
   "source": [
    "## E\n",
    "Hyperparameter turning (for each model, tune the hyperparameter that is important to you and use any of the methods for hyperparameter tuning learned in class such as cross validation with for loop, gridsearch cross validation, etc. You could tune more than a single parameter for each model if you want). "
   ]
  },
  {
   "cell_type": "code",
   "execution_count": 37,
   "id": "0799ee7c-6aa7-4bc2-ae83-c31dd7f973bd",
   "metadata": {},
   "outputs": [
    {
     "name": "stderr",
     "output_type": "stream",
     "text": [
      "/mnt/c/Users/rino2/OneDrive/Documentos/Maestria/Sixth Quarter - Winter 2024/Data Science Tools 2/env/lib/python3.10/site-packages/sklearn/model_selection/_split.py:737: UserWarning: The least populated class in y has only 6 members, which is less than n_splits=8.\n",
      "  warnings.warn(\n",
      "\n",
      "KeyboardInterrupt\n",
      "\n"
     ]
    }
   ],
   "source": [
    "# Decision tree tuningusing GridSearchCV\n",
    "param_grid = {\n",
    "    \"max_depth\" : range(1,15),\n",
    "    \"min_samples_split\" : range(2,5),\n",
    "    \"max_features\": [0.2, 0.4, 0.6, 0.8]\n",
    "}\n",
    "clf = GridSearchCV(dec_tree, param_grid, cv=8, n_jobs = -1)\n",
    "clf.fit(X_train, y_train)\n",
    "clf.best_params_"
   ]
  },
  {
   "cell_type": "markdown",
   "id": "f3405c32-591d-402d-8f3c-cce877f07c9e",
   "metadata": {},
   "source": [
    "It can be seen that the best estimator for the decision tree is with max depth of 12, maximum features = 0.6, and minimum samples split = 2"
   ]
  },
  {
   "cell_type": "code",
   "execution_count": null,
   "id": "31e95096-8285-4853-a108-cac8ddd5dd9a",
   "metadata": {},
   "outputs": [],
   "source": [
    "dec_tree = clf.best_estimator_.copy()\n",
    "dump(dec_tree, \"decision_tree.joblib\")"
   ]
  },
  {
   "cell_type": "code",
   "execution_count": 38,
   "id": "4559781b-60d7-4e1c-a94f-748679681d2c",
   "metadata": {},
   "outputs": [],
   "source": [
    "dec_tree = load(\"decision_tree.joblib\")"
   ]
  },
  {
   "cell_type": "code",
   "execution_count": null,
   "id": "5e60bca1-bea3-47a0-9c0b-f50b926653cc",
   "metadata": {},
   "outputs": [],
   "source": [
    "# Random Forest tuning using GridSearchCV\n",
    "# Decision tree tuningusing GridSearchCV\n",
    "param_grid = {\n",
    "    \"n_estimators\" : range(100,140,10),\n",
    "    \"max_depth\" : range(3,10)\n",
    "}\n",
    "clf = GridSearchCV(rand_forest, param_grid, cv=5, n_jobs = -1)\n",
    "clf.fit(X_train, y_train)\n",
    "#GridSearchCV(estimator=DecisionTreeClassifier(), param_grid=param_grid)\n",
    "clf.best_params_"
   ]
  },
  {
   "cell_type": "code",
   "execution_count": null,
   "id": "1a65595e-f520-4225-a37d-da43e93c65da",
   "metadata": {},
   "outputs": [],
   "source": [
    "rand_forest = clf.best_estimator_\n",
    "# Save random forest model, as it takes a while to train\n",
    "dump(rand_forest, \"rand_fores.joblib\")"
   ]
  },
  {
   "cell_type": "code",
   "execution_count": 39,
   "id": "ffd6eb3a-f492-4165-bd9f-f49578d87e66",
   "metadata": {},
   "outputs": [],
   "source": [
    "rand_forest = load(\"rand_fores.joblib\")"
   ]
  },
  {
   "cell_type": "markdown",
   "id": "53961e50-5f2c-4e69-abb8-69ffb429f93f",
   "metadata": {},
   "source": [
    "## F\n",
    "Use the best or optimal parameter values to build a model, then compute the accuracy score for the decision tree and for the random forest). "
   ]
  },
  {
   "cell_type": "code",
   "execution_count": 40,
   "id": "200dfff3-f4e5-4abf-84f0-28d8abd825f6",
   "metadata": {},
   "outputs": [
    {
     "data": {
      "text/html": [
       "<style>#sk-container-id-1 {color: black;}#sk-container-id-1 pre{padding: 0;}#sk-container-id-1 div.sk-toggleable {background-color: white;}#sk-container-id-1 label.sk-toggleable__label {cursor: pointer;display: block;width: 100%;margin-bottom: 0;padding: 0.3em;box-sizing: border-box;text-align: center;}#sk-container-id-1 label.sk-toggleable__label-arrow:before {content: \"▸\";float: left;margin-right: 0.25em;color: #696969;}#sk-container-id-1 label.sk-toggleable__label-arrow:hover:before {color: black;}#sk-container-id-1 div.sk-estimator:hover label.sk-toggleable__label-arrow:before {color: black;}#sk-container-id-1 div.sk-toggleable__content {max-height: 0;max-width: 0;overflow: hidden;text-align: left;background-color: #f0f8ff;}#sk-container-id-1 div.sk-toggleable__content pre {margin: 0.2em;color: black;border-radius: 0.25em;background-color: #f0f8ff;}#sk-container-id-1 input.sk-toggleable__control:checked~div.sk-toggleable__content {max-height: 200px;max-width: 100%;overflow: auto;}#sk-container-id-1 input.sk-toggleable__control:checked~label.sk-toggleable__label-arrow:before {content: \"▾\";}#sk-container-id-1 div.sk-estimator input.sk-toggleable__control:checked~label.sk-toggleable__label {background-color: #d4ebff;}#sk-container-id-1 div.sk-label input.sk-toggleable__control:checked~label.sk-toggleable__label {background-color: #d4ebff;}#sk-container-id-1 input.sk-hidden--visually {border: 0;clip: rect(1px 1px 1px 1px);clip: rect(1px, 1px, 1px, 1px);height: 1px;margin: -1px;overflow: hidden;padding: 0;position: absolute;width: 1px;}#sk-container-id-1 div.sk-estimator {font-family: monospace;background-color: #f0f8ff;border: 1px dotted black;border-radius: 0.25em;box-sizing: border-box;margin-bottom: 0.5em;}#sk-container-id-1 div.sk-estimator:hover {background-color: #d4ebff;}#sk-container-id-1 div.sk-parallel-item::after {content: \"\";width: 100%;border-bottom: 1px solid gray;flex-grow: 1;}#sk-container-id-1 div.sk-label:hover label.sk-toggleable__label {background-color: #d4ebff;}#sk-container-id-1 div.sk-serial::before {content: \"\";position: absolute;border-left: 1px solid gray;box-sizing: border-box;top: 0;bottom: 0;left: 50%;z-index: 0;}#sk-container-id-1 div.sk-serial {display: flex;flex-direction: column;align-items: center;background-color: white;padding-right: 0.2em;padding-left: 0.2em;position: relative;}#sk-container-id-1 div.sk-item {position: relative;z-index: 1;}#sk-container-id-1 div.sk-parallel {display: flex;align-items: stretch;justify-content: center;background-color: white;position: relative;}#sk-container-id-1 div.sk-item::before, #sk-container-id-1 div.sk-parallel-item::before {content: \"\";position: absolute;border-left: 1px solid gray;box-sizing: border-box;top: 0;bottom: 0;left: 50%;z-index: -1;}#sk-container-id-1 div.sk-parallel-item {display: flex;flex-direction: column;z-index: 1;position: relative;background-color: white;}#sk-container-id-1 div.sk-parallel-item:first-child::after {align-self: flex-end;width: 50%;}#sk-container-id-1 div.sk-parallel-item:last-child::after {align-self: flex-start;width: 50%;}#sk-container-id-1 div.sk-parallel-item:only-child::after {width: 0;}#sk-container-id-1 div.sk-dashed-wrapped {border: 1px dashed gray;margin: 0 0.4em 0.5em 0.4em;box-sizing: border-box;padding-bottom: 0.4em;background-color: white;}#sk-container-id-1 div.sk-label label {font-family: monospace;font-weight: bold;display: inline-block;line-height: 1.2em;}#sk-container-id-1 div.sk-label-container {text-align: center;}#sk-container-id-1 div.sk-container {/* jupyter's `normalize.less` sets `[hidden] { display: none; }` but bootstrap.min.css set `[hidden] { display: none !important; }` so we also need the `!important` here to be able to override the default hidden behavior on the sphinx rendered scikit-learn.org. See: https://github.com/scikit-learn/scikit-learn/issues/21755 */display: inline-block !important;position: relative;}#sk-container-id-1 div.sk-text-repr-fallback {display: none;}</style><div id=\"sk-container-id-1\" class=\"sk-top-container\"><div class=\"sk-text-repr-fallback\"><pre>DecisionTreeClassifier(max_depth=12, max_features=0.6)</pre><b>In a Jupyter environment, please rerun this cell to show the HTML representation or trust the notebook. <br />On GitHub, the HTML representation is unable to render, please try loading this page with nbviewer.org.</b></div><div class=\"sk-container\" hidden><div class=\"sk-item\"><div class=\"sk-estimator sk-toggleable\"><input class=\"sk-toggleable__control sk-hidden--visually\" id=\"sk-estimator-id-1\" type=\"checkbox\" checked><label for=\"sk-estimator-id-1\" class=\"sk-toggleable__label sk-toggleable__label-arrow\">DecisionTreeClassifier</label><div class=\"sk-toggleable__content\"><pre>DecisionTreeClassifier(max_depth=12, max_features=0.6)</pre></div></div></div></div></div>"
      ],
      "text/plain": [
       "DecisionTreeClassifier(max_depth=12, max_features=0.6)"
      ]
     },
     "execution_count": 40,
     "metadata": {},
     "output_type": "execute_result"
    }
   ],
   "source": [
    "dec_tree"
   ]
  },
  {
   "cell_type": "code",
   "execution_count": 41,
   "id": "943dbdea-f1aa-4f86-bfdd-c6f2ac38d088",
   "metadata": {},
   "outputs": [
    {
     "data": {
      "text/html": [
       "<style>#sk-container-id-2 {color: black;}#sk-container-id-2 pre{padding: 0;}#sk-container-id-2 div.sk-toggleable {background-color: white;}#sk-container-id-2 label.sk-toggleable__label {cursor: pointer;display: block;width: 100%;margin-bottom: 0;padding: 0.3em;box-sizing: border-box;text-align: center;}#sk-container-id-2 label.sk-toggleable__label-arrow:before {content: \"▸\";float: left;margin-right: 0.25em;color: #696969;}#sk-container-id-2 label.sk-toggleable__label-arrow:hover:before {color: black;}#sk-container-id-2 div.sk-estimator:hover label.sk-toggleable__label-arrow:before {color: black;}#sk-container-id-2 div.sk-toggleable__content {max-height: 0;max-width: 0;overflow: hidden;text-align: left;background-color: #f0f8ff;}#sk-container-id-2 div.sk-toggleable__content pre {margin: 0.2em;color: black;border-radius: 0.25em;background-color: #f0f8ff;}#sk-container-id-2 input.sk-toggleable__control:checked~div.sk-toggleable__content {max-height: 200px;max-width: 100%;overflow: auto;}#sk-container-id-2 input.sk-toggleable__control:checked~label.sk-toggleable__label-arrow:before {content: \"▾\";}#sk-container-id-2 div.sk-estimator input.sk-toggleable__control:checked~label.sk-toggleable__label {background-color: #d4ebff;}#sk-container-id-2 div.sk-label input.sk-toggleable__control:checked~label.sk-toggleable__label {background-color: #d4ebff;}#sk-container-id-2 input.sk-hidden--visually {border: 0;clip: rect(1px 1px 1px 1px);clip: rect(1px, 1px, 1px, 1px);height: 1px;margin: -1px;overflow: hidden;padding: 0;position: absolute;width: 1px;}#sk-container-id-2 div.sk-estimator {font-family: monospace;background-color: #f0f8ff;border: 1px dotted black;border-radius: 0.25em;box-sizing: border-box;margin-bottom: 0.5em;}#sk-container-id-2 div.sk-estimator:hover {background-color: #d4ebff;}#sk-container-id-2 div.sk-parallel-item::after {content: \"\";width: 100%;border-bottom: 1px solid gray;flex-grow: 1;}#sk-container-id-2 div.sk-label:hover label.sk-toggleable__label {background-color: #d4ebff;}#sk-container-id-2 div.sk-serial::before {content: \"\";position: absolute;border-left: 1px solid gray;box-sizing: border-box;top: 0;bottom: 0;left: 50%;z-index: 0;}#sk-container-id-2 div.sk-serial {display: flex;flex-direction: column;align-items: center;background-color: white;padding-right: 0.2em;padding-left: 0.2em;position: relative;}#sk-container-id-2 div.sk-item {position: relative;z-index: 1;}#sk-container-id-2 div.sk-parallel {display: flex;align-items: stretch;justify-content: center;background-color: white;position: relative;}#sk-container-id-2 div.sk-item::before, #sk-container-id-2 div.sk-parallel-item::before {content: \"\";position: absolute;border-left: 1px solid gray;box-sizing: border-box;top: 0;bottom: 0;left: 50%;z-index: -1;}#sk-container-id-2 div.sk-parallel-item {display: flex;flex-direction: column;z-index: 1;position: relative;background-color: white;}#sk-container-id-2 div.sk-parallel-item:first-child::after {align-self: flex-end;width: 50%;}#sk-container-id-2 div.sk-parallel-item:last-child::after {align-self: flex-start;width: 50%;}#sk-container-id-2 div.sk-parallel-item:only-child::after {width: 0;}#sk-container-id-2 div.sk-dashed-wrapped {border: 1px dashed gray;margin: 0 0.4em 0.5em 0.4em;box-sizing: border-box;padding-bottom: 0.4em;background-color: white;}#sk-container-id-2 div.sk-label label {font-family: monospace;font-weight: bold;display: inline-block;line-height: 1.2em;}#sk-container-id-2 div.sk-label-container {text-align: center;}#sk-container-id-2 div.sk-container {/* jupyter's `normalize.less` sets `[hidden] { display: none; }` but bootstrap.min.css set `[hidden] { display: none !important; }` so we also need the `!important` here to be able to override the default hidden behavior on the sphinx rendered scikit-learn.org. See: https://github.com/scikit-learn/scikit-learn/issues/21755 */display: inline-block !important;position: relative;}#sk-container-id-2 div.sk-text-repr-fallback {display: none;}</style><div id=\"sk-container-id-2\" class=\"sk-top-container\"><div class=\"sk-text-repr-fallback\"><pre>RandomForestClassifier(max_depth=8, n_estimators=130, random_state=0)</pre><b>In a Jupyter environment, please rerun this cell to show the HTML representation or trust the notebook. <br />On GitHub, the HTML representation is unable to render, please try loading this page with nbviewer.org.</b></div><div class=\"sk-container\" hidden><div class=\"sk-item\"><div class=\"sk-estimator sk-toggleable\"><input class=\"sk-toggleable__control sk-hidden--visually\" id=\"sk-estimator-id-2\" type=\"checkbox\" checked><label for=\"sk-estimator-id-2\" class=\"sk-toggleable__label sk-toggleable__label-arrow\">RandomForestClassifier</label><div class=\"sk-toggleable__content\"><pre>RandomForestClassifier(max_depth=8, n_estimators=130, random_state=0)</pre></div></div></div></div></div>"
      ],
      "text/plain": [
       "RandomForestClassifier(max_depth=8, n_estimators=130, random_state=0)"
      ]
     },
     "execution_count": 41,
     "metadata": {},
     "output_type": "execute_result"
    }
   ],
   "source": [
    "rand_forest"
   ]
  },
  {
   "cell_type": "code",
   "execution_count": 44,
   "id": "3d04569e-c121-4a60-9e4c-9c26d99922bf",
   "metadata": {},
   "outputs": [
    {
     "data": {
      "text/plain": [
       "0.2894442116106098"
      ]
     },
     "execution_count": 44,
     "metadata": {},
     "output_type": "execute_result"
    }
   ],
   "source": [
    "# Checking accuracy for decision tree using the training dataset to verify overfitting\n",
    "y_pred = dec_tree.predict(X_train)\n",
    "accuracy_score(y_train, y_pred)"
   ]
  },
  {
   "cell_type": "code",
   "execution_count": 42,
   "id": "ad766f74-a21f-4d2f-9b28-ae759d938f8c",
   "metadata": {},
   "outputs": [
    {
     "data": {
      "text/plain": [
       "0.2879249159947028"
      ]
     },
     "execution_count": 42,
     "metadata": {},
     "output_type": "execute_result"
    }
   ],
   "source": [
    "# Checking accuracy for decision tree\n",
    "y_pred = dec_tree.predict(X_test)\n",
    "accuracy_score(y_test, y_pred)"
   ]
  },
  {
   "cell_type": "code",
   "execution_count": 45,
   "id": "cae7acfc-56c3-4032-a9bb-5e6a1f90a827",
   "metadata": {},
   "outputs": [
    {
     "data": {
      "text/plain": [
       "0.2892523340890615"
      ]
     },
     "execution_count": 45,
     "metadata": {},
     "output_type": "execute_result"
    }
   ],
   "source": [
    "# Checking accuracy for random forest using the training dataset to verify overfitting\n",
    "y_pred = rand_forest.predict(X_train)\n",
    "accuracy_score(y_train, y_pred)"
   ]
  },
  {
   "cell_type": "code",
   "execution_count": 43,
   "id": "c735cc38-3a73-489f-a484-afac5a939efc",
   "metadata": {},
   "outputs": [
    {
     "data": {
      "text/plain": [
       "0.28766571311425193"
      ]
     },
     "execution_count": 43,
     "metadata": {},
     "output_type": "execute_result"
    }
   ],
   "source": [
    "# Checking accuracy for random forest\n",
    "y_pred = rand_forest.predict(X_test)\n",
    "accuracy_score(y_test, y_pred)"
   ]
  },
  {
   "cell_type": "markdown",
   "id": "53e68fb0-37bf-4a0f-a73f-e1c98a798068",
   "metadata": {},
   "source": [
    "## G\n",
    "Discuss about overfitting for both models and, also discuss which model is better for classification for your dataset and why? "
   ]
  },
  {
   "cell_type": "markdown",
   "id": "76889ad7-763e-47ee-8e44-cb3fe4ba54d6",
   "metadata": {},
   "source": [
    "It can be seen that both decision tree and random forest failed to produce good results for the classification and prediction of rank for military service members based on their race, grade, branch, and gender.  \n",
    "In retrospective, it makes sense that a dataset with so few input variables would not be enough to categorize the rank of military service members, as one big factor in rank is the experience, which is not included in this dataset. \n",
    "Another possible reason is that, as this is not taking age into consideration, new recruits that happen to share the same race, gender, and branch as a veteran would have the same input variables, but the rank would be very different.  \n",
    "As a conclusion, these models are not good prediction models for this dataset, or the dataset as it is cannot be used for prediction. "
   ]
  },
  {
   "cell_type": "markdown",
   "id": "fbd9bbde-3d36-4dfb-985d-b7c11eb55e2a",
   "metadata": {},
   "source": [
    "Neither of these models was overfitted, but neither of them provided good results. "
   ]
  }
 ],
 "metadata": {
  "kernelspec": {
   "display_name": "Python 3 (ipykernel)",
   "language": "python",
   "name": "python3"
  },
  "language_info": {
   "codemirror_mode": {
    "name": "ipython",
    "version": 3
   },
   "file_extension": ".py",
   "mimetype": "text/x-python",
   "name": "python",
   "nbconvert_exporter": "python",
   "pygments_lexer": "ipython3",
   "version": "3.10.12"
  }
 },
 "nbformat": 4,
 "nbformat_minor": 5
}
